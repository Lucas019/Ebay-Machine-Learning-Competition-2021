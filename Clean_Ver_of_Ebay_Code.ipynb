{
  "nbformat": 4,
  "nbformat_minor": 0,
  "metadata": {
    "colab": {
      "name": "Clean Ver of Ebay Code.ipynb",
      "provenance": [],
      "collapsed_sections": [
        "ptm24g5iOoHz",
        "vAiKpnuWqeJz",
        "NnQ7hjIzqYnw",
        "RttH8YRu5_O6",
        "-y-X67wZXpb7",
        "FvhJIubCjXmt",
        "Lbp1EBpmfx23",
        "RT1EzUJcuU5G",
        "1RRaVpahwsHo",
        "W15SJZiG7Seh",
        "elELaXu07KAI",
        "a29RnGNSfMcC",
        "obh9Q-nm1dLL",
        "tfLwrR_21aAq",
        "mLQ7Xkpf1xO6",
        "rI4Udsel4q7i",
        "r9QCYQEE6XFr",
        "8Y90r-9RqTyt",
        "6WXwGT_eqYmU"
      ],
      "machine_shape": "hm"
    },
    "kernelspec": {
      "name": "python3",
      "display_name": "Python 3"
    },
    "language_info": {
      "name": "python"
    },
    "widgets": {
      "application/vnd.jupyter.widget-state+json": {
        "d5b9dde045ad40b1a11e2551a65b01a1": {
          "model_module": "catboost-widget",
          "model_name": "CatboostWidgetModel",
          "model_module_version": "^1.0.0",
          "state": {
            "_view_name": "CatboostWidgetView",
            "_dom_classes": [],
            "_model_name": "CatboostWidgetModel",
            "data": {
              "catboost_info": {
                "content": {
                  "data": {
                    "meta": {
                      "name": "experiment",
                      "parameters": "",
                      "test_metrics": [
                        {
                          "best_value": "Min",
                          "name": "RMSE"
                        }
                      ],
                      "learn_sets": [
                        "learn"
                      ],
                      "launch_mode": "Train",
                      "learn_metrics": [
                        {
                          "best_value": "Min",
                          "name": "RMSE"
                        }
                      ],
                      "iteration_count": 1000,
                      "test_sets": [
                        "test"
                      ]
                    },
                    "iterations": [
                      {
                        "test": [
                          2.819615777
                        ],
                        "passed_time": 1.877553324,
                        "iteration": 0,
                        "remaining_time": 1875.675771,
                        "learn": [
                          2.750062709
                        ]
                      },
                      {
                        "test": [
                          2.590755632
                        ],
                        "passed_time": 3.66054023,
                        "iteration": 1,
                        "remaining_time": 1826.609575,
                        "learn": [
                          2.5259529
                        ]
                      },
                      {
                        "test": [
                          2.416822053
                        ],
                        "passed_time": 4.859117309,
                        "iteration": 2,
                        "remaining_time": 1614.846652,
                        "learn": [
                          2.356349319
                        ]
                      },
                      {
                        "test": [
                          2.286868913
                        ],
                        "passed_time": 6.622002882,
                        "iteration": 3,
                        "remaining_time": 1648.878718,
                        "learn": [
                          2.229784106
                        ]
                      },
                      {
                        "test": [
                          2.189819312
                        ],
                        "passed_time": 7.970069577,
                        "iteration": 4,
                        "remaining_time": 1586.043846,
                        "learn": [
                          2.135751956
                        ]
                      },
                      {
                        "test": [
                          2.117433344
                        ],
                        "passed_time": 9.569378069,
                        "iteration": 5,
                        "remaining_time": 1585.326967,
                        "learn": [
                          2.066047229
                        ]
                      },
                      {
                        "test": [
                          2.064237114
                        ],
                        "passed_time": 11.20276898,
                        "iteration": 6,
                        "remaining_time": 1589.1928,
                        "learn": [
                          2.01489533
                        ]
                      },
                      {
                        "test": [
                          2.02385718
                        ],
                        "passed_time": 12.67407352,
                        "iteration": 7,
                        "remaining_time": 1571.585117,
                        "learn": [
                          1.976183221
                        ]
                      },
                      {
                        "test": [
                          1.990016802
                        ],
                        "passed_time": 14.15168148,
                        "iteration": 8,
                        "remaining_time": 1558.257371,
                        "learn": [
                          1.944460561
                        ]
                      },
                      {
                        "test": [
                          1.965596071
                        ],
                        "passed_time": 15.86242033,
                        "iteration": 9,
                        "remaining_time": 1570.379613,
                        "learn": [
                          1.921201533
                        ]
                      },
                      {
                        "test": [
                          1.947651969
                        ],
                        "passed_time": 17.37683399,
                        "iteration": 10,
                        "remaining_time": 1562.335347,
                        "learn": [
                          1.903701374
                        ]
                      },
                      {
                        "test": [
                          1.933941753
                        ],
                        "passed_time": 18.71034182,
                        "iteration": 11,
                        "remaining_time": 1540.48481,
                        "learn": [
                          1.89032499
                        ]
                      },
                      {
                        "test": [
                          1.920759116
                        ],
                        "passed_time": 20.34496236,
                        "iteration": 12,
                        "remaining_time": 1544.652142,
                        "learn": [
                          1.878596542
                        ]
                      },
                      {
                        "test": [
                          1.91117326
                        ],
                        "passed_time": 22.22447476,
                        "iteration": 13,
                        "remaining_time": 1565.238008,
                        "learn": [
                          1.869252875
                        ]
                      },
                      {
                        "test": [
                          1.902414298
                        ],
                        "passed_time": 23.93428719,
                        "iteration": 14,
                        "remaining_time": 1571.684859,
                        "learn": [
                          1.861480198
                        ]
                      },
                      {
                        "test": [
                          1.895841652
                        ],
                        "passed_time": 25.91243968,
                        "iteration": 15,
                        "remaining_time": 1593.61504,
                        "learn": [
                          1.855416853
                        ]
                      },
                      {
                        "test": [
                          1.891039723
                        ],
                        "passed_time": 27.81016535,
                        "iteration": 16,
                        "remaining_time": 1608.081914,
                        "learn": [
                          1.850839424
                        ]
                      },
                      {
                        "test": [
                          1.884448323
                        ],
                        "passed_time": 30.03833871,
                        "iteration": 17,
                        "remaining_time": 1638.758256,
                        "learn": [
                          1.844642696
                        ]
                      },
                      {
                        "test": [
                          1.879719896
                        ],
                        "passed_time": 32.17568866,
                        "iteration": 18,
                        "remaining_time": 1661.281609,
                        "learn": [
                          1.840114723
                        ]
                      },
                      {
                        "test": [
                          1.876942197
                        ],
                        "passed_time": 33.20599837,
                        "iteration": 19,
                        "remaining_time": 1627.09392,
                        "learn": [
                          1.837234016
                        ]
                      },
                      {
                        "test": [
                          1.874020593
                        ],
                        "passed_time": 35.09270574,
                        "iteration": 20,
                        "remaining_time": 1635.98852,
                        "learn": [
                          1.834548849
                        ]
                      },
                      {
                        "test": [
                          1.869441137
                        ],
                        "passed_time": 36.36296697,
                        "iteration": 21,
                        "remaining_time": 1616.499168,
                        "learn": [
                          1.830827251
                        ]
                      },
                      {
                        "test": [
                          1.866619549
                        ],
                        "passed_time": 37.38083852,
                        "iteration": 22,
                        "remaining_time": 1587.87301,
                        "learn": [
                          1.828040586
                        ]
                      },
                      {
                        "test": [
                          1.864887836
                        ],
                        "passed_time": 39.30477288,
                        "iteration": 23,
                        "remaining_time": 1598.394097,
                        "learn": [
                          1.826071543
                        ]
                      },
                      {
                        "test": [
                          1.862765397
                        ],
                        "passed_time": 40.59893345,
                        "iteration": 24,
                        "remaining_time": 1583.358405,
                        "learn": [
                          1.8236439
                        ]
                      },
                      {
                        "test": [
                          1.860976554
                        ],
                        "passed_time": 42.4941814,
                        "iteration": 25,
                        "remaining_time": 1591.897411,
                        "learn": [
                          1.821887533
                        ]
                      },
                      {
                        "test": [
                          1.859822935
                        ],
                        "passed_time": 43.7265936,
                        "iteration": 26,
                        "remaining_time": 1575.776873,
                        "learn": [
                          1.820830646
                        ]
                      },
                      {
                        "test": [
                          1.858496571
                        ],
                        "passed_time": 45.25287875,
                        "iteration": 27,
                        "remaining_time": 1570.921362,
                        "learn": [
                          1.819560862
                        ]
                      },
                      {
                        "test": [
                          1.857429669
                        ],
                        "passed_time": 47.05134344,
                        "iteration": 28,
                        "remaining_time": 1575.408775,
                        "learn": [
                          1.818444141
                        ]
                      },
                      {
                        "test": [
                          1.856186893
                        ],
                        "passed_time": 48.712613,
                        "iteration": 29,
                        "remaining_time": 1575.041154,
                        "learn": [
                          1.817229577
                        ]
                      },
                      {
                        "test": [
                          1.855092771
                        ],
                        "passed_time": 49.87175785,
                        "iteration": 30,
                        "remaining_time": 1558.894624,
                        "learn": [
                          1.815572508
                        ]
                      },
                      {
                        "test": [
                          1.853666321
                        ],
                        "passed_time": 51.72673352,
                        "iteration": 31,
                        "remaining_time": 1564.733689,
                        "learn": [
                          1.813729919
                        ]
                      },
                      {
                        "test": [
                          1.853127355
                        ],
                        "passed_time": 52.98257785,
                        "iteration": 32,
                        "remaining_time": 1552.550084,
                        "learn": [
                          1.813063921
                        ]
                      },
                      {
                        "test": [
                          1.852622502
                        ],
                        "passed_time": 54.86422558,
                        "iteration": 33,
                        "remaining_time": 1558.789468,
                        "learn": [
                          1.812411173
                        ]
                      },
                      {
                        "test": [
                          1.852198405
                        ],
                        "passed_time": 56.58114889,
                        "iteration": 34,
                        "remaining_time": 1560.023105,
                        "learn": [
                          1.811873916
                        ]
                      },
                      {
                        "test": [
                          1.851078241
                        ],
                        "passed_time": 58.41041141,
                        "iteration": 35,
                        "remaining_time": 1564.101017,
                        "learn": [
                          1.810252832
                        ]
                      },
                      {
                        "test": [
                          1.850488068
                        ],
                        "passed_time": 60.33246887,
                        "iteration": 36,
                        "remaining_time": 1570.274798,
                        "learn": [
                          1.809401156
                        ]
                      },
                      {
                        "test": [
                          1.849703416
                        ],
                        "passed_time": 62.85537457,
                        "iteration": 37,
                        "remaining_time": 1591.23343,
                        "learn": [
                          1.808767023
                        ]
                      },
                      {
                        "test": [
                          1.849198939
                        ],
                        "passed_time": 64.44731521,
                        "iteration": 38,
                        "remaining_time": 1588.047947,
                        "learn": [
                          1.808231939
                        ]
                      },
                      {
                        "test": [
                          1.847942207
                        ],
                        "passed_time": 66.78816978,
                        "iteration": 39,
                        "remaining_time": 1602.916075,
                        "learn": [
                          1.806858421
                        ]
                      },
                      {
                        "test": [
                          1.847047733
                        ],
                        "passed_time": 68.88632199,
                        "iteration": 40,
                        "remaining_time": 1611.267873,
                        "learn": [
                          1.805929319
                        ]
                      },
                      {
                        "test": [
                          1.846542253
                        ],
                        "passed_time": 70.69576481,
                        "iteration": 41,
                        "remaining_time": 1612.536731,
                        "learn": [
                          1.805287965
                        ]
                      },
                      {
                        "test": [
                          1.846031504
                        ],
                        "passed_time": 72.57194513,
                        "iteration": 42,
                        "remaining_time": 1615.147709,
                        "learn": [
                          1.804743593
                        ]
                      },
                      {
                        "test": [
                          1.8454843
                        ],
                        "passed_time": 74.55329955,
                        "iteration": 43,
                        "remaining_time": 1619.839872,
                        "learn": [
                          1.80395248
                        ]
                      },
                      {
                        "test": [
                          1.845188018
                        ],
                        "passed_time": 76.31174925,
                        "iteration": 44,
                        "remaining_time": 1619.504901,
                        "learn": [
                          1.803542594
                        ]
                      },
                      {
                        "test": [
                          1.844583293
                        ],
                        "passed_time": 77.72800495,
                        "iteration": 45,
                        "remaining_time": 1612.011233,
                        "learn": [
                          1.802780253
                        ]
                      },
                      {
                        "test": [
                          1.844096552
                        ],
                        "passed_time": 79.37428508,
                        "iteration": 46,
                        "remaining_time": 1609.440291,
                        "learn": [
                          1.801549819
                        ]
                      },
                      {
                        "test": [
                          1.844101631
                        ],
                        "passed_time": 81.38076929,
                        "iteration": 47,
                        "remaining_time": 1614.051924,
                        "learn": [
                          1.800847868
                        ]
                      },
                      {
                        "test": [
                          1.843272014
                        ],
                        "passed_time": 83.10929603,
                        "iteration": 48,
                        "remaining_time": 1612.998786,
                        "learn": [
                          1.800100535
                        ]
                      },
                      {
                        "test": [
                          1.842757123
                        ],
                        "passed_time": 84.65048117,
                        "iteration": 49,
                        "remaining_time": 1608.359142,
                        "learn": [
                          1.79937415
                        ]
                      },
                      {
                        "test": [
                          1.842362716
                        ],
                        "passed_time": 85.71115135,
                        "iteration": 50,
                        "remaining_time": 1594.899659,
                        "learn": [
                          1.798807366
                        ]
                      },
                      {
                        "test": [
                          1.841825353
                        ],
                        "passed_time": 88.21047173,
                        "iteration": 51,
                        "remaining_time": 1608.144754,
                        "learn": [
                          1.798319801
                        ]
                      },
                      {
                        "test": [
                          1.841588111
                        ],
                        "passed_time": 89.7135024,
                        "iteration": 52,
                        "remaining_time": 1602.99409,
                        "learn": [
                          1.79782048
                        ]
                      },
                      {
                        "test": [
                          1.841394234
                        ],
                        "passed_time": 91.04611595,
                        "iteration": 53,
                        "remaining_time": 1594.993068,
                        "learn": [
                          1.797227534
                        ]
                      },
                      {
                        "test": [
                          1.840916381
                        ],
                        "passed_time": 92.84450721,
                        "iteration": 54,
                        "remaining_time": 1595.237442,
                        "learn": [
                          1.795903273
                        ]
                      },
                      {
                        "test": [
                          1.840630427
                        ],
                        "passed_time": 94.4216276,
                        "iteration": 55,
                        "remaining_time": 1591.678865,
                        "learn": [
                          1.795378072
                        ]
                      },
                      {
                        "test": [
                          1.839754778
                        ],
                        "passed_time": 97.14226334,
                        "iteration": 56,
                        "remaining_time": 1607.107971,
                        "learn": [
                          1.794399143
                        ]
                      },
                      {
                        "test": [
                          1.839399192
                        ],
                        "passed_time": 98.96535502,
                        "iteration": 57,
                        "remaining_time": 1607.333869,
                        "learn": [
                          1.793855192
                        ]
                      },
                      {
                        "test": [
                          1.839403188
                        ],
                        "passed_time": 100.5440001,
                        "iteration": 58,
                        "remaining_time": 1603.591595,
                        "learn": [
                          1.793366834
                        ]
                      },
                      {
                        "test": [
                          1.838832671
                        ],
                        "passed_time": 102.2948419,
                        "iteration": 59,
                        "remaining_time": 1602.61919,
                        "learn": [
                          1.79254872
                        ]
                      },
                      {
                        "test": [
                          1.838486538
                        ],
                        "passed_time": 104.6909961,
                        "iteration": 60,
                        "remaining_time": 1611.554842,
                        "learn": [
                          1.79216272
                        ]
                      },
                      {
                        "test": [
                          1.836689341
                        ],
                        "passed_time": 106.6593632,
                        "iteration": 61,
                        "remaining_time": 1613.652947,
                        "learn": [
                          1.791116491
                        ]
                      },
                      {
                        "test": [
                          1.836529864
                        ],
                        "passed_time": 108.5933643,
                        "iteration": 62,
                        "remaining_time": 1615.110831,
                        "learn": [
                          1.790401607
                        ]
                      },
                      {
                        "test": [
                          1.836290036
                        ],
                        "passed_time": 110.3652075,
                        "iteration": 63,
                        "remaining_time": 1614.09116,
                        "learn": [
                          1.789791002
                        ]
                      },
                      {
                        "test": [
                          1.835751439
                        ],
                        "passed_time": 112.1336232,
                        "iteration": 64,
                        "remaining_time": 1612.999041,
                        "learn": [
                          1.788844137
                        ]
                      },
                      {
                        "test": [
                          1.835616473
                        ],
                        "passed_time": 114.1567821,
                        "iteration": 65,
                        "remaining_time": 1615.491432,
                        "learn": [
                          1.788474714
                        ]
                      },
                      {
                        "test": [
                          1.835243889
                        ],
                        "passed_time": 115.8794177,
                        "iteration": 66,
                        "remaining_time": 1613.664129,
                        "learn": [
                          1.787955849
                        ]
                      },
                      {
                        "test": [
                          1.834426886
                        ],
                        "passed_time": 117.2685195,
                        "iteration": 67,
                        "remaining_time": 1607.268532,
                        "learn": [
                          1.787300668
                        ]
                      },
                      {
                        "test": [
                          1.83410645
                        ],
                        "passed_time": 119.8126385,
                        "iteration": 68,
                        "remaining_time": 1616.602412,
                        "learn": [
                          1.786955203
                        ]
                      },
                      {
                        "test": [
                          1.833874458
                        ],
                        "passed_time": 122.1756383,
                        "iteration": 69,
                        "remaining_time": 1623.190623,
                        "learn": [
                          1.78659673
                        ]
                      },
                      {
                        "test": [
                          1.833909746
                        ],
                        "passed_time": 125.3656023,
                        "iteration": 70,
                        "remaining_time": 1640.347107,
                        "learn": [
                          1.786264452
                        ]
                      },
                      {
                        "test": [
                          1.833457217
                        ],
                        "passed_time": 128.2231876,
                        "iteration": 71,
                        "remaining_time": 1652.654418,
                        "learn": [
                          1.785462556
                        ]
                      },
                      {
                        "test": [
                          1.833122039
                        ],
                        "passed_time": 130.883524,
                        "iteration": 72,
                        "remaining_time": 1662.041463,
                        "learn": [
                          1.78511642
                        ]
                      },
                      {
                        "test": [
                          1.832804518
                        ],
                        "passed_time": 132.5359466,
                        "iteration": 73,
                        "remaining_time": 1658.490358,
                        "learn": [
                          1.784844038
                        ]
                      },
                      {
                        "test": [
                          1.832524757
                        ],
                        "passed_time": 134.0690696,
                        "iteration": 74,
                        "remaining_time": 1653.518525,
                        "learn": [
                          1.784417549
                        ]
                      },
                      {
                        "test": [
                          1.832300805
                        ],
                        "passed_time": 136.1720976,
                        "iteration": 75,
                        "remaining_time": 1655.566028,
                        "learn": [
                          1.784090576
                        ]
                      },
                      {
                        "test": [
                          1.832041858
                        ],
                        "passed_time": 138.3943862,
                        "iteration": 76,
                        "remaining_time": 1658.935305,
                        "learn": [
                          1.783712957
                        ]
                      },
                      {
                        "test": [
                          1.832104622
                        ],
                        "passed_time": 140.2517475,
                        "iteration": 77,
                        "remaining_time": 1657.84758,
                        "learn": [
                          1.783481009
                        ]
                      },
                      {
                        "test": [
                          1.832032388
                        ],
                        "passed_time": 141.9609971,
                        "iteration": 78,
                        "remaining_time": 1655.01365,
                        "learn": [
                          1.782800993
                        ]
                      },
                      {
                        "test": [
                          1.831996855
                        ],
                        "passed_time": 143.8992212,
                        "iteration": 79,
                        "remaining_time": 1654.841044,
                        "learn": [
                          1.782514994
                        ]
                      },
                      {
                        "test": [
                          1.831961747
                        ],
                        "passed_time": 145.208024,
                        "iteration": 80,
                        "remaining_time": 1647.48363,
                        "learn": [
                          1.78144071
                        ]
                      },
                      {
                        "test": [
                          1.831703871
                        ],
                        "passed_time": 147.6733355,
                        "iteration": 81,
                        "remaining_time": 1653.221,
                        "learn": [
                          1.781171873
                        ]
                      },
                      {
                        "test": [
                          1.831303497
                        ],
                        "passed_time": 150.5758769,
                        "iteration": 82,
                        "remaining_time": 1663.591314,
                        "learn": [
                          1.780790157
                        ]
                      },
                      {
                        "test": [
                          1.831319391
                        ],
                        "passed_time": 152.5134071,
                        "iteration": 83,
                        "remaining_time": 1663.122391,
                        "learn": [
                          1.780366743
                        ]
                      },
                      {
                        "test": [
                          1.830984706
                        ],
                        "passed_time": 155.6562092,
                        "iteration": 84,
                        "remaining_time": 1675.593311,
                        "learn": [
                          1.779750075
                        ]
                      },
                      {
                        "test": [
                          1.830669168
                        ],
                        "passed_time": 156.978789,
                        "iteration": 85,
                        "remaining_time": 1668.355966,
                        "learn": [
                          1.779407158
                        ]
                      },
                      {
                        "test": [
                          1.830638243
                        ],
                        "passed_time": 158.6697183,
                        "iteration": 86,
                        "remaining_time": 1665.120147,
                        "learn": [
                          1.779325578
                        ]
                      },
                      {
                        "test": [
                          1.830708619
                        ],
                        "passed_time": 160.3740491,
                        "iteration": 87,
                        "remaining_time": 1662.058327,
                        "learn": [
                          1.778782588
                        ]
                      },
                      {
                        "test": [
                          1.830556736
                        ],
                        "passed_time": 161.8823509,
                        "iteration": 88,
                        "remaining_time": 1657.020468,
                        "learn": [
                          1.778459685
                        ]
                      },
                      {
                        "test": [
                          1.830520757
                        ],
                        "passed_time": 163.8048621,
                        "iteration": 89,
                        "remaining_time": 1656.249161,
                        "learn": [
                          1.778017378
                        ]
                      },
                      {
                        "test": [
                          1.83028186
                        ],
                        "passed_time": 166.380596,
                        "iteration": 90,
                        "remaining_time": 1661.977602,
                        "learn": [
                          1.777687285
                        ]
                      },
                      {
                        "test": [
                          1.830181534
                        ],
                        "passed_time": 168.331195,
                        "iteration": 91,
                        "remaining_time": 1661.355707,
                        "learn": [
                          1.77737726
                        ]
                      },
                      {
                        "test": [
                          1.830025989
                        ],
                        "passed_time": 169.9711499,
                        "iteration": 92,
                        "remaining_time": 1657.675624,
                        "learn": [
                          1.777171679
                        ]
                      },
                      {
                        "test": [
                          1.829908405
                        ],
                        "passed_time": 171.5100712,
                        "iteration": 93,
                        "remaining_time": 1653.065155,
                        "learn": [
                          1.77692415
                        ]
                      },
                      {
                        "test": [
                          1.829803085
                        ],
                        "passed_time": 173.490493,
                        "iteration": 94,
                        "remaining_time": 1652.725223,
                        "learn": [
                          1.776527202
                        ]
                      },
                      {
                        "test": [
                          1.82935602
                        ],
                        "passed_time": 175.7413234,
                        "iteration": 95,
                        "remaining_time": 1654.897462,
                        "learn": [
                          1.775392997
                        ]
                      },
                      {
                        "test": [
                          1.829314857
                        ],
                        "passed_time": 177.8024675,
                        "iteration": 96,
                        "remaining_time": 1655.212661,
                        "learn": [
                          1.775206951
                        ]
                      },
                      {
                        "test": [
                          1.82932069
                        ],
                        "passed_time": 179.5591273,
                        "iteration": 97,
                        "remaining_time": 1652.676866,
                        "learn": [
                          1.774988411
                        ]
                      },
                      {
                        "test": [
                          1.829289617
                        ],
                        "passed_time": 181.5214373,
                        "iteration": 98,
                        "remaining_time": 1652.028435,
                        "learn": [
                          1.77491285
                        ]
                      },
                      {
                        "test": [
                          1.8291551
                        ],
                        "passed_time": 183.2024371,
                        "iteration": 99,
                        "remaining_time": 1648.821934,
                        "learn": [
                          1.774553807
                        ]
                      },
                      {
                        "test": [
                          1.828904973
                        ],
                        "passed_time": 185.7601619,
                        "iteration": 100,
                        "remaining_time": 1653.449362,
                        "learn": [
                          1.774294012
                        ]
                      },
                      {
                        "test": [
                          1.828701464
                        ],
                        "passed_time": 187.4806046,
                        "iteration": 101,
                        "remaining_time": 1650.564539,
                        "learn": [
                          1.77413777
                        ]
                      },
                      {
                        "test": [
                          1.82850311
                        ],
                        "passed_time": 189.2514772,
                        "iteration": 102,
                        "remaining_time": 1648.141506,
                        "learn": [
                          1.773721756
                        ]
                      },
                      {
                        "test": [
                          1.828452796
                        ],
                        "passed_time": 191.398433,
                        "iteration": 103,
                        "remaining_time": 1648.971115,
                        "learn": [
                          1.773465238
                        ]
                      },
                      {
                        "test": [
                          1.828373256
                        ],
                        "passed_time": 193.4446076,
                        "iteration": 104,
                        "remaining_time": 1648.884989,
                        "learn": [
                          1.773346404
                        ]
                      },
                      {
                        "test": [
                          1.828649107
                        ],
                        "passed_time": 194.8405474,
                        "iteration": 105,
                        "remaining_time": 1643.277824,
                        "learn": [
                          1.772775502
                        ]
                      },
                      {
                        "test": [
                          1.828433454
                        ],
                        "passed_time": 196.8516422,
                        "iteration": 106,
                        "remaining_time": 1642.883331,
                        "learn": [
                          1.772452993
                        ]
                      },
                      {
                        "test": [
                          1.828190408
                        ],
                        "passed_time": 199.1211006,
                        "iteration": 107,
                        "remaining_time": 1644.592794,
                        "learn": [
                          1.772209887
                        ]
                      },
                      {
                        "test": [
                          1.828036371
                        ],
                        "passed_time": 200.4643502,
                        "iteration": 108,
                        "remaining_time": 1638.658129,
                        "learn": [
                          1.772055725
                        ]
                      },
                      {
                        "test": [
                          1.827704662
                        ],
                        "passed_time": 202.0977508,
                        "iteration": 109,
                        "remaining_time": 1635.154529,
                        "learn": [
                          1.771584349
                        ]
                      },
                      {
                        "test": [
                          1.827998551
                        ],
                        "passed_time": 204.0069918,
                        "iteration": 110,
                        "remaining_time": 1633.893836,
                        "learn": [
                          1.771147191
                        ]
                      },
                      {
                        "test": [
                          1.828223247
                        ],
                        "passed_time": 205.3690237,
                        "iteration": 111,
                        "remaining_time": 1628.282973,
                        "learn": [
                          1.77061558
                        ]
                      },
                      {
                        "test": [
                          1.828161507
                        ],
                        "passed_time": 208.2145721,
                        "iteration": 112,
                        "remaining_time": 1634.392261,
                        "learn": [
                          1.77048354
                        ]
                      },
                      {
                        "test": [
                          1.828037844
                        ],
                        "passed_time": 210.5738395,
                        "iteration": 113,
                        "remaining_time": 1636.565104,
                        "learn": [
                          1.770279369
                        ]
                      },
                      {
                        "test": [
                          1.827921699
                        ],
                        "passed_time": 212.6617637,
                        "iteration": 114,
                        "remaining_time": 1636.570964,
                        "learn": [
                          1.770058999
                        ]
                      },
                      {
                        "test": [
                          1.827753542
                        ],
                        "passed_time": 214.6574395,
                        "iteration": 115,
                        "remaining_time": 1635.837729,
                        "learn": [
                          1.769648517
                        ]
                      },
                      {
                        "test": [
                          1.827850282
                        ],
                        "passed_time": 216.2234572,
                        "iteration": 116,
                        "remaining_time": 1631.840279,
                        "learn": [
                          1.769191589
                        ]
                      },
                      {
                        "test": [
                          1.827887855
                        ],
                        "passed_time": 218.5429269,
                        "iteration": 117,
                        "remaining_time": 1633.515776,
                        "learn": [
                          1.769034339
                        ]
                      },
                      {
                        "test": [
                          1.827982676
                        ],
                        "passed_time": 220.1564276,
                        "iteration": 118,
                        "remaining_time": 1629.897586,
                        "learn": [
                          1.768787579
                        ]
                      },
                      {
                        "test": [
                          1.827581229
                        ],
                        "passed_time": 222.4689081,
                        "iteration": 119,
                        "remaining_time": 1631.43866,
                        "learn": [
                          1.768062396
                        ]
                      },
                      {
                        "test": [
                          1.827564659
                        ],
                        "passed_time": 224.4607999,
                        "iteration": 120,
                        "remaining_time": 1630.587133,
                        "learn": [
                          1.76799171
                        ]
                      },
                      {
                        "test": [
                          1.827491549
                        ],
                        "passed_time": 227.4109349,
                        "iteration": 121,
                        "remaining_time": 1636.613122,
                        "learn": [
                          1.767815016
                        ]
                      },
                      {
                        "test": [
                          1.827607528
                        ],
                        "passed_time": 229.4860307,
                        "iteration": 122,
                        "remaining_time": 1636.254056,
                        "learn": [
                          1.767213722
                        ]
                      },
                      {
                        "test": [
                          1.827432501
                        ],
                        "passed_time": 231.5969167,
                        "iteration": 123,
                        "remaining_time": 1636.120153,
                        "learn": [
                          1.766831262
                        ]
                      },
                      {
                        "test": [
                          1.827216885
                        ],
                        "passed_time": 232.6649128,
                        "iteration": 124,
                        "remaining_time": 1628.654389,
                        "learn": [
                          1.766332315
                        ]
                      },
                      {
                        "test": [
                          1.827182127
                        ],
                        "passed_time": 234.1779302,
                        "iteration": 125,
                        "remaining_time": 1624.377072,
                        "learn": [
                          1.76627072
                        ]
                      },
                      {
                        "test": [
                          1.827006682
                        ],
                        "passed_time": 236.0222376,
                        "iteration": 126,
                        "remaining_time": 1622.420578,
                        "learn": [
                          1.765970607
                        ]
                      },
                      {
                        "test": [
                          1.82697645
                        ],
                        "passed_time": 237.2634825,
                        "iteration": 127,
                        "remaining_time": 1616.357475,
                        "learn": [
                          1.765799917
                        ]
                      },
                      {
                        "test": [
                          1.826874115
                        ],
                        "passed_time": 239.5006225,
                        "iteration": 128,
                        "remaining_time": 1617.09335,
                        "learn": [
                          1.76554342
                        ]
                      },
                      {
                        "test": [
                          1.826808306
                        ],
                        "passed_time": 241.5157478,
                        "iteration": 129,
                        "remaining_time": 1616.297697,
                        "learn": [
                          1.765428033
                        ]
                      },
                      {
                        "test": [
                          1.826540058
                        ],
                        "passed_time": 242.7712834,
                        "iteration": 130,
                        "remaining_time": 1610.44462,
                        "learn": [
                          1.76484799
                        ]
                      },
                      {
                        "test": [
                          1.826377448
                        ],
                        "passed_time": 244.9056778,
                        "iteration": 131,
                        "remaining_time": 1610.440366,
                        "learn": [
                          1.764698559
                        ]
                      },
                      {
                        "test": [
                          1.826333264
                        ],
                        "passed_time": 246.5954759,
                        "iteration": 132,
                        "remaining_time": 1607.505847,
                        "learn": [
                          1.764502678
                        ]
                      },
                      {
                        "test": [
                          1.826391825
                        ],
                        "passed_time": 248.5464796,
                        "iteration": 133,
                        "remaining_time": 1606.277995,
                        "learn": [
                          1.76418955
                        ]
                      },
                      {
                        "test": [
                          1.825882561
                        ],
                        "passed_time": 250.1225541,
                        "iteration": 134,
                        "remaining_time": 1602.637106,
                        "learn": [
                          1.763637909
                        ]
                      },
                      {
                        "test": [
                          1.825692584
                        ],
                        "passed_time": 252.799864,
                        "iteration": 135,
                        "remaining_time": 1606.022665,
                        "learn": [
                          1.76345895
                        ]
                      },
                      {
                        "test": [
                          1.825537326
                        ],
                        "passed_time": 254.8318075,
                        "iteration": 136,
                        "remaining_time": 1605.254379,
                        "learn": [
                          1.763144249
                        ]
                      },
                      {
                        "test": [
                          1.825441235
                        ],
                        "passed_time": 256.9021046,
                        "iteration": 137,
                        "remaining_time": 1604.707349,
                        "learn": [
                          1.762957616
                        ]
                      },
                      {
                        "test": [
                          1.825316321
                        ],
                        "passed_time": 258.7412987,
                        "iteration": 138,
                        "remaining_time": 1602.706894,
                        "learn": [
                          1.762523413
                        ]
                      },
                      {
                        "test": [
                          1.82497754
                        ],
                        "passed_time": 260.3058271,
                        "iteration": 139,
                        "remaining_time": 1599.02151,
                        "learn": [
                          1.762012167
                        ]
                      },
                      {
                        "test": [
                          1.824964674
                        ],
                        "passed_time": 262.5779095,
                        "iteration": 140,
                        "remaining_time": 1599.676768,
                        "learn": [
                          1.761715944
                        ]
                      },
                      {
                        "test": [
                          1.82487792
                        ],
                        "passed_time": 264.6099705,
                        "iteration": 141,
                        "remaining_time": 1598.840526,
                        "learn": [
                          1.761580124
                        ]
                      },
                      {
                        "test": [
                          1.824884266
                        ],
                        "passed_time": 266.4826225,
                        "iteration": 142,
                        "remaining_time": 1597.03222,
                        "learn": [
                          1.761368934
                        ]
                      },
                      {
                        "test": [
                          1.824832362
                        ],
                        "passed_time": 268.1698638,
                        "iteration": 143,
                        "remaining_time": 1594.120857,
                        "learn": [
                          1.761162252
                        ]
                      },
                      {
                        "test": [
                          1.824597397
                        ],
                        "passed_time": 270.2730201,
                        "iteration": 144,
                        "remaining_time": 1593.678842,
                        "learn": [
                          1.76076112
                        ]
                      },
                      {
                        "test": [
                          1.824573363
                        ],
                        "passed_time": 272.316064,
                        "iteration": 145,
                        "remaining_time": 1592.862457,
                        "learn": [
                          1.760675575
                        ]
                      },
                      {
                        "test": [
                          1.824483739
                        ],
                        "passed_time": 274.1994253,
                        "iteration": 146,
                        "remaining_time": 1591.102788,
                        "learn": [
                          1.760403535
                        ]
                      },
                      {
                        "test": [
                          1.824318941
                        ],
                        "passed_time": 275.7340941,
                        "iteration": 147,
                        "remaining_time": 1587.334109,
                        "learn": [
                          1.759906214
                        ]
                      },
                      {
                        "test": [
                          1.824182373
                        ],
                        "passed_time": 278.4115061,
                        "iteration": 148,
                        "remaining_time": 1590.122092,
                        "learn": [
                          1.759778999
                        ]
                      },
                      {
                        "test": [
                          1.823990738
                        ],
                        "passed_time": 280.2736838,
                        "iteration": 149,
                        "remaining_time": 1588.217542,
                        "learn": [
                          1.759516121
                        ]
                      },
                      {
                        "test": [
                          1.824025246
                        ],
                        "passed_time": 281.87364,
                        "iteration": 150,
                        "remaining_time": 1584.839208,
                        "learn": [
                          1.759130815
                        ]
                      },
                      {
                        "test": [
                          1.824031532
                        ],
                        "passed_time": 283.5421269,
                        "iteration": 151,
                        "remaining_time": 1581.866603,
                        "learn": [
                          1.758865043
                        ]
                      },
                      {
                        "test": [
                          1.824130864
                        ],
                        "passed_time": 285.1926288,
                        "iteration": 152,
                        "remaining_time": 1578.811481,
                        "learn": [
                          1.758634193
                        ]
                      },
                      {
                        "test": [
                          1.824169534
                        ],
                        "passed_time": 287.5830623,
                        "iteration": 153,
                        "remaining_time": 1579.83942,
                        "learn": [
                          1.758225522
                        ]
                      },
                      {
                        "test": [
                          1.824012734
                        ],
                        "passed_time": 288.743768,
                        "iteration": 154,
                        "remaining_time": 1574.119251,
                        "learn": [
                          1.757518112
                        ]
                      },
                      {
                        "test": [
                          1.823967038
                        ],
                        "passed_time": 290.5614087,
                        "iteration": 155,
                        "remaining_time": 1572.011724,
                        "learn": [
                          1.757320233
                        ]
                      },
                      {
                        "test": [
                          1.823941843
                        ],
                        "passed_time": 292.2468081,
                        "iteration": 156,
                        "remaining_time": 1569.19783,
                        "learn": [
                          1.757056214
                        ]
                      },
                      {
                        "test": [
                          1.824060913
                        ],
                        "passed_time": 294.1299766,
                        "iteration": 157,
                        "remaining_time": 1567.452154,
                        "learn": [
                          1.75697362
                        ]
                      },
                      {
                        "test": [
                          1.824057068
                        ],
                        "passed_time": 296.4150619,
                        "iteration": 158,
                        "remaining_time": 1567.83061,
                        "learn": [
                          1.756828051
                        ]
                      },
                      {
                        "test": [
                          1.823919524
                        ],
                        "passed_time": 297.9069965,
                        "iteration": 159,
                        "remaining_time": 1564.011731,
                        "learn": [
                          1.756585198
                        ]
                      },
                      {
                        "test": [
                          1.823956442
                        ],
                        "passed_time": 299.2199268,
                        "iteration": 160,
                        "remaining_time": 1559.288935,
                        "learn": [
                          1.756190273
                        ]
                      },
                      {
                        "test": [
                          1.823900414
                        ],
                        "passed_time": 301.1632048,
                        "iteration": 161,
                        "remaining_time": 1557.868923,
                        "learn": [
                          1.755727769
                        ]
                      },
                      {
                        "test": [
                          1.823850237
                        ],
                        "passed_time": 303.4004018,
                        "iteration": 162,
                        "remaining_time": 1557.951756,
                        "learn": [
                          1.755453258
                        ]
                      },
                      {
                        "test": [
                          1.823487934
                        ],
                        "passed_time": 305.0018207,
                        "iteration": 163,
                        "remaining_time": 1554.765379,
                        "learn": [
                          1.754935379
                        ]
                      },
                      {
                        "test": [
                          1.823683575
                        ],
                        "passed_time": 306.6239195,
                        "iteration": 164,
                        "remaining_time": 1551.702865,
                        "learn": [
                          1.754225266
                        ]
                      },
                      {
                        "test": [
                          1.82354215
                        ],
                        "passed_time": 309.5308851,
                        "iteration": 165,
                        "remaining_time": 1555.113001,
                        "learn": [
                          1.754075725
                        ]
                      },
                      {
                        "test": [
                          1.823652258
                        ],
                        "passed_time": 311.1422273,
                        "iteration": 166,
                        "remaining_time": 1551.984882,
                        "learn": [
                          1.753961507
                        ]
                      },
                      {
                        "test": [
                          1.823612446
                        ],
                        "passed_time": 313.2659358,
                        "iteration": 167,
                        "remaining_time": 1551.412253,
                        "learn": [
                          1.753702064
                        ]
                      },
                      {
                        "test": [
                          1.823575935
                        ],
                        "passed_time": 315.2799624,
                        "iteration": 168,
                        "remaining_time": 1550.281945,
                        "learn": [
                          1.753457496
                        ]
                      },
                      {
                        "test": [
                          1.823416426
                        ],
                        "passed_time": 317.9060458,
                        "iteration": 169,
                        "remaining_time": 1552.129518,
                        "learn": [
                          1.752885635
                        ]
                      },
                      {
                        "test": [
                          1.823385767
                        ],
                        "passed_time": 320.6342113,
                        "iteration": 170,
                        "remaining_time": 1554.419656,
                        "learn": [
                          1.752478589
                        ]
                      },
                      {
                        "test": [
                          1.823307929
                        ],
                        "passed_time": 322.4213103,
                        "iteration": 171,
                        "remaining_time": 1552.121191,
                        "learn": [
                          1.751997487
                        ]
                      },
                      {
                        "test": [
                          1.823325498
                        ],
                        "passed_time": 324.3298929,
                        "iteration": 172,
                        "remaining_time": 1550.409372,
                        "learn": [
                          1.751701811
                        ]
                      },
                      {
                        "test": [
                          1.823334109
                        ],
                        "passed_time": 326.2991065,
                        "iteration": 173,
                        "remaining_time": 1548.983115,
                        "learn": [
                          1.751498601
                        ]
                      },
                      {
                        "test": [
                          1.823200851
                        ],
                        "passed_time": 327.8566533,
                        "iteration": 174,
                        "remaining_time": 1545.609937,
                        "learn": [
                          1.751015514
                        ]
                      },
                      {
                        "test": [
                          1.823084214
                        ],
                        "passed_time": 329.6490108,
                        "iteration": 175,
                        "remaining_time": 1543.356732,
                        "learn": [
                          1.750524799
                        ]
                      },
                      {
                        "test": [
                          1.822919095
                        ],
                        "passed_time": 332.2627008,
                        "iteration": 176,
                        "remaining_time": 1544.927699,
                        "learn": [
                          1.75039688
                        ]
                      },
                      {
                        "test": [
                          1.823037513
                        ],
                        "passed_time": 334.1051276,
                        "iteration": 177,
                        "remaining_time": 1542.889971,
                        "learn": [
                          1.750132589
                        ]
                      },
                      {
                        "test": [
                          1.823021886
                        ],
                        "passed_time": 335.9611617,
                        "iteration": 178,
                        "remaining_time": 1540.916837,
                        "learn": [
                          1.750120912
                        ]
                      },
                      {
                        "test": [
                          1.823119399
                        ],
                        "passed_time": 337.8437012,
                        "iteration": 179,
                        "remaining_time": 1539.06575,
                        "learn": [
                          1.74985865
                        ]
                      },
                      {
                        "test": [
                          1.823039629
                        ],
                        "passed_time": 338.9190511,
                        "iteration": 180,
                        "remaining_time": 1533.561894,
                        "learn": [
                          1.749693775
                        ]
                      },
                      {
                        "test": [
                          1.82305437
                        ],
                        "passed_time": 341.2135307,
                        "iteration": 181,
                        "remaining_time": 1533.586088,
                        "learn": [
                          1.749614807
                        ]
                      },
                      {
                        "test": [
                          1.823076006
                        ],
                        "passed_time": 342.6673252,
                        "iteration": 182,
                        "remaining_time": 1529.83172,
                        "learn": [
                          1.749342449
                        ]
                      },
                      {
                        "test": [
                          1.823105519
                        ],
                        "passed_time": 344.3948901,
                        "iteration": 183,
                        "remaining_time": 1527.316469,
                        "learn": [
                          1.749166406
                        ]
                      },
                      {
                        "test": [
                          1.823001792
                        ],
                        "passed_time": 345.6805102,
                        "iteration": 184,
                        "remaining_time": 1522.862788,
                        "learn": [
                          1.748929508
                        ]
                      },
                      {
                        "test": [
                          1.823046214
                        ],
                        "passed_time": 348.1413999,
                        "iteration": 185,
                        "remaining_time": 1523.586556,
                        "learn": [
                          1.748707819
                        ]
                      },
                      {
                        "test": [
                          1.823026043
                        ],
                        "passed_time": 349.6279031,
                        "iteration": 186,
                        "remaining_time": 1520.040028,
                        "learn": [
                          1.7484792
                        ]
                      },
                      {
                        "test": [
                          1.822881453
                        ],
                        "passed_time": 351.3107553,
                        "iteration": 187,
                        "remaining_time": 1517.363475,
                        "learn": [
                          1.748175542
                        ]
                      },
                      {
                        "test": [
                          1.822819071
                        ],
                        "passed_time": 353.989293,
                        "iteration": 188,
                        "remaining_time": 1518.969929,
                        "learn": [
                          1.747923299
                        ]
                      },
                      {
                        "test": [
                          1.822731528
                        ],
                        "passed_time": 355.5225548,
                        "iteration": 189,
                        "remaining_time": 1515.648786,
                        "learn": [
                          1.747616742
                        ]
                      },
                      {
                        "test": [
                          1.822748231
                        ],
                        "passed_time": 357.2838882,
                        "iteration": 190,
                        "remaining_time": 1513.312385,
                        "learn": [
                          1.747583148
                        ]
                      },
                      {
                        "test": [
                          1.822790616
                        ],
                        "passed_time": 359.2151352,
                        "iteration": 191,
                        "remaining_time": 1511.697027,
                        "learn": [
                          1.747245732
                        ]
                      },
                      {
                        "test": [
                          1.822726434
                        ],
                        "passed_time": 360.7954889,
                        "iteration": 192,
                        "remaining_time": 1508.611189,
                        "learn": [
                          1.747172235
                        ]
                      },
                      {
                        "test": [
                          1.822532881
                        ],
                        "passed_time": 362.8853075,
                        "iteration": 193,
                        "remaining_time": 1507.657515,
                        "learn": [
                          1.746758874
                        ]
                      },
                      {
                        "test": [
                          1.822576119
                        ],
                        "passed_time": 364.5355456,
                        "iteration": 194,
                        "remaining_time": 1504.877509,
                        "learn": [
                          1.74634269
                        ]
                      },
                      {
                        "test": [
                          1.82248702
                        ],
                        "passed_time": 366.0251618,
                        "iteration": 195,
                        "remaining_time": 1501.450153,
                        "learn": [
                          1.746177115
                        ]
                      },
                      {
                        "test": [
                          1.82234921
                        ],
                        "passed_time": 368.1894656,
                        "iteration": 196,
                        "remaining_time": 1500.792593,
                        "learn": [
                          1.746049956
                        ]
                      },
                      {
                        "test": [
                          1.822314516
                        ],
                        "passed_time": 370.6787914,
                        "iteration": 197,
                        "remaining_time": 1501.436317,
                        "learn": [
                          1.745804625
                        ]
                      },
                      {
                        "test": [
                          1.822025603
                        ],
                        "passed_time": 372.3580502,
                        "iteration": 198,
                        "remaining_time": 1498.787931,
                        "learn": [
                          1.745509195
                        ]
                      },
                      {
                        "test": [
                          1.822090076
                        ],
                        "passed_time": 374.5918607,
                        "iteration": 199,
                        "remaining_time": 1498.367443,
                        "learn": [
                          1.745314673
                        ]
                      },
                      {
                        "test": [
                          1.821986462
                        ],
                        "passed_time": 376.8991563,
                        "iteration": 200,
                        "remaining_time": 1498.221024,
                        "learn": [
                          1.745081963
                        ]
                      },
                      {
                        "test": [
                          1.821803461
                        ],
                        "passed_time": 378.8820873,
                        "iteration": 201,
                        "remaining_time": 1496.77181,
                        "learn": [
                          1.744746388
                        ]
                      },
                      {
                        "test": [
                          1.821686008
                        ],
                        "passed_time": 380.404541,
                        "iteration": 202,
                        "remaining_time": 1493.509454,
                        "learn": [
                          1.744596993
                        ]
                      },
                      {
                        "test": [
                          1.821633922
                        ],
                        "passed_time": 382.0559185,
                        "iteration": 203,
                        "remaining_time": 1490.767211,
                        "learn": [
                          1.744340102
                        ]
                      },
                      {
                        "test": [
                          1.821678399
                        ],
                        "passed_time": 383.6883672,
                        "iteration": 204,
                        "remaining_time": 1487.962205,
                        "learn": [
                          1.744022848
                        ]
                      },
                      {
                        "test": [
                          1.821659675
                        ],
                        "passed_time": 386.3015794,
                        "iteration": 205,
                        "remaining_time": 1488.948806,
                        "learn": [
                          1.743705821
                        ]
                      },
                      {
                        "test": [
                          1.821744195
                        ],
                        "passed_time": 388.4603731,
                        "iteration": 206,
                        "remaining_time": 1488.159787,
                        "learn": [
                          1.743529483
                        ]
                      },
                      {
                        "test": [
                          1.822073157
                        ],
                        "passed_time": 390.4495922,
                        "iteration": 207,
                        "remaining_time": 1486.711909,
                        "learn": [
                          1.743256328
                        ]
                      },
                      {
                        "test": [
                          1.822189062
                        ],
                        "passed_time": 392.5545196,
                        "iteration": 208,
                        "remaining_time": 1485.69677,
                        "learn": [
                          1.742629357
                        ]
                      },
                      {
                        "test": [
                          1.822286081
                        ],
                        "passed_time": 394.1697182,
                        "iteration": 209,
                        "remaining_time": 1482.82894,
                        "learn": [
                          1.742523551
                        ]
                      },
                      {
                        "test": [
                          1.822345403
                        ],
                        "passed_time": 397.0703416,
                        "iteration": 210,
                        "remaining_time": 1484.779619,
                        "learn": [
                          1.742290778
                        ]
                      },
                      {
                        "test": [
                          1.821970439
                        ],
                        "passed_time": 399.495109,
                        "iteration": 211,
                        "remaining_time": 1484.915782,
                        "learn": [
                          1.741973809
                        ]
                      },
                      {
                        "test": [
                          1.821954625
                        ],
                        "passed_time": 401.4232826,
                        "iteration": 212,
                        "remaining_time": 1483.193067,
                        "learn": [
                          1.741769628
                        ]
                      },
                      {
                        "test": [
                          1.821983193
                        ],
                        "passed_time": 403.4112911,
                        "iteration": 213,
                        "remaining_time": 1481.6882,
                        "learn": [
                          1.741624301
                        ]
                      },
                      {
                        "test": [
                          1.822165245
                        ],
                        "passed_time": 404.6232737,
                        "iteration": 214,
                        "remaining_time": 1477.345441,
                        "learn": [
                          1.741183849
                        ]
                      },
                      {
                        "test": [
                          1.822127311
                        ],
                        "passed_time": 406.0291462,
                        "iteration": 215,
                        "remaining_time": 1473.73542,
                        "learn": [
                          1.740918161
                        ]
                      },
                      {
                        "test": [
                          1.821983562
                        ],
                        "passed_time": 407.7102304,
                        "iteration": 216,
                        "remaining_time": 1471.138758,
                        "learn": [
                          1.740189006
                        ]
                      },
                      {
                        "test": [
                          1.822096828
                        ],
                        "passed_time": 409.1099959,
                        "iteration": 217,
                        "remaining_time": 1467.541361,
                        "learn": [
                          1.739964624
                        ]
                      },
                      {
                        "test": [
                          1.821877464
                        ],
                        "passed_time": 410.8311049,
                        "iteration": 218,
                        "remaining_time": 1465.110013,
                        "learn": [
                          1.73971332
                        ]
                      },
                      {
                        "test": [
                          1.821787621
                        ],
                        "passed_time": 413.4846919,
                        "iteration": 219,
                        "remaining_time": 1465.99118,
                        "learn": [
                          1.73930556
                        ]
                      },
                      {
                        "test": [
                          1.821792931
                        ],
                        "passed_time": 415.5422829,
                        "iteration": 220,
                        "remaining_time": 1464.73954,
                        "learn": [
                          1.739077144
                        ]
                      },
                      {
                        "test": [
                          1.821843211
                        ],
                        "passed_time": 417.4365603,
                        "iteration": 221,
                        "remaining_time": 1462.908306,
                        "learn": [
                          1.738901163
                        ]
                      },
                      {
                        "test": [
                          1.821795239
                        ],
                        "passed_time": 419.7839886,
                        "iteration": 222,
                        "remaining_time": 1462.655422,
                        "learn": [
                          1.738799704
                        ]
                      },
                      {
                        "test": [
                          1.821392718
                        ],
                        "passed_time": 422.1654879,
                        "iteration": 223,
                        "remaining_time": 1462.501869,
                        "learn": [
                          1.738515149
                        ]
                      },
                      {
                        "test": [
                          1.821265368
                        ],
                        "passed_time": 424.3287895,
                        "iteration": 224,
                        "remaining_time": 1461.576942,
                        "learn": [
                          1.738357099
                        ]
                      },
                      {
                        "test": [
                          1.82126716
                        ],
                        "passed_time": 426.3747251,
                        "iteration": 225,
                        "remaining_time": 1460.239103,
                        "learn": [
                          1.738330016
                        ]
                      },
                      {
                        "test": [
                          1.821237202
                        ],
                        "passed_time": 428.0065217,
                        "iteration": 226,
                        "remaining_time": 1457.484763,
                        "learn": [
                          1.737995773
                        ]
                      },
                      {
                        "test": [
                          1.821235894
                        ],
                        "passed_time": 430.2680325,
                        "iteration": 227,
                        "remaining_time": 1456.872461,
                        "learn": [
                          1.737674077
                        ]
                      },
                      {
                        "test": [
                          1.821155293
                        ],
                        "passed_time": 432.556805,
                        "iteration": 228,
                        "remaining_time": 1456.33754,
                        "learn": [
                          1.737501444
                        ]
                      },
                      {
                        "test": [
                          1.821120754
                        ],
                        "passed_time": 434.7777918,
                        "iteration": 229,
                        "remaining_time": 1455.560433,
                        "learn": [
                          1.737314481
                        ]
                      },
                      {
                        "test": [
                          1.821236791
                        ],
                        "passed_time": 437.2874451,
                        "iteration": 230,
                        "remaining_time": 1455.731798,
                        "learn": [
                          1.737068472
                        ]
                      },
                      {
                        "test": [
                          1.821143458
                        ],
                        "passed_time": 438.918293,
                        "iteration": 231,
                        "remaining_time": 1452.970901,
                        "learn": [
                          1.736904556
                        ]
                      },
                      {
                        "test": [
                          1.821085355
                        ],
                        "passed_time": 440.5988014,
                        "iteration": 232,
                        "remaining_time": 1450.383179,
                        "learn": [
                          1.736438695
                        ]
                      },
                      {
                        "test": [
                          1.820994861
                        ],
                        "passed_time": 443.057252,
                        "iteration": 233,
                        "remaining_time": 1450.349808,
                        "learn": [
                          1.736336619
                        ]
                      },
                      {
                        "test": [
                          1.820867601
                        ],
                        "passed_time": 444.4467402,
                        "iteration": 234,
                        "remaining_time": 1446.815984,
                        "learn": [
                          1.735956739
                        ]
                      },
                      {
                        "test": [
                          1.820941267
                        ],
                        "passed_time": 446.0997673,
                        "iteration": 235,
                        "remaining_time": 1444.153484,
                        "learn": [
                          1.735547255
                        ]
                      },
                      {
                        "test": [
                          1.820888713
                        ],
                        "passed_time": 447.8435843,
                        "iteration": 236,
                        "remaining_time": 1441.791792,
                        "learn": [
                          1.735437896
                        ]
                      },
                      {
                        "test": [
                          1.820887052
                        ],
                        "passed_time": 449.5719121,
                        "iteration": 237,
                        "remaining_time": 1439.385702,
                        "learn": [
                          1.735419533
                        ]
                      },
                      {
                        "test": [
                          1.820859361
                        ],
                        "passed_time": 451.474986,
                        "iteration": 238,
                        "remaining_time": 1437.541692,
                        "learn": [
                          1.735388558
                        ]
                      },
                      {
                        "test": [
                          1.82103222
                        ],
                        "passed_time": 453.6196158,
                        "iteration": 239,
                        "remaining_time": 1436.462117,
                        "learn": [
                          1.735188232
                        ]
                      },
                      {
                        "test": [
                          1.820936181
                        ],
                        "passed_time": 456.0732451,
                        "iteration": 240,
                        "remaining_time": 1436.346859,
                        "learn": [
                          1.735143327
                        ]
                      },
                      {
                        "test": [
                          1.820939558
                        ],
                        "passed_time": 458.7027681,
                        "iteration": 241,
                        "remaining_time": 1436.763216,
                        "learn": [
                          1.7351115
                        ]
                      },
                      {
                        "test": [
                          1.820539126
                        ],
                        "passed_time": 460.3376301,
                        "iteration": 242,
                        "remaining_time": 1434.055909,
                        "learn": [
                          1.734650636
                        ]
                      },
                      {
                        "test": [
                          1.820700201
                        ],
                        "passed_time": 462.2258675,
                        "iteration": 243,
                        "remaining_time": 1432.142442,
                        "learn": [
                          1.73439294
                        ]
                      },
                      {
                        "test": [
                          1.820573065
                        ],
                        "passed_time": 463.8111868,
                        "iteration": 244,
                        "remaining_time": 1429.295698,
                        "learn": [
                          1.734101491
                        ]
                      },
                      {
                        "test": [
                          1.820518283
                        ],
                        "passed_time": 465.4137893,
                        "iteration": 245,
                        "remaining_time": 1426.512184,
                        "learn": [
                          1.733963761
                        ]
                      },
                      {
                        "test": [
                          1.820244403
                        ],
                        "passed_time": 467.4953376,
                        "iteration": 246,
                        "remaining_time": 1425.198337,
                        "learn": [
                          1.73357657
                        ]
                      },
                      {
                        "test": [
                          1.820121257
                        ],
                        "passed_time": 469.9930652,
                        "iteration": 247,
                        "remaining_time": 1425.140262,
                        "learn": [
                          1.733466502
                        ]
                      },
                      {
                        "test": [
                          1.819957984
                        ],
                        "passed_time": 472.000345,
                        "iteration": 248,
                        "remaining_time": 1423.58337,
                        "learn": [
                          1.733170657
                        ]
                      },
                      {
                        "test": [
                          1.81973506
                        ],
                        "passed_time": 473.8846146,
                        "iteration": 249,
                        "remaining_time": 1421.653844,
                        "learn": [
                          1.732904548
                        ]
                      },
                      {
                        "test": [
                          1.81959562
                        ],
                        "passed_time": 475.3354234,
                        "iteration": 250,
                        "remaining_time": 1418.431204,
                        "learn": [
                          1.732695362
                        ]
                      },
                      {
                        "test": [
                          1.81958099
                        ],
                        "passed_time": 477.4627242,
                        "iteration": 251,
                        "remaining_time": 1417.230626,
                        "learn": [
                          1.732357901
                        ]
                      },
                      {
                        "test": [
                          1.819608485
                        ],
                        "passed_time": 479.5892821,
                        "iteration": 252,
                        "remaining_time": 1416.020529,
                        "learn": [
                          1.732279474
                        ]
                      },
                      {
                        "test": [
                          1.819467098
                        ],
                        "passed_time": 480.871391,
                        "iteration": 253,
                        "remaining_time": 1412.323062,
                        "learn": [
                          1.732018946
                        ]
                      },
                      {
                        "test": [
                          1.819444997
                        ],
                        "passed_time": 483.2319327,
                        "iteration": 254,
                        "remaining_time": 1411.795254,
                        "learn": [
                          1.731861569
                        ]
                      },
                      {
                        "test": [
                          1.819450619
                        ],
                        "passed_time": 485.0296611,
                        "iteration": 255,
                        "remaining_time": 1409.617453,
                        "learn": [
                          1.731692781
                        ]
                      },
                      {
                        "test": [
                          1.818569783
                        ],
                        "passed_time": 487.7320136,
                        "iteration": 256,
                        "remaining_time": 1410.057923,
                        "learn": [
                          1.731264908
                        ]
                      },
                      {
                        "test": [
                          1.818461885
                        ],
                        "passed_time": 489.6234084,
                        "iteration": 257,
                        "remaining_time": 1408.14174,
                        "learn": [
                          1.730880387
                        ]
                      },
                      {
                        "test": [
                          1.818338218
                        ],
                        "passed_time": 492.2247896,
                        "iteration": 258,
                        "remaining_time": 1408.257024,
                        "learn": [
                          1.730655027
                        ]
                      },
                      {
                        "test": [
                          1.818263292
                        ],
                        "passed_time": 494.583249,
                        "iteration": 259,
                        "remaining_time": 1407.660016,
                        "learn": [
                          1.730517277
                        ]
                      },
                      {
                        "test": [
                          1.818465876
                        ],
                        "passed_time": 496.0605229,
                        "iteration": 260,
                        "remaining_time": 1404.554507,
                        "learn": [
                          1.730198133
                        ]
                      },
                      {
                        "test": [
                          1.818427892
                        ],
                        "passed_time": 498.2318308,
                        "iteration": 261,
                        "remaining_time": 1403.416378,
                        "learn": [
                          1.729950941
                        ]
                      },
                      {
                        "test": [
                          1.818437283
                        ],
                        "passed_time": 500.3481323,
                        "iteration": 262,
                        "remaining_time": 1402.116249,
                        "learn": [
                          1.729877442
                        ]
                      },
                      {
                        "test": [
                          1.818402096
                        ],
                        "passed_time": 502.1863487,
                        "iteration": 263,
                        "remaining_time": 1400.034669,
                        "learn": [
                          1.729741395
                        ]
                      },
                      {
                        "test": [
                          1.818366036
                        ],
                        "passed_time": 503.8867141,
                        "iteration": 264,
                        "remaining_time": 1397.572584,
                        "learn": [
                          1.729409321
                        ]
                      },
                      {
                        "test": [
                          1.818238718
                        ],
                        "passed_time": 505.7421225,
                        "iteration": 265,
                        "remaining_time": 1395.544052,
                        "learn": [
                          1.729152697
                        ]
                      },
                      {
                        "test": [
                          1.818283687
                        ],
                        "passed_time": 507.4181533,
                        "iteration": 266,
                        "remaining_time": 1393.024368,
                        "learn": [
                          1.728843032
                        ]
                      },
                      {
                        "test": [
                          1.817797466
                        ],
                        "passed_time": 509.7441216,
                        "iteration": 267,
                        "remaining_time": 1392.286183,
                        "learn": [
                          1.728407281
                        ]
                      },
                      {
                        "test": [
                          1.817732977
                        ],
                        "passed_time": 511.6541042,
                        "iteration": 268,
                        "remaining_time": 1390.405763,
                        "learn": [
                          1.728349596
                        ]
                      },
                      {
                        "test": [
                          1.817700454
                        ],
                        "passed_time": 514.0631403,
                        "iteration": 269,
                        "remaining_time": 1389.874416,
                        "learn": [
                          1.728239433
                        ]
                      },
                      {
                        "test": [
                          1.817761241
                        ],
                        "passed_time": 516.5675002,
                        "iteration": 270,
                        "remaining_time": 1389.585637,
                        "learn": [
                          1.727995224
                        ]
                      },
                      {
                        "test": [
                          1.817567594
                        ],
                        "passed_time": 518.5283083,
                        "iteration": 271,
                        "remaining_time": 1387.825766,
                        "learn": [
                          1.727564458
                        ]
                      },
                      {
                        "test": [
                          1.817478558
                        ],
                        "passed_time": 520.1201868,
                        "iteration": 272,
                        "remaining_time": 1385.081963,
                        "learn": [
                          1.727125355
                        ]
                      },
                      {
                        "test": [
                          1.817464828
                        ],
                        "passed_time": 521.8104957,
                        "iteration": 273,
                        "remaining_time": 1382.607372,
                        "learn": [
                          1.727000274
                        ]
                      },
                      {
                        "test": [
                          1.81758858
                        ],
                        "passed_time": 523.6907204,
                        "iteration": 274,
                        "remaining_time": 1380.639172,
                        "learn": [
                          1.726793043
                        ]
                      },
                      {
                        "test": [
                          1.817792865
                        ],
                        "passed_time": 525.9675702,
                        "iteration": 275,
                        "remaining_time": 1379.712032,
                        "learn": [
                          1.726637406
                        ]
                      },
                      {
                        "test": [
                          1.817694839
                        ],
                        "passed_time": 528.4498215,
                        "iteration": 276,
                        "remaining_time": 1379.311267,
                        "learn": [
                          1.726441173
                        ]
                      },
                      {
                        "test": [
                          1.817703003
                        ],
                        "passed_time": 530.0291273,
                        "iteration": 277,
                        "remaining_time": 1376.550467,
                        "learn": [
                          1.726378079
                        ]
                      },
                      {
                        "test": [
                          1.817601453
                        ],
                        "passed_time": 532.5953057,
                        "iteration": 278,
                        "remaining_time": 1376.348442,
                        "learn": [
                          1.726246753
                        ]
                      },
                      {
                        "test": [
                          1.81763221
                        ],
                        "passed_time": 534.5311145,
                        "iteration": 279,
                        "remaining_time": 1374.50858,
                        "learn": [
                          1.726157107
                        ]
                      },
                      {
                        "test": [
                          1.81772719
                        ],
                        "passed_time": 536.3936791,
                        "iteration": 280,
                        "remaining_time": 1372.480624,
                        "learn": [
                          1.72582828
                        ]
                      },
                      {
                        "test": [
                          1.817702779
                        ],
                        "passed_time": 538.2620958,
                        "iteration": 281,
                        "remaining_time": 1370.46874,
                        "learn": [
                          1.72566436
                        ]
                      },
                      {
                        "test": [
                          1.817708372
                        ],
                        "passed_time": 539.6658481,
                        "iteration": 282,
                        "remaining_time": 1367.280612,
                        "learn": [
                          1.72547789
                        ]
                      },
                      {
                        "test": [
                          1.817859191
                        ],
                        "passed_time": 541.1978913,
                        "iteration": 283,
                        "remaining_time": 1364.428486,
                        "learn": [
                          1.725298975
                        ]
                      },
                      {
                        "test": [
                          1.817684148
                        ],
                        "passed_time": 543.4314817,
                        "iteration": 284,
                        "remaining_time": 1363.345647,
                        "learn": [
                          1.725127446
                        ]
                      },
                      {
                        "test": [
                          1.817651691
                        ],
                        "passed_time": 545.1072822,
                        "iteration": 285,
                        "remaining_time": 1360.862236,
                        "learn": [
                          1.724928918
                        ]
                      },
                      {
                        "test": [
                          1.817767129
                        ],
                        "passed_time": 547.6759742,
                        "iteration": 286,
                        "remaining_time": 1360.602681,
                        "learn": [
                          1.724764241
                        ]
                      },
                      {
                        "test": [
                          1.817713192
                        ],
                        "passed_time": 549.5632186,
                        "iteration": 287,
                        "remaining_time": 1358.642401,
                        "learn": [
                          1.724673679
                        ]
                      },
                      {
                        "test": [
                          1.817698044
                        ],
                        "passed_time": 551.5411554,
                        "iteration": 288,
                        "remaining_time": 1356.905749,
                        "learn": [
                          1.724486248
                        ]
                      },
                      {
                        "test": [
                          1.817620288
                        ],
                        "passed_time": 553.6017635,
                        "iteration": 289,
                        "remaining_time": 1355.369835,
                        "learn": [
                          1.724393109
                        ]
                      },
                      {
                        "test": [
                          1.817584033
                        ],
                        "passed_time": 555.2502246,
                        "iteration": 290,
                        "remaining_time": 1352.826149,
                        "learn": [
                          1.72419959
                        ]
                      },
                      {
                        "test": [
                          1.817335959
                        ],
                        "passed_time": 557.6726231,
                        "iteration": 291,
                        "remaining_time": 1352.165127,
                        "learn": [
                          1.723974446
                        ]
                      },
                      {
                        "test": [
                          1.81739639
                        ],
                        "passed_time": 560.0230495,
                        "iteration": 292,
                        "remaining_time": 1351.318416,
                        "learn": [
                          1.723887679
                        ]
                      },
                      {
                        "test": [
                          1.817413605
                        ],
                        "passed_time": 562.1366084,
                        "iteration": 293,
                        "remaining_time": 1349.892672,
                        "learn": [
                          1.723826485
                        ]
                      },
                      {
                        "test": [
                          1.817590091
                        ],
                        "passed_time": 563.9185811,
                        "iteration": 294,
                        "remaining_time": 1347.669829,
                        "learn": [
                          1.723564566
                        ]
                      },
                      {
                        "test": [
                          1.817688235
                        ],
                        "passed_time": 565.5950888,
                        "iteration": 295,
                        "remaining_time": 1345.19913,
                        "learn": [
                          1.723349337
                        ]
                      },
                      {
                        "test": [
                          1.817762666
                        ],
                        "passed_time": 567.170108,
                        "iteration": 296,
                        "remaining_time": 1342.493555,
                        "learn": [
                          1.723044724
                        ]
                      },
                      {
                        "test": [
                          1.817729924
                        ],
                        "passed_time": 569.1426825,
                        "iteration": 297,
                        "remaining_time": 1340.732091,
                        "learn": [
                          1.722995851
                        ]
                      },
                      {
                        "test": [
                          1.817754384
                        ],
                        "passed_time": 571.0265654,
                        "iteration": 298,
                        "remaining_time": 1338.761279,
                        "learn": [
                          1.722741394
                        ]
                      },
                      {
                        "test": [
                          1.817759116
                        ],
                        "passed_time": 573.3912042,
                        "iteration": 299,
                        "remaining_time": 1337.91281,
                        "learn": [
                          1.722724667
                        ]
                      },
                      {
                        "test": [
                          1.817667988
                        ],
                        "passed_time": 575.0331328,
                        "iteration": 300,
                        "remaining_time": 1335.375946,
                        "learn": [
                          1.722609334
                        ]
                      },
                      {
                        "test": [
                          1.817654495
                        ],
                        "passed_time": 576.5379564,
                        "iteration": 301,
                        "remaining_time": 1332.528124,
                        "learn": [
                          1.722457404
                        ]
                      },
                      {
                        "test": [
                          1.817603477
                        ],
                        "passed_time": 578.2272115,
                        "iteration": 302,
                        "remaining_time": 1330.11342,
                        "learn": [
                          1.722179427
                        ]
                      },
                      {
                        "test": [
                          1.81752008
                        ],
                        "passed_time": 580.1236859,
                        "iteration": 303,
                        "remaining_time": 1328.177912,
                        "learn": [
                          1.721835628
                        ]
                      },
                      {
                        "test": [
                          1.817188849
                        ],
                        "passed_time": 581.3308283,
                        "iteration": 304,
                        "remaining_time": 1324.671888,
                        "learn": [
                          1.721294072
                        ]
                      },
                      {
                        "test": [
                          1.817201793
                        ],
                        "passed_time": 582.9917611,
                        "iteration": 305,
                        "remaining_time": 1322.210073,
                        "learn": [
                          1.721216784
                        ]
                      },
                      {
                        "test": [
                          1.817075206
                        ],
                        "passed_time": 585.2492093,
                        "iteration": 306,
                        "remaining_time": 1321.100007,
                        "learn": [
                          1.72092174
                        ]
                      },
                      {
                        "test": [
                          1.817123303
                        ],
                        "passed_time": 586.8569263,
                        "iteration": 307,
                        "remaining_time": 1318.522705,
                        "learn": [
                          1.72074541
                        ]
                      },
                      {
                        "test": [
                          1.81707573
                        ],
                        "passed_time": 589.0336808,
                        "iteration": 308,
                        "remaining_time": 1317.224186,
                        "learn": [
                          1.720669484
                        ]
                      },
                      {
                        "test": [
                          1.817339437
                        ],
                        "passed_time": 590.7482678,
                        "iteration": 309,
                        "remaining_time": 1314.891306,
                        "learn": [
                          1.720079668
                        ]
                      },
                      {
                        "test": [
                          1.817175998
                        ],
                        "passed_time": 592.5390258,
                        "iteration": 310,
                        "remaining_time": 1312.731154,
                        "learn": [
                          1.71975453
                        ]
                      },
                      {
                        "test": [
                          1.817034897
                        ],
                        "passed_time": 594.6059654,
                        "iteration": 311,
                        "remaining_time": 1311.182385,
                        "learn": [
                          1.719670726
                        ]
                      },
                      {
                        "test": [
                          1.817108259
                        ],
                        "passed_time": 597.0360278,
                        "iteration": 312,
                        "remaining_time": 1310.42732,
                        "learn": [
                          1.71953293
                        ]
                      },
                      {
                        "test": [
                          1.817015936
                        ],
                        "passed_time": 598.6303972,
                        "iteration": 313,
                        "remaining_time": 1307.835836,
                        "learn": [
                          1.719442884
                        ]
                      },
                      {
                        "test": [
                          1.817127865
                        ],
                        "passed_time": 601.0161872,
                        "iteration": 314,
                        "remaining_time": 1306.971709,
                        "learn": [
                          1.719371674
                        ]
                      },
                      {
                        "test": [
                          1.817121532
                        ],
                        "passed_time": 603.061746,
                        "iteration": 315,
                        "remaining_time": 1305.361501,
                        "learn": [
                          1.719307093
                        ]
                      },
                      {
                        "test": [
                          1.817090765
                        ],
                        "passed_time": 604.6870276,
                        "iteration": 316,
                        "remaining_time": 1302.843028,
                        "learn": [
                          1.719144631
                        ]
                      },
                      {
                        "test": [
                          1.817099801
                        ],
                        "passed_time": 606.4934992,
                        "iteration": 317,
                        "remaining_time": 1300.718762,
                        "learn": [
                          1.718547102
                        ]
                      },
                      {
                        "test": [
                          1.817291703
                        ],
                        "passed_time": 608.9824043,
                        "iteration": 318,
                        "remaining_time": 1300.053346,
                        "learn": [
                          1.718284502
                        ]
                      },
                      {
                        "test": [
                          1.817290492
                        ],
                        "passed_time": 611.1972775,
                        "iteration": 319,
                        "remaining_time": 1298.794215,
                        "learn": [
                          1.718230516
                        ]
                      },
                      {
                        "test": [
                          1.817266077
                        ],
                        "passed_time": 612.9333418,
                        "iteration": 320,
                        "remaining_time": 1296.516321,
                        "learn": [
                          1.717841999
                        ]
                      },
                      {
                        "test": [
                          1.817283633
                        ],
                        "passed_time": 615.0063252,
                        "iteration": 321,
                        "remaining_time": 1294.951206,
                        "learn": [
                          1.717741856
                        ]
                      },
                      {
                        "test": [
                          1.817236953
                        ],
                        "passed_time": 616.8294137,
                        "iteration": 322,
                        "remaining_time": 1292.859174,
                        "learn": [
                          1.717573952
                        ]
                      },
                      {
                        "test": [
                          1.81733237
                        ],
                        "passed_time": 618.6753504,
                        "iteration": 323,
                        "remaining_time": 1290.816472,
                        "learn": [
                          1.717392679
                        ]
                      },
                      {
                        "test": [
                          1.817360237
                        ],
                        "passed_time": 620.1455575,
                        "iteration": 324,
                        "remaining_time": 1287.994619,
                        "learn": [
                          1.717179047
                        ]
                      },
                      {
                        "test": [
                          1.817234093
                        ],
                        "passed_time": 622.3515532,
                        "iteration": 325,
                        "remaining_time": 1286.702291,
                        "learn": [
                          1.717093291
                        ]
                      },
                      {
                        "test": [
                          1.817145045
                        ],
                        "passed_time": 624.8515764,
                        "iteration": 326,
                        "remaining_time": 1286.009514,
                        "learn": [
                          1.716886797
                        ]
                      },
                      {
                        "test": [
                          1.817122468
                        ],
                        "passed_time": 626.5084252,
                        "iteration": 327,
                        "remaining_time": 1283.578237,
                        "learn": [
                          1.716650272
                        ]
                      },
                      {
                        "test": [
                          1.817191636
                        ],
                        "passed_time": 628.5330776,
                        "iteration": 328,
                        "remaining_time": 1281.901809,
                        "learn": [
                          1.716569483
                        ]
                      },
                      {
                        "test": [
                          1.817183856
                        ],
                        "passed_time": 630.3477472,
                        "iteration": 329,
                        "remaining_time": 1279.796941,
                        "learn": [
                          1.716548781
                        ]
                      },
                      {
                        "test": [
                          1.817283339
                        ],
                        "passed_time": 632.190477,
                        "iteration": 330,
                        "remaining_time": 1277.750541,
                        "learn": [
                          1.716383934
                        ]
                      },
                      {
                        "test": [
                          1.817229754
                        ],
                        "passed_time": 634.2686791,
                        "iteration": 331,
                        "remaining_time": 1276.17915,
                        "learn": [
                          1.716227334
                        ]
                      },
                      {
                        "test": [
                          1.817161782
                        ],
                        "passed_time": 636.5586815,
                        "iteration": 332,
                        "remaining_time": 1275.028951,
                        "learn": [
                          1.716116177
                        ]
                      },
                      {
                        "test": [
                          1.817128021
                        ],
                        "passed_time": 638.9140224,
                        "iteration": 333,
                        "remaining_time": 1274.002212,
                        "learn": [
                          1.716037104
                        ]
                      },
                      {
                        "test": [
                          1.817066508
                        ],
                        "passed_time": 640.4088725,
                        "iteration": 334,
                        "remaining_time": 1271.259404,
                        "learn": [
                          1.715675701
                        ]
                      },
                      {
                        "test": [
                          1.817071802
                        ],
                        "passed_time": 642.2886089,
                        "iteration": 335,
                        "remaining_time": 1269.284632,
                        "learn": [
                          1.71566236
                        ]
                      },
                      {
                        "test": [
                          1.817342436
                        ],
                        "passed_time": 643.9941848,
                        "iteration": 336,
                        "remaining_time": 1266.967788,
                        "learn": [
                          1.715259189
                        ]
                      },
                      {
                        "test": [
                          1.817264205
                        ],
                        "passed_time": 645.9691672,
                        "iteration": 337,
                        "remaining_time": 1265.182215,
                        "learn": [
                          1.715146482
                        ]
                      },
                      {
                        "test": [
                          1.817258887
                        ],
                        "passed_time": 648.8147511,
                        "iteration": 338,
                        "remaining_time": 1265.093069,
                        "learn": [
                          1.714904402
                        ]
                      },
                      {
                        "test": [
                          1.817172068
                        ],
                        "passed_time": 650.4415264,
                        "iteration": 339,
                        "remaining_time": 1262.621786,
                        "learn": [
                          1.714443504
                        ]
                      },
                      {
                        "test": [
                          1.817308651
                        ],
                        "passed_time": 652.3035687,
                        "iteration": 340,
                        "remaining_time": 1260.610123,
                        "learn": [
                          1.714284542
                        ]
                      },
                      {
                        "test": [
                          1.817396353
                        ],
                        "passed_time": 654.2160562,
                        "iteration": 341,
                        "remaining_time": 1258.696389,
                        "learn": [
                          1.714052367
                        ]
                      },
                      {
                        "test": [
                          1.817343012
                        ],
                        "passed_time": 655.912749,
                        "iteration": 342,
                        "remaining_time": 1256.369318,
                        "learn": [
                          1.713897195
                        ]
                      },
                      {
                        "test": [
                          1.817239835
                        ],
                        "passed_time": 658.116372,
                        "iteration": 343,
                        "remaining_time": 1255.012616,
                        "learn": [
                          1.71381252
                        ]
                      },
                      {
                        "test": [
                          1.817251338
                        ],
                        "passed_time": 659.5772066,
                        "iteration": 344,
                        "remaining_time": 1252.240784,
                        "learn": [
                          1.71377609
                        ]
                      },
                      {
                        "test": [
                          1.817196916
                        ],
                        "passed_time": 661.7706399,
                        "iteration": 345,
                        "remaining_time": 1250.861267,
                        "learn": [
                          1.713697341
                        ]
                      },
                      {
                        "test": [
                          1.817186891
                        ],
                        "passed_time": 663.844482,
                        "iteration": 346,
                        "remaining_time": 1249.252008,
                        "learn": [
                          1.713448997
                        ]
                      },
                      {
                        "test": [
                          1.817185149
                        ],
                        "passed_time": 666.4305015,
                        "iteration": 347,
                        "remaining_time": 1248.599675,
                        "learn": [
                          1.713393396
                        ]
                      },
                      {
                        "test": [
                          1.817132944
                        ],
                        "passed_time": 667.9840492,
                        "iteration": 348,
                        "remaining_time": 1246.010361,
                        "learn": [
                          1.713336081
                        ]
                      },
                      {
                        "test": [
                          1.817160201
                        ],
                        "passed_time": 669.4127856,
                        "iteration": 349,
                        "remaining_time": 1243.195173,
                        "learn": [
                          1.713311537
                        ]
                      },
                      {
                        "test": [
                          1.817045896
                        ],
                        "passed_time": 671.5171733,
                        "iteration": 350,
                        "remaining_time": 1241.637167,
                        "learn": [
                          1.713198972
                        ]
                      },
                      {
                        "test": [
                          1.81698066
                        ],
                        "passed_time": 672.9860776,
                        "iteration": 351,
                        "remaining_time": 1238.906188,
                        "learn": [
                          1.71309911
                        ]
                      },
                      {
                        "test": [
                          1.817056254
                        ],
                        "passed_time": 674.9252722,
                        "iteration": 352,
                        "remaining_time": 1237.044337,
                        "learn": [
                          1.712856704
                        ]
                      },
                      {
                        "test": [
                          1.816911418
                        ],
                        "passed_time": 677.945248,
                        "iteration": 353,
                        "remaining_time": 1237.154323,
                        "learn": [
                          1.712748769
                        ]
                      },
                      {
                        "test": [
                          1.817032924
                        ],
                        "passed_time": 679.7888956,
                        "iteration": 354,
                        "remaining_time": 1235.109402,
                        "learn": [
                          1.712588022
                        ]
                      },
                      {
                        "test": [
                          1.816985414
                        ],
                        "passed_time": 681.8182397,
                        "iteration": 355,
                        "remaining_time": 1233.401535,
                        "learn": [
                          1.71250407
                        ]
                      },
                      {
                        "test": [
                          1.816950776
                        ],
                        "passed_time": 684.448428,
                        "iteration": 356,
                        "remaining_time": 1232.774059,
                        "learn": [
                          1.71231964
                        ]
                      },
                      {
                        "test": [
                          1.816831021
                        ],
                        "passed_time": 685.8768528,
                        "iteration": 357,
                        "remaining_time": 1229.980278,
                        "learn": [
                          1.712136094
                        ]
                      },
                      {
                        "test": [
                          1.816869731
                        ],
                        "passed_time": 688.1097176,
                        "iteration": 358,
                        "remaining_time": 1228.630443,
                        "learn": [
                          1.71208736
                        ]
                      },
                      {
                        "test": [
                          1.816829455
                        ],
                        "passed_time": 689.613782,
                        "iteration": 359,
                        "remaining_time": 1225.980057,
                        "learn": [
                          1.712035591
                        ]
                      },
                      {
                        "test": [
                          1.816843827
                        ],
                        "passed_time": 691.9612932,
                        "iteration": 360,
                        "remaining_time": 1224.828993,
                        "learn": [
                          1.711987913
                        ]
                      },
                      {
                        "test": [
                          1.81676014
                        ],
                        "passed_time": 694.2232701,
                        "iteration": 361,
                        "remaining_time": 1223.52057,
                        "learn": [
                          1.711905637
                        ]
                      },
                      {
                        "test": [
                          1.816732577
                        ],
                        "passed_time": 696.5041403,
                        "iteration": 362,
                        "remaining_time": 1222.240048,
                        "learn": [
                          1.711878054
                        ]
                      },
                      {
                        "test": [
                          1.816639774
                        ],
                        "passed_time": 698.9841467,
                        "iteration": 363,
                        "remaining_time": 1221.301971,
                        "learn": [
                          1.711704997
                        ]
                      },
                      {
                        "test": [
                          1.816549709
                        ],
                        "passed_time": 701.225233,
                        "iteration": 364,
                        "remaining_time": 1219.939789,
                        "learn": [
                          1.711597944
                        ]
                      },
                      {
                        "test": [
                          1.816629893
                        ],
                        "passed_time": 702.7775865,
                        "iteration": 365,
                        "remaining_time": 1217.379754,
                        "learn": [
                          1.71134634
                        ]
                      },
                      {
                        "test": [
                          1.816648062
                        ],
                        "passed_time": 704.2432052,
                        "iteration": 366,
                        "remaining_time": 1214.67561,
                        "learn": [
                          1.711297138
                        ]
                      },
                      {
                        "test": [
                          1.816644503
                        ],
                        "passed_time": 706.3211495,
                        "iteration": 367,
                        "remaining_time": 1213.0298,
                        "learn": [
                          1.711274815
                        ]
                      },
                      {
                        "test": [
                          1.816632494
                        ],
                        "passed_time": 708.9339754,
                        "iteration": 368,
                        "remaining_time": 1212.29631,
                        "learn": [
                          1.711228763
                        ]
                      },
                      {
                        "test": [
                          1.816604296
                        ],
                        "passed_time": 710.7852175,
                        "iteration": 369,
                        "remaining_time": 1210.255911,
                        "learn": [
                          1.711169969
                        ]
                      },
                      {
                        "test": [
                          1.816630898
                        ],
                        "passed_time": 712.9387123,
                        "iteration": 370,
                        "remaining_time": 1208.728976,
                        "learn": [
                          1.710996837
                        ]
                      },
                      {
                        "test": [
                          1.816602237
                        ],
                        "passed_time": 715.0075973,
                        "iteration": 371,
                        "remaining_time": 1207.055836,
                        "learn": [
                          1.71083486
                        ]
                      },
                      {
                        "test": [
                          1.816592791
                        ],
                        "passed_time": 716.8979025,
                        "iteration": 372,
                        "remaining_time": 1205.080388,
                        "learn": [
                          1.710815229
                        ]
                      },
                      {
                        "test": [
                          1.816680972
                        ],
                        "passed_time": 719.0600203,
                        "iteration": 373,
                        "remaining_time": 1203.560355,
                        "learn": [
                          1.710686975
                        ]
                      },
                      {
                        "test": [
                          1.816606083
                        ],
                        "passed_time": 721.2072998,
                        "iteration": 374,
                        "remaining_time": 1202.012166,
                        "learn": [
                          1.710436951
                        ]
                      },
                      {
                        "test": [
                          1.816603577
                        ],
                        "passed_time": 723.2004724,
                        "iteration": 375,
                        "remaining_time": 1200.205039,
                        "learn": [
                          1.710270047
                        ]
                      },
                      {
                        "test": [
                          1.816519992
                        ],
                        "passed_time": 725.2533272,
                        "iteration": 376,
                        "remaining_time": 1198.495551,
                        "learn": [
                          1.710197083
                        ]
                      },
                      {
                        "test": [
                          1.816231627
                        ],
                        "passed_time": 728.1135113,
                        "iteration": 377,
                        "remaining_time": 1198.112709,
                        "learn": [
                          1.709864418
                        ]
                      },
                      {
                        "test": [
                          1.816021408
                        ],
                        "passed_time": 732.9950802,
                        "iteration": 378,
                        "remaining_time": 1201.028878,
                        "learn": [
                          1.709630707
                        ]
                      },
                      {
                        "test": [
                          1.816057058
                        ],
                        "passed_time": 736.1252537,
                        "iteration": 379,
                        "remaining_time": 1201.046467,
                        "learn": [
                          1.709524156
                        ]
                      },
                      {
                        "test": [
                          1.816071522
                        ],
                        "passed_time": 739.7621769,
                        "iteration": 380,
                        "remaining_time": 1201.870833,
                        "learn": [
                          1.709480921
                        ]
                      },
                      {
                        "test": [
                          1.816059864
                        ],
                        "passed_time": 742.0269955,
                        "iteration": 381,
                        "remaining_time": 1200.45205,
                        "learn": [
                          1.709338836
                        ]
                      },
                      {
                        "test": [
                          1.81601897
                        ],
                        "passed_time": 744.7795749,
                        "iteration": 382,
                        "remaining_time": 1199.814615,
                        "learn": [
                          1.709233893
                        ]
                      },
                      {
                        "test": [
                          1.816055158
                        ],
                        "passed_time": 746.6262586,
                        "iteration": 383,
                        "remaining_time": 1197.712956,
                        "learn": [
                          1.709058853
                        ]
                      },
                      {
                        "test": [
                          1.816107226
                        ],
                        "passed_time": 748.4168844,
                        "iteration": 384,
                        "remaining_time": 1195.523075,
                        "learn": [
                          1.708942683
                        ]
                      },
                      {
                        "test": [
                          1.816020397
                        ],
                        "passed_time": 750.4690943,
                        "iteration": 385,
                        "remaining_time": 1193.751357,
                        "learn": [
                          1.708845531
                        ]
                      },
                      {
                        "test": [
                          1.815978219
                        ],
                        "passed_time": 752.9587568,
                        "iteration": 386,
                        "remaining_time": 1192.671106,
                        "learn": [
                          1.708718525
                        ]
                      },
                      {
                        "test": [
                          1.815921581
                        ],
                        "passed_time": 755.2035188,
                        "iteration": 387,
                        "remaining_time": 1191.197303,
                        "learn": [
                          1.708646137
                        ]
                      },
                      {
                        "test": [
                          1.815888407
                        ],
                        "passed_time": 757.2159736,
                        "iteration": 388,
                        "remaining_time": 1189.354653,
                        "learn": [
                          1.708428771
                        ]
                      },
                      {
                        "test": [
                          1.815771568
                        ],
                        "passed_time": 759.3912222,
                        "iteration": 389,
                        "remaining_time": 1187.765758,
                        "learn": [
                          1.708206243
                        ]
                      },
                      {
                        "test": [
                          1.815761379
                        ],
                        "passed_time": 760.9475168,
                        "iteration": 390,
                        "remaining_time": 1185.209815,
                        "learn": [
                          1.708106525
                        ]
                      },
                      {
                        "test": [
                          1.815729741
                        ],
                        "passed_time": 762.6745711,
                        "iteration": 391,
                        "remaining_time": 1182.923825,
                        "learn": [
                          1.707839045
                        ]
                      },
                      {
                        "test": [
                          1.815769734
                        ],
                        "passed_time": 764.2297154,
                        "iteration": 392,
                        "remaining_time": 1180.375158,
                        "learn": [
                          1.707644672
                        ]
                      },
                      {
                        "test": [
                          1.815743666
                        ],
                        "passed_time": 765.9460109,
                        "iteration": 393,
                        "remaining_time": 1178.079397,
                        "learn": [
                          1.707603057
                        ]
                      },
                      {
                        "test": [
                          1.815697524
                        ],
                        "passed_time": 767.8039546,
                        "iteration": 394,
                        "remaining_time": 1176.003525,
                        "learn": [
                          1.707502031
                        ]
                      },
                      {
                        "test": [
                          1.815563057
                        ],
                        "passed_time": 770.3392256,
                        "iteration": 395,
                        "remaining_time": 1174.961849,
                        "learn": [
                          1.707420765
                        ]
                      },
                      {
                        "test": [
                          1.815319142
                        ],
                        "passed_time": 772.5905654,
                        "iteration": 396,
                        "remaining_time": 1173.481388,
                        "learn": [
                          1.707205759
                        ]
                      },
                      {
                        "test": [
                          1.815410035
                        ],
                        "passed_time": 774.4836791,
                        "iteration": 397,
                        "remaining_time": 1171.455213,
                        "learn": [
                          1.707050043
                        ]
                      },
                      {
                        "test": [
                          1.81552005
                        ],
                        "passed_time": 776.3275046,
                        "iteration": 398,
                        "remaining_time": 1169.355464,
                        "learn": [
                          1.706957088
                        ]
                      },
                      {
                        "test": [
                          1.815450536
                        ],
                        "passed_time": 778.4473997,
                        "iteration": 399,
                        "remaining_time": 1167.6711,
                        "learn": [
                          1.706811629
                        ]
                      },
                      {
                        "test": [
                          1.815427204
                        ],
                        "passed_time": 780.1253941,
                        "iteration": 400,
                        "remaining_time": 1165.324467,
                        "learn": [
                          1.706756916
                        ]
                      },
                      {
                        "test": [
                          1.815380721
                        ],
                        "passed_time": 782.1638822,
                        "iteration": 401,
                        "remaining_time": 1163.517417,
                        "learn": [
                          1.706683123
                        ]
                      },
                      {
                        "test": [
                          1.815250673
                        ],
                        "passed_time": 784.2094441,
                        "iteration": 402,
                        "remaining_time": 1161.719698,
                        "learn": [
                          1.706455424
                        ]
                      },
                      {
                        "test": [
                          1.815025836
                        ],
                        "passed_time": 786.1302449,
                        "iteration": 403,
                        "remaining_time": 1159.736698,
                        "learn": [
                          1.706054858
                        ]
                      },
                      {
                        "test": [
                          1.814982703
                        ],
                        "passed_time": 788.7305461,
                        "iteration": 404,
                        "remaining_time": 1158.752284,
                        "learn": [
                          1.705998963
                        ]
                      },
                      {
                        "test": [
                          1.814980881
                        ],
                        "passed_time": 790.9026192,
                        "iteration": 405,
                        "remaining_time": 1157.133389,
                        "learn": [
                          1.705969548
                        ]
                      },
                      {
                        "test": [
                          1.814861709
                        ],
                        "passed_time": 792.5989006,
                        "iteration": 406,
                        "remaining_time": 1154.818546,
                        "learn": [
                          1.705889625
                        ]
                      },
                      {
                        "test": [
                          1.815321373
                        ],
                        "passed_time": 794.2505511,
                        "iteration": 407,
                        "remaining_time": 1152.441976,
                        "learn": [
                          1.705316962
                        ]
                      },
                      {
                        "test": [
                          1.815405567
                        ],
                        "passed_time": 796.4564623,
                        "iteration": 408,
                        "remaining_time": 1150.869851,
                        "learn": [
                          1.705234407
                        ]
                      },
                      {
                        "test": [
                          1.815242324
                        ],
                        "passed_time": 799.4472779,
                        "iteration": 409,
                        "remaining_time": 1150.424132,
                        "learn": [
                          1.705092596
                        ]
                      },
                      {
                        "test": [
                          1.815289901
                        ],
                        "passed_time": 801.2268127,
                        "iteration": 410,
                        "remaining_time": 1148.230153,
                        "learn": [
                          1.705012288
                        ]
                      },
                      {
                        "test": [
                          1.815268415
                        ],
                        "passed_time": 804.7593798,
                        "iteration": 411,
                        "remaining_time": 1148.540086,
                        "learn": [
                          1.704988494
                        ]
                      },
                      {
                        "test": [
                          1.815069172
                        ],
                        "passed_time": 806.1792735,
                        "iteration": 412,
                        "remaining_time": 1145.828653,
                        "learn": [
                          1.704746725
                        ]
                      },
                      {
                        "test": [
                          1.814814672
                        ],
                        "passed_time": 807.928621,
                        "iteration": 413,
                        "remaining_time": 1143.589787,
                        "learn": [
                          1.704491643
                        ]
                      },
                      {
                        "test": [
                          1.814885366
                        ],
                        "passed_time": 809.801171,
                        "iteration": 414,
                        "remaining_time": 1141.526952,
                        "learn": [
                          1.704376538
                        ]
                      },
                      {
                        "test": [
                          1.814888056
                        ],
                        "passed_time": 811.5767628,
                        "iteration": 415,
                        "remaining_time": 1139.328917,
                        "learn": [
                          1.704340436
                        ]
                      },
                      {
                        "test": [
                          1.814847182
                        ],
                        "passed_time": 813.4716334,
                        "iteration": 416,
                        "remaining_time": 1137.29967,
                        "learn": [
                          1.703935487
                        ]
                      },
                      {
                        "test": [
                          1.814876112
                        ],
                        "passed_time": 815.1415651,
                        "iteration": 417,
                        "remaining_time": 1134.957873,
                        "learn": [
                          1.703678612
                        ]
                      },
                      {
                        "test": [
                          1.814867197
                        ],
                        "passed_time": 816.6180303,
                        "iteration": 418,
                        "remaining_time": 1132.351016,
                        "learn": [
                          1.703662773
                        ]
                      },
                      {
                        "test": [
                          1.814973234
                        ],
                        "passed_time": 818.2515052,
                        "iteration": 419,
                        "remaining_time": 1129.966364,
                        "learn": [
                          1.703317589
                        ]
                      },
                      {
                        "test": [
                          1.81509219
                        ],
                        "passed_time": 820.0675294,
                        "iteration": 420,
                        "remaining_time": 1127.836341,
                        "learn": [
                          1.703037427
                        ]
                      },
                      {
                        "test": [
                          1.815234219
                        ],
                        "passed_time": 822.5489812,
                        "iteration": 421,
                        "remaining_time": 1126.619221,
                        "learn": [
                          1.702733724
                        ]
                      },
                      {
                        "test": [
                          1.815376685
                        ],
                        "passed_time": 824.5848358,
                        "iteration": 422,
                        "remaining_time": 1124.788299,
                        "learn": [
                          1.702490992
                        ]
                      },
                      {
                        "test": [
                          1.815380009
                        ],
                        "passed_time": 826.0223611,
                        "iteration": 423,
                        "remaining_time": 1122.143585,
                        "learn": [
                          1.702116723
                        ]
                      },
                      {
                        "test": [
                          1.815567359
                        ],
                        "passed_time": 828.2276559,
                        "iteration": 424,
                        "remaining_time": 1120.543299,
                        "learn": [
                          1.701941602
                        ]
                      },
                      {
                        "test": [
                          1.81556912
                        ],
                        "passed_time": 830.4815092,
                        "iteration": 425,
                        "remaining_time": 1119.005602,
                        "learn": [
                          1.701792262
                        ]
                      },
                      {
                        "test": [
                          1.815654527
                        ],
                        "passed_time": 832.0875617,
                        "iteration": 426,
                        "remaining_time": 1116.595253,
                        "learn": [
                          1.701504052
                        ]
                      },
                      {
                        "test": [
                          1.81558705
                        ],
                        "passed_time": 834.0077471,
                        "iteration": 427,
                        "remaining_time": 1114.608484,
                        "learn": [
                          1.701261421
                        ]
                      },
                      {
                        "test": [
                          1.815495546
                        ],
                        "passed_time": 836.1702583,
                        "iteration": 428,
                        "remaining_time": 1112.944563,
                        "learn": [
                          1.700993358
                        ]
                      },
                      {
                        "test": [
                          1.8154767
                        ],
                        "passed_time": 838.795608,
                        "iteration": 429,
                        "remaining_time": 1111.891852,
                        "learn": [
                          1.700954938
                        ]
                      },
                      {
                        "test": [
                          1.815477387
                        ],
                        "passed_time": 840.2975105,
                        "iteration": 430,
                        "remaining_time": 1109.348686,
                        "learn": [
                          1.700846232
                        ]
                      },
                      {
                        "test": [
                          1.815469104
                        ],
                        "passed_time": 841.9269693,
                        "iteration": 431,
                        "remaining_time": 1106.978052,
                        "learn": [
                          1.700541305
                        ]
                      },
                      {
                        "test": [
                          1.815545608
                        ],
                        "passed_time": 844.0556436,
                        "iteration": 432,
                        "remaining_time": 1105.264549,
                        "learn": [
                          1.700445414
                        ]
                      },
                      {
                        "test": [
                          1.815509951
                        ],
                        "passed_time": 846.4988096,
                        "iteration": 433,
                        "remaining_time": 1103.959277,
                        "learn": [
                          1.700281768
                        ]
                      },
                      {
                        "test": [
                          1.81544635
                        ],
                        "passed_time": 848.1701313,
                        "iteration": 434,
                        "remaining_time": 1101.646262,
                        "learn": [
                          1.70013768
                        ]
                      },
                      {
                        "test": [
                          1.815408251
                        ],
                        "passed_time": 850.2655474,
                        "iteration": 435,
                        "remaining_time": 1099.884791,
                        "learn": [
                          1.699918588
                        ]
                      },
                      {
                        "test": [
                          1.815345955
                        ],
                        "passed_time": 853.0454506,
                        "iteration": 436,
                        "remaining_time": 1099.003635,
                        "learn": [
                          1.699855627
                        ]
                      },
                      {
                        "test": [
                          1.81535792
                        ],
                        "passed_time": 854.9606311,
                        "iteration": 437,
                        "remaining_time": 1097.00428,
                        "learn": [
                          1.699655831
                        ]
                      },
                      {
                        "test": [
                          1.815205999
                        ],
                        "passed_time": 856.6509078,
                        "iteration": 438,
                        "remaining_time": 1094.717903,
                        "learn": [
                          1.699260308
                        ]
                      },
                      {
                        "test": [
                          1.815376282
                        ],
                        "passed_time": 858.6306969,
                        "iteration": 439,
                        "remaining_time": 1092.802705,
                        "learn": [
                          1.698996109
                        ]
                      },
                      {
                        "test": [
                          1.815324153
                        ],
                        "passed_time": 860.2326718,
                        "iteration": 440,
                        "remaining_time": 1090.408307,
                        "learn": [
                          1.698794445
                        ]
                      },
                      {
                        "test": [
                          1.815253148
                        ],
                        "passed_time": 861.8968551,
                        "iteration": 441,
                        "remaining_time": 1088.09603,
                        "learn": [
                          1.698599442
                        ]
                      },
                      {
                        "test": [
                          1.815266528
                        ],
                        "passed_time": 863.7388989,
                        "iteration": 442,
                        "remaining_time": 1086.010309,
                        "learn": [
                          1.698517383
                        ]
                      },
                      {
                        "test": [
                          1.815424774
                        ],
                        "passed_time": 865.3459454,
                        "iteration": 443,
                        "remaining_time": 1083.631409,
                        "learn": [
                          1.698179971
                        ]
                      },
                      {
                        "test": [
                          1.815493627
                        ],
                        "passed_time": 867.7096261,
                        "iteration": 444,
                        "remaining_time": 1082.199646,
                        "learn": [
                          1.698034218
                        ]
                      },
                      {
                        "test": [
                          1.815541508
                        ],
                        "passed_time": 870.180286,
                        "iteration": 445,
                        "remaining_time": 1080.896588,
                        "learn": [
                          1.697820618
                        ]
                      },
                      {
                        "test": [
                          1.815637456
                        ],
                        "passed_time": 872.1340589,
                        "iteration": 446,
                        "remaining_time": 1078.948847,
                        "learn": [
                          1.69770043
                        ]
                      },
                      {
                        "test": [
                          1.815575201
                        ],
                        "passed_time": 874.2784358,
                        "iteration": 447,
                        "remaining_time": 1077.23593,
                        "learn": [
                          1.697474972
                        ]
                      },
                      {
                        "test": [
                          1.815605879
                        ],
                        "passed_time": 876.0268371,
                        "iteration": 448,
                        "remaining_time": 1075.035161,
                        "learn": [
                          1.697252683
                        ]
                      },
                      {
                        "test": [
                          1.815541978
                        ],
                        "passed_time": 878.603654,
                        "iteration": 449,
                        "remaining_time": 1073.84891,
                        "learn": [
                          1.69718407
                        ]
                      },
                      {
                        "test": [
                          1.815408616
                        ],
                        "passed_time": 880.2651745,
                        "iteration": 450,
                        "remaining_time": 1071.542308,
                        "learn": [
                          1.696929767
                        ]
                      },
                      {
                        "test": [
                          1.815434265
                        ],
                        "passed_time": 882.504049,
                        "iteration": 451,
                        "remaining_time": 1069.938537,
                        "learn": [
                          1.696875286
                        ]
                      },
                      {
                        "test": [
                          1.815445346
                        ],
                        "passed_time": 885.3100096,
                        "iteration": 452,
                        "remaining_time": 1069.016722,
                        "learn": [
                          1.696725802
                        ]
                      },
                      {
                        "test": [
                          1.815489524
                        ],
                        "passed_time": 887.3080455,
                        "iteration": 453,
                        "remaining_time": 1067.114962,
                        "learn": [
                          1.69656958
                        ]
                      },
                      {
                        "test": [
                          1.815562389
                        ],
                        "passed_time": 890.2434551,
                        "iteration": 454,
                        "remaining_time": 1066.335567,
                        "learn": [
                          1.696364016
                        ]
                      },
                      {
                        "test": [
                          1.815623564
                        ],
                        "passed_time": 893.3739648,
                        "iteration": 455,
                        "remaining_time": 1065.779467,
                        "learn": [
                          1.696277808
                        ]
                      },
                      {
                        "test": [
                          1.815602222
                        ],
                        "passed_time": 895.0459454,
                        "iteration": 456,
                        "remaining_time": 1063.479099,
                        "learn": [
                          1.696193507
                        ]
                      },
                      {
                        "test": [
                          1.815690008
                        ],
                        "passed_time": 896.6863126,
                        "iteration": 457,
                        "remaining_time": 1061.144064,
                        "learn": [
                          1.696016679
                        ]
                      },
                      {
                        "test": [
                          1.815635954
                        ],
                        "passed_time": 899.4691431,
                        "iteration": 458,
                        "remaining_time": 1060.15862,
                        "learn": [
                          1.695970488
                        ]
                      },
                      {
                        "test": [
                          1.815723394
                        ],
                        "passed_time": 901.5914988,
                        "iteration": 459,
                        "remaining_time": 1058.39002,
                        "learn": [
                          1.695733052
                        ]
                      },
                      {
                        "test": [
                          1.815809817
                        ],
                        "passed_time": 903.1062862,
                        "iteration": 460,
                        "remaining_time": 1055.909519,
                        "learn": [
                          1.695656266
                        ]
                      },
                      {
                        "test": [
                          1.815951769
                        ],
                        "passed_time": 905.036235,
                        "iteration": 461,
                        "remaining_time": 1053.916655,
                        "learn": [
                          1.695466018
                        ]
                      },
                      {
                        "test": [
                          1.815988033
                        ],
                        "passed_time": 906.8562439,
                        "iteration": 462,
                        "remaining_time": 1051.796551,
                        "learn": [
                          1.695173238
                        ]
                      },
                      {
                        "test": [
                          1.815984129
                        ],
                        "passed_time": 909.2883545,
                        "iteration": 463,
                        "remaining_time": 1050.384823,
                        "learn": [
                          1.695156673
                        ]
                      },
                      {
                        "test": [
                          1.815937972
                        ],
                        "passed_time": 911.0602397,
                        "iteration": 464,
                        "remaining_time": 1048.209093,
                        "learn": [
                          1.695069157
                        ]
                      },
                      {
                        "test": [
                          1.815943281
                        ],
                        "passed_time": 911.9545056,
                        "iteration": 465,
                        "remaining_time": 1045.029412,
                        "learn": [
                          1.695065293
                        ]
                      },
                      {
                        "test": [
                          1.815907469
                        ],
                        "passed_time": 914.7628159,
                        "iteration": 466,
                        "remaining_time": 1044.04407,
                        "learn": [
                          1.694957217
                        ]
                      },
                      {
                        "test": [
                          1.815931812
                        ],
                        "passed_time": 916.4406587,
                        "iteration": 467,
                        "remaining_time": 1041.765877,
                        "learn": [
                          1.694698154
                        ]
                      },
                      {
                        "test": [
                          1.81596769
                        ],
                        "passed_time": 918.8576072,
                        "iteration": 468,
                        "remaining_time": 1040.327056,
                        "learn": [
                          1.694486537
                        ]
                      },
                      {
                        "test": [
                          1.815975725
                        ],
                        "passed_time": 920.6307683,
                        "iteration": 469,
                        "remaining_time": 1038.1581,
                        "learn": [
                          1.694380377
                        ]
                      },
                      {
                        "test": [
                          1.815979275
                        ],
                        "passed_time": 922.1140509,
                        "iteration": 470,
                        "remaining_time": 1035.66525,
                        "learn": [
                          1.694378844
                        ]
                      },
                      {
                        "test": [
                          1.816154658
                        ],
                        "passed_time": 923.7592682,
                        "iteration": 471,
                        "remaining_time": 1033.357825,
                        "learn": [
                          1.694222571
                        ]
                      },
                      {
                        "test": [
                          1.816154192
                        ],
                        "passed_time": 925.4408659,
                        "iteration": 472,
                        "remaining_time": 1031.093734,
                        "learn": [
                          1.694063292
                        ]
                      },
                      {
                        "test": [
                          1.81604151
                        ],
                        "passed_time": 927.688555,
                        "iteration": 473,
                        "remaining_time": 1029.460295,
                        "learn": [
                          1.693977214
                        ]
                      },
                      {
                        "test": [
                          1.81596517
                        ],
                        "passed_time": 929.8136058,
                        "iteration": 474,
                        "remaining_time": 1027.688722,
                        "learn": [
                          1.693883248
                        ]
                      },
                      {
                        "test": [
                          1.816043859
                        ],
                        "passed_time": 931.9261979,
                        "iteration": 475,
                        "remaining_time": 1025.901949,
                        "learn": [
                          1.693677511
                        ]
                      },
                      {
                        "test": [
                          1.816050437
                        ],
                        "passed_time": 933.1967509,
                        "iteration": 476,
                        "remaining_time": 1023.190568,
                        "learn": [
                          1.693666152
                        ]
                      },
                      {
                        "test": [
                          1.815968857
                        ],
                        "passed_time": 935.0487798,
                        "iteration": 477,
                        "remaining_time": 1021.120216,
                        "learn": [
                          1.693588053
                        ]
                      },
                      {
                        "test": [
                          1.8160717
                        ],
                        "passed_time": 937.3766587,
                        "iteration": 478,
                        "remaining_time": 1019.568349,
                        "learn": [
                          1.693439651
                        ]
                      },
                      {
                        "test": [
                          1.815990712
                        ],
                        "passed_time": 939.2259286,
                        "iteration": 479,
                        "remaining_time": 1017.494756,
                        "learn": [
                          1.69332756
                        ]
                      },
                      {
                        "test": [
                          1.816061787
                        ],
                        "passed_time": 940.9543717,
                        "iteration": 480,
                        "remaining_time": 1015.291723,
                        "learn": [
                          1.693202849
                        ]
                      },
                      {
                        "test": [
                          1.816111716
                        ],
                        "passed_time": 942.970998,
                        "iteration": 481,
                        "remaining_time": 1013.400367,
                        "learn": [
                          1.693157055
                        ]
                      },
                      {
                        "test": [
                          1.816076059
                        ],
                        "passed_time": 944.4658046,
                        "iteration": 482,
                        "remaining_time": 1010.94994,
                        "learn": [
                          1.692927816
                        ]
                      },
                      {
                        "test": [
                          1.816016874
                        ],
                        "passed_time": 947.0741328,
                        "iteration": 483,
                        "remaining_time": 1009.690604,
                        "learn": [
                          1.692868129
                        ]
                      },
                      {
                        "test": [
                          1.815963771
                        ],
                        "passed_time": 948.7020024,
                        "iteration": 484,
                        "remaining_time": 1007.3846,
                        "learn": [
                          1.692755869
                        ]
                      },
                      {
                        "test": [
                          1.815914024
                        ],
                        "passed_time": 950.9464169,
                        "iteration": 485,
                        "remaining_time": 1005.733453,
                        "learn": [
                          1.69254206
                        ]
                      },
                      {
                        "test": [
                          1.815986933
                        ],
                        "passed_time": 952.8567193,
                        "iteration": 486,
                        "remaining_time": 1003.72792,
                        "learn": [
                          1.692413726
                        ]
                      },
                      {
                        "test": [
                          1.815976823
                        ],
                        "passed_time": 954.709867,
                        "iteration": 487,
                        "remaining_time": 1001.662811,
                        "learn": [
                          1.692178864
                        ]
                      },
                      {
                        "test": [
                          1.815908028
                        ],
                        "passed_time": 957.1799079,
                        "iteration": 488,
                        "remaining_time": 1000.243217,
                        "learn": [
                          1.692106085
                        ]
                      },
                      {
                        "test": [
                          1.815789983
                        ],
                        "passed_time": 959.1598344,
                        "iteration": 489,
                        "remaining_time": 998.3092154,
                        "learn": [
                          1.692028241
                        ]
                      },
                      {
                        "test": [
                          1.81582373
                        ],
                        "passed_time": 960.8851226,
                        "iteration": 490,
                        "remaining_time": 996.1110538,
                        "learn": [
                          1.691627098
                        ]
                      },
                      {
                        "test": [
                          1.815782998
                        ],
                        "passed_time": 962.6339577,
                        "iteration": 491,
                        "remaining_time": 993.939127,
                        "learn": [
                          1.691566759
                        ]
                      },
                      {
                        "test": [
                          1.815769053
                        ],
                        "passed_time": 964.6943191,
                        "iteration": 492,
                        "remaining_time": 992.0892896,
                        "learn": [
                          1.691480651
                        ]
                      },
                      {
                        "test": [
                          1.815674065
                        ],
                        "passed_time": 966.3110072,
                        "iteration": 493,
                        "remaining_time": 989.7841491,
                        "learn": [
                          1.691371632
                        ]
                      },
                      {
                        "test": [
                          1.8156755
                        ],
                        "passed_time": 968.2730607,
                        "iteration": 494,
                        "remaining_time": 987.8341327,
                        "learn": [
                          1.691364064
                        ]
                      },
                      {
                        "test": [
                          1.815712744
                        ],
                        "passed_time": 969.6745645,
                        "iteration": 495,
                        "remaining_time": 985.3144768,
                        "learn": [
                          1.69133969
                        ]
                      },
                      {
                        "test": [
                          1.815699329
                        ],
                        "passed_time": 971.2401477,
                        "iteration": 496,
                        "remaining_time": 982.9653808,
                        "learn": [
                          1.691085174
                        ]
                      },
                      {
                        "test": [
                          1.815809795
                        ],
                        "passed_time": 973.6507857,
                        "iteration": 497,
                        "remaining_time": 981.471274,
                        "learn": [
                          1.690949629
                        ]
                      },
                      {
                        "test": [
                          1.815862369
                        ],
                        "passed_time": 975.5834767,
                        "iteration": 498,
                        "remaining_time": 979.4936309,
                        "learn": [
                          1.690889636
                        ]
                      },
                      {
                        "test": [
                          1.815919192
                        ],
                        "passed_time": 977.6186952,
                        "iteration": 499,
                        "remaining_time": 977.6186952,
                        "learn": [
                          1.690711771
                        ]
                      },
                      {
                        "test": [
                          1.815969809
                        ],
                        "passed_time": 980.425748,
                        "iteration": 500,
                        "remaining_time": 976.5118728,
                        "learn": [
                          1.690609497
                        ]
                      },
                      {
                        "test": [
                          1.81582913
                        ],
                        "passed_time": 982.1466692,
                        "iteration": 501,
                        "remaining_time": 974.3207993,
                        "learn": [
                          1.690082315
                        ]
                      },
                      {
                        "test": [
                          1.815794758
                        ],
                        "passed_time": 984.2360732,
                        "iteration": 502,
                        "remaining_time": 972.4956827,
                        "learn": [
                          1.690012228
                        ]
                      },
                      {
                        "test": [
                          1.815793191
                        ],
                        "passed_time": 987.4493395,
                        "iteration": 503,
                        "remaining_time": 971.7755405,
                        "learn": [
                          1.689990618
                        ]
                      },
                      {
                        "test": [
                          1.815882657
                        ],
                        "passed_time": 989.8505087,
                        "iteration": 504,
                        "remaining_time": 970.2495085,
                        "learn": [
                          1.689953324
                        ]
                      },
                      {
                        "test": [
                          1.815870078
                        ],
                        "passed_time": 991.6508122,
                        "iteration": 505,
                        "remaining_time": 968.1334016,
                        "learn": [
                          1.689892273
                        ]
                      },
                      {
                        "test": [
                          1.815856238
                        ],
                        "passed_time": 993.4381422,
                        "iteration": 506,
                        "remaining_time": 966.0059253,
                        "learn": [
                          1.689780509
                        ]
                      },
                      {
                        "test": [
                          1.815738179
                        ],
                        "passed_time": 995.8365369,
                        "iteration": 507,
                        "remaining_time": 964.4716066,
                        "learn": [
                          1.68952498
                        ]
                      },
                      {
                        "test": [
                          1.815911393
                        ],
                        "passed_time": 997.4107432,
                        "iteration": 508,
                        "remaining_time": 962.1388505,
                        "learn": [
                          1.689316311
                        ]
                      },
                      {
                        "test": [
                          1.815908011
                        ],
                        "passed_time": 999.0274712,
                        "iteration": 509,
                        "remaining_time": 959.8499233,
                        "learn": [
                          1.689270407
                        ]
                      },
                      {
                        "test": [
                          1.816132639
                        ],
                        "passed_time": 1001.178055,
                        "iteration": 510,
                        "remaining_time": 958.0744985,
                        "learn": [
                          1.68904148
                        ]
                      },
                      {
                        "test": [
                          1.816189648
                        ],
                        "passed_time": 1002.885614,
                        "iteration": 511,
                        "remaining_time": 955.8753509,
                        "learn": [
                          1.688944494
                        ]
                      },
                      {
                        "test": [
                          1.816149914
                        ],
                        "passed_time": 1005.556111,
                        "iteration": 512,
                        "remaining_time": 954.5922539,
                        "learn": [
                          1.68887741
                        ]
                      },
                      {
                        "test": [
                          1.816063302
                        ],
                        "passed_time": 1007.941726,
                        "iteration": 513,
                        "remaining_time": 953.0343946,
                        "learn": [
                          1.688691005
                        ]
                      },
                      {
                        "test": [
                          1.816095908
                        ],
                        "passed_time": 1009.666803,
                        "iteration": 514,
                        "remaining_time": 950.8512612,
                        "learn": [
                          1.688654448
                        ]
                      },
                      {
                        "test": [
                          1.816058893
                        ],
                        "passed_time": 1011.674879,
                        "iteration": 515,
                        "remaining_time": 948.9353521,
                        "learn": [
                          1.688629723
                        ]
                      },
                      {
                        "test": [
                          1.816087881
                        ],
                        "passed_time": 1014.609428,
                        "iteration": 516,
                        "remaining_time": 947.8846299,
                        "learn": [
                          1.688605525
                        ]
                      },
                      {
                        "test": [
                          1.816131642
                        ],
                        "passed_time": 1016.329416,
                        "iteration": 517,
                        "remaining_time": 945.6964835,
                        "learn": [
                          1.688423492
                        ]
                      },
                      {
                        "test": [
                          1.816124944
                        ],
                        "passed_time": 1018.148678,
                        "iteration": 518,
                        "remaining_time": 943.6021469,
                        "learn": [
                          1.688160373
                        ]
                      },
                      {
                        "test": [
                          1.816208156
                        ],
                        "passed_time": 1019.805571,
                        "iteration": 519,
                        "remaining_time": 941.358989,
                        "learn": [
                          1.687943231
                        ]
                      },
                      {
                        "test": [
                          1.816072845
                        ],
                        "passed_time": 1022.454123,
                        "iteration": 520,
                        "remaining_time": 940.029798,
                        "learn": [
                          1.687849595
                        ]
                      },
                      {
                        "test": [
                          1.816072387
                        ],
                        "passed_time": 1024.270126,
                        "iteration": 521,
                        "remaining_time": 937.9331801,
                        "learn": [
                          1.687847202
                        ]
                      },
                      {
                        "test": [
                          1.816195943
                        ],
                        "passed_time": 1026.508471,
                        "iteration": 522,
                        "remaining_time": 936.2228312,
                        "learn": [
                          1.687741021
                        ]
                      },
                      {
                        "test": [
                          1.816262293
                        ],
                        "passed_time": 1028.064777,
                        "iteration": 523,
                        "remaining_time": 933.8909044,
                        "learn": [
                          1.687605642
                        ]
                      },
                      {
                        "test": [
                          1.816307495
                        ],
                        "passed_time": 1030.105485,
                        "iteration": 524,
                        "remaining_time": 932.0002005,
                        "learn": [
                          1.687354415
                        ]
                      },
                      {
                        "test": [
                          1.816312179
                        ],
                        "passed_time": 1031.894302,
                        "iteration": 525,
                        "remaining_time": 929.8819374,
                        "learn": [
                          1.687342883
                        ]
                      },
                      {
                        "test": [
                          1.816170701
                        ],
                        "passed_time": 1033.787073,
                        "iteration": 526,
                        "remaining_time": 927.8582267,
                        "learn": [
                          1.687142164
                        ]
                      },
                      {
                        "test": [
                          1.816162059
                        ],
                        "passed_time": 1036.133232,
                        "iteration": 527,
                        "remaining_time": 926.2403135,
                        "learn": [
                          1.687071425
                        ]
                      },
                      {
                        "test": [
                          1.816166078
                        ],
                        "passed_time": 1037.83413,
                        "iteration": 528,
                        "remaining_time": 924.0451324,
                        "learn": [
                          1.686854745
                        ]
                      },
                      {
                        "test": [
                          1.816168099
                        ],
                        "passed_time": 1039.293844,
                        "iteration": 529,
                        "remaining_time": 921.6379373,
                        "learn": [
                          1.686665177
                        ]
                      },
                      {
                        "test": [
                          1.816164418
                        ],
                        "passed_time": 1041.239695,
                        "iteration": 530,
                        "remaining_time": 919.663685,
                        "learn": [
                          1.686657402
                        ]
                      },
                      {
                        "test": [
                          1.816272081
                        ],
                        "passed_time": 1043.332938,
                        "iteration": 531,
                        "remaining_time": 917.8192015,
                        "learn": [
                          1.686507838
                        ]
                      },
                      {
                        "test": [
                          1.816251818
                        ],
                        "passed_time": 1045.479884,
                        "iteration": 532,
                        "remaining_time": 916.0208362,
                        "learn": [
                          1.686453067
                        ]
                      },
                      {
                        "test": [
                          1.816284034
                        ],
                        "passed_time": 1047.797733,
                        "iteration": 533,
                        "remaining_time": 914.3703067,
                        "learn": [
                          1.686349183
                        ]
                      },
                      {
                        "test": [
                          1.816329228
                        ],
                        "passed_time": 1049.729623,
                        "iteration": 534,
                        "remaining_time": 912.3818221,
                        "learn": [
                          1.686247014
                        ]
                      },
                      {
                        "test": [
                          1.81623229
                        ],
                        "passed_time": 1051.360862,
                        "iteration": 535,
                        "remaining_time": 910.1332838,
                        "learn": [
                          1.68605577
                        ]
                      },
                      {
                        "test": [
                          1.81626711
                        ],
                        "passed_time": 1052.98194,
                        "iteration": 536,
                        "remaining_time": 907.8782831,
                        "learn": [
                          1.685905891
                        ]
                      },
                      {
                        "test": [
                          1.816133768
                        ],
                        "passed_time": 1054.65376,
                        "iteration": 537,
                        "remaining_time": 905.6692138,
                        "learn": [
                          1.685782805
                        ]
                      },
                      {
                        "test": [
                          1.816099086
                        ],
                        "passed_time": 1057.232755,
                        "iteration": 538,
                        "remaining_time": 904.2380336,
                        "learn": [
                          1.685669365
                        ]
                      },
                      {
                        "test": [
                          1.816130054
                        ],
                        "passed_time": 1059.244126,
                        "iteration": 539,
                        "remaining_time": 902.3190699,
                        "learn": [
                          1.685430347
                        ]
                      },
                      {
                        "test": [
                          1.81609371
                        ],
                        "passed_time": 1061.138253,
                        "iteration": 540,
                        "remaining_time": 900.300292,
                        "learn": [
                          1.685398483
                        ]
                      },
                      {
                        "test": [
                          1.816056613
                        ],
                        "passed_time": 1063.189111,
                        "iteration": 541,
                        "remaining_time": 898.414415,
                        "learn": [
                          1.685172546
                        ]
                      },
                      {
                        "test": [
                          1.816038625
                        ],
                        "passed_time": 1065.18974,
                        "iteration": 542,
                        "remaining_time": 896.4856563,
                        "learn": [
                          1.685123171
                        ]
                      },
                      {
                        "test": [
                          1.816049141
                        ],
                        "passed_time": 1067.317496,
                        "iteration": 543,
                        "remaining_time": 894.6631948,
                        "learn": [
                          1.685013208
                        ]
                      },
                      {
                        "test": [
                          1.816019786
                        ],
                        "passed_time": 1069.097706,
                        "iteration": 544,
                        "remaining_time": 892.5494611,
                        "learn": [
                          1.684777985
                        ]
                      },
                      {
                        "test": [
                          1.816186303
                        ],
                        "passed_time": 1071.086463,
                        "iteration": 545,
                        "remaining_time": 890.6103553,
                        "learn": [
                          1.684549852
                        ]
                      },
                      {
                        "test": [
                          1.816134435
                        ],
                        "passed_time": 1073.271569,
                        "iteration": 546,
                        "remaining_time": 888.8336763,
                        "learn": [
                          1.684508699
                        ]
                      },
                      {
                        "test": [
                          1.816122756
                        ],
                        "passed_time": 1075.824901,
                        "iteration": 547,
                        "remaining_time": 887.359225,
                        "learn": [
                          1.684433236
                        ]
                      },
                      {
                        "test": [
                          1.816274606
                        ],
                        "passed_time": 1077.594453,
                        "iteration": 548,
                        "remaining_time": 885.2369731,
                        "learn": [
                          1.684275643
                        ]
                      },
                      {
                        "test": [
                          1.816248631
                        ],
                        "passed_time": 1079.920772,
                        "iteration": 549,
                        "remaining_time": 883.5715409,
                        "learn": [
                          1.68424516
                        ]
                      },
                      {
                        "test": [
                          1.816212909
                        ],
                        "passed_time": 1082.494399,
                        "iteration": 550,
                        "remaining_time": 882.1052364,
                        "learn": [
                          1.684213574
                        ]
                      },
                      {
                        "test": [
                          1.816184537
                        ],
                        "passed_time": 1085.009592,
                        "iteration": 551,
                        "remaining_time": 880.5874949,
                        "learn": [
                          1.684133724
                        ]
                      },
                      {
                        "test": [
                          1.816088582
                        ],
                        "passed_time": 1087.698776,
                        "iteration": 552,
                        "remaining_time": 879.2067866,
                        "learn": [
                          1.683903844
                        ]
                      },
                      {
                        "test": [
                          1.816068699
                        ],
                        "passed_time": 1090.231924,
                        "iteration": 553,
                        "remaining_time": 877.695737,
                        "learn": [
                          1.683889683
                        ]
                      },
                      {
                        "test": [
                          1.815984291
                        ],
                        "passed_time": 1092.742871,
                        "iteration": 554,
                        "remaining_time": 876.1632026,
                        "learn": [
                          1.683678709
                        ]
                      },
                      {
                        "test": [
                          1.816045138
                        ],
                        "passed_time": 1094.593924,
                        "iteration": 555,
                        "remaining_time": 874.1001842,
                        "learn": [
                          1.683515998
                        ]
                      },
                      {
                        "test": [
                          1.816002312
                        ],
                        "passed_time": 1096.558621,
                        "iteration": 556,
                        "remaining_time": 872.1283107,
                        "learn": [
                          1.683457247
                        ]
                      },
                      {
                        "test": [
                          1.816001525
                        ],
                        "passed_time": 1098.098496,
                        "iteration": 557,
                        "remaining_time": 869.8199554,
                        "learn": [
                          1.68342608
                        ]
                      },
                      {
                        "test": [
                          1.816029112
                        ],
                        "passed_time": 1101.040166,
                        "iteration": 558,
                        "remaining_time": 868.620238,
                        "learn": [
                          1.683367493
                        ]
                      },
                      {
                        "test": [
                          1.81601265
                        ],
                        "passed_time": 1103.299108,
                        "iteration": 559,
                        "remaining_time": 866.8778705,
                        "learn": [
                          1.683323715
                        ]
                      },
                      {
                        "test": [
                          1.816084472
                        ],
                        "passed_time": 1105.311916,
                        "iteration": 560,
                        "remaining_time": 864.9410538,
                        "learn": [
                          1.683152248
                        ]
                      },
                      {
                        "test": [
                          1.816042604
                        ],
                        "passed_time": 1106.80372,
                        "iteration": 561,
                        "remaining_time": 862.5979168,
                        "learn": [
                          1.68298466
                        ]
                      },
                      {
                        "test": [
                          1.816045054
                        ],
                        "passed_time": 1108.842502,
                        "iteration": 562,
                        "remaining_time": 860.6823682,
                        "learn": [
                          1.682982363
                        ]
                      },
                      {
                        "test": [
                          1.816058157
                        ],
                        "passed_time": 1110.256189,
                        "iteration": 563,
                        "remaining_time": 858.283153,
                        "learn": [
                          1.682764581
                        ]
                      },
                      {
                        "test": [
                          1.816100144
                        ],
                        "passed_time": 1111.911492,
                        "iteration": 564,
                        "remaining_time": 856.0734496,
                        "learn": [
                          1.682667917
                        ]
                      },
                      {
                        "test": [
                          1.816103936
                        ],
                        "passed_time": 1113.852827,
                        "iteration": 565,
                        "remaining_time": 854.08503,
                        "learn": [
                          1.682665631
                        ]
                      },
                      {
                        "test": [
                          1.81610222
                        ],
                        "passed_time": 1116.391676,
                        "iteration": 566,
                        "remaining_time": 852.5530786,
                        "learn": [
                          1.682651452
                        ]
                      },
                      {
                        "test": [
                          1.816117454
                        ],
                        "passed_time": 1118.203398,
                        "iteration": 567,
                        "remaining_time": 850.4645566,
                        "learn": [
                          1.682628157
                        ]
                      },
                      {
                        "test": [
                          1.81621568
                        ],
                        "passed_time": 1120.156932,
                        "iteration": 568,
                        "remaining_time": 848.4844245,
                        "learn": [
                          1.682533869
                        ]
                      },
                      {
                        "test": [
                          1.816353294
                        ],
                        "passed_time": 1122.04151,
                        "iteration": 569,
                        "remaining_time": 846.4523675,
                        "learn": [
                          1.682341301
                        ]
                      },
                      {
                        "test": [
                          1.816387066
                        ],
                        "passed_time": 1124.536666,
                        "iteration": 570,
                        "remaining_time": 844.8795617,
                        "learn": [
                          1.682321491
                        ]
                      },
                      {
                        "test": [
                          1.816398994
                        ],
                        "passed_time": 1126.188841,
                        "iteration": 571,
                        "remaining_time": 842.6727694,
                        "learn": [
                          1.682253452
                        ]
                      },
                      {
                        "test": [
                          1.816363448
                        ],
                        "passed_time": 1128.893347,
                        "iteration": 572,
                        "remaining_time": 841.2521102,
                        "learn": [
                          1.682159931
                        ]
                      },
                      {
                        "test": [
                          1.816421773
                        ],
                        "passed_time": 1131.593278,
                        "iteration": 573,
                        "remaining_time": 839.8235829,
                        "learn": [
                          1.682043292
                        ]
                      },
                      {
                        "test": [
                          1.816432011
                        ],
                        "passed_time": 1133.773676,
                        "iteration": 574,
                        "remaining_time": 838.0066303,
                        "learn": [
                          1.68196853
                        ]
                      },
                      {
                        "test": [
                          1.816473181
                        ],
                        "passed_time": 1135.438688,
                        "iteration": 575,
                        "remaining_time": 835.8090345,
                        "learn": [
                          1.681753535
                        ]
                      },
                      {
                        "test": [
                          1.816557701
                        ],
                        "passed_time": 1137.053889,
                        "iteration": 576,
                        "remaining_time": 833.5767681,
                        "learn": [
                          1.681641896
                        ]
                      },
                      {
                        "test": [
                          1.816613688
                        ],
                        "passed_time": 1140.19402,
                        "iteration": 577,
                        "remaining_time": 832.4599941,
                        "learn": [
                          1.681581507
                        ]
                      },
                      {
                        "test": [
                          1.816608443
                        ],
                        "passed_time": 1141.839204,
                        "iteration": 578,
                        "remaining_time": 830.2492315,
                        "learn": [
                          1.681562678
                        ]
                      },
                      {
                        "test": [
                          1.816606053
                        ],
                        "passed_time": 1144.549841,
                        "iteration": 579,
                        "remaining_time": 828.8119536,
                        "learn": [
                          1.681491707
                        ]
                      },
                      {
                        "test": [
                          1.816592778
                        ],
                        "passed_time": 1146.827882,
                        "iteration": 580,
                        "remaining_time": 827.0583177,
                        "learn": [
                          1.681470488
                        ]
                      },
                      {
                        "test": [
                          1.816724665
                        ],
                        "passed_time": 1148.404527,
                        "iteration": 581,
                        "remaining_time": 824.7991277,
                        "learn": [
                          1.681204804
                        ]
                      },
                      {
                        "test": [
                          1.816764895
                        ],
                        "passed_time": 1150.882288,
                        "iteration": 582,
                        "remaining_time": 823.1868166,
                        "learn": [
                          1.681010289
                        ]
                      },
                      {
                        "test": [
                          1.816811221
                        ],
                        "passed_time": 1152.735429,
                        "iteration": 583,
                        "remaining_time": 821.1266069,
                        "learn": [
                          1.680917635
                        ]
                      },
                      {
                        "test": [
                          1.816925245
                        ],
                        "passed_time": 1154.506046,
                        "iteration": 584,
                        "remaining_time": 819.0085628,
                        "learn": [
                          1.680749545
                        ]
                      },
                      {
                        "test": [
                          1.816956682
                        ],
                        "passed_time": 1156.797964,
                        "iteration": 585,
                        "remaining_time": 817.2599954,
                        "learn": [
                          1.680707305
                        ]
                      },
                      {
                        "test": [
                          1.817002287
                        ],
                        "passed_time": 1158.734364,
                        "iteration": 586,
                        "remaining_time": 815.2594415,
                        "learn": [
                          1.6806387
                        ]
                      },
                      {
                        "test": [
                          1.817037654
                        ],
                        "passed_time": 1160.497907,
                        "iteration": 587,
                        "remaining_time": 813.1379895,
                        "learn": [
                          1.680200372
                        ]
                      },
                      {
                        "test": [
                          1.817019878
                        ],
                        "passed_time": 1162.250681,
                        "iteration": 588,
                        "remaining_time": 811.0102377,
                        "learn": [
                          1.679954615
                        ]
                      },
                      {
                        "test": [
                          1.81703154
                        ],
                        "passed_time": 1164.31647,
                        "iteration": 589,
                        "remaining_time": 809.1012756,
                        "learn": [
                          1.679890931
                        ]
                      },
                      {
                        "test": [
                          1.81719315
                        ],
                        "passed_time": 1166.070779,
                        "iteration": 590,
                        "remaining_time": 806.9762243,
                        "learn": [
                          1.679648532
                        ]
                      },
                      {
                        "test": [
                          1.817181249
                        ],
                        "passed_time": 1168.433796,
                        "iteration": 591,
                        "remaining_time": 805.2719402,
                        "learn": [
                          1.679626003
                        ]
                      },
                      {
                        "test": [
                          1.817188122
                        ],
                        "passed_time": 1170.453614,
                        "iteration": 592,
                        "remaining_time": 803.3298835,
                        "learn": [
                          1.679608833
                        ]
                      },
                      {
                        "test": [
                          1.817218783
                        ],
                        "passed_time": 1172.549593,
                        "iteration": 593,
                        "remaining_time": 801.439621,
                        "learn": [
                          1.679533171
                        ]
                      },
                      {
                        "test": [
                          1.81736105
                        ],
                        "passed_time": 1174.07238,
                        "iteration": 594,
                        "remaining_time": 799.1585105,
                        "learn": [
                          1.679406867
                        ]
                      },
                      {
                        "test": [
                          1.817350788
                        ],
                        "passed_time": 1175.700679,
                        "iteration": 595,
                        "remaining_time": 796.9514672,
                        "learn": [
                          1.679367294
                        ]
                      },
                      {
                        "test": [
                          1.817373595
                        ],
                        "passed_time": 1177.334399,
                        "iteration": 596,
                        "remaining_time": 794.7500217,
                        "learn": [
                          1.67913797
                        ]
                      },
                      {
                        "test": [
                          1.817408288
                        ],
                        "passed_time": 1179.133062,
                        "iteration": 597,
                        "remaining_time": 792.6613558,
                        "learn": [
                          1.679125669
                        ]
                      },
                      {
                        "test": [
                          1.817514386
                        ],
                        "passed_time": 1180.80828,
                        "iteration": 598,
                        "remaining_time": 790.4910187,
                        "learn": [
                          1.678933364
                        ]
                      },
                      {
                        "test": [
                          1.817577232
                        ],
                        "passed_time": 1182.74814,
                        "iteration": 599,
                        "remaining_time": 788.4987599,
                        "learn": [
                          1.678758274
                        ]
                      },
                      {
                        "test": [
                          1.817647178
                        ],
                        "passed_time": 1185.054642,
                        "iteration": 600,
                        "remaining_time": 786.750087,
                        "learn": [
                          1.678650856
                        ]
                      },
                      {
                        "test": [
                          1.817749522
                        ],
                        "passed_time": 1187.101229,
                        "iteration": 601,
                        "remaining_time": 784.8277231,
                        "learn": [
                          1.678573449
                        ]
                      },
                      {
                        "test": [
                          1.817868003
                        ],
                        "passed_time": 1189.450611,
                        "iteration": 602,
                        "remaining_time": 783.1042994,
                        "learn": [
                          1.678490981
                        ]
                      },
                      {
                        "test": [
                          1.817809115
                        ],
                        "passed_time": 1191.43929,
                        "iteration": 603,
                        "remaining_time": 781.1423161,
                        "learn": [
                          1.678457726
                        ]
                      },
                      {
                        "test": [
                          1.817785857
                        ],
                        "passed_time": 1193.683446,
                        "iteration": 604,
                        "remaining_time": 779.3470435,
                        "learn": [
                          1.678435047
                        ]
                      },
                      {
                        "test": [
                          1.817916478
                        ],
                        "passed_time": 1195.634189,
                        "iteration": 605,
                        "remaining_time": 777.3595219,
                        "learn": [
                          1.678251877
                        ]
                      },
                      {
                        "test": [
                          1.818072786
                        ],
                        "passed_time": 1198.011624,
                        "iteration": 606,
                        "remaining_time": 775.6483824,
                        "learn": [
                          1.678037916
                        ]
                      },
                      {
                        "test": [
                          1.818032453
                        ],
                        "passed_time": 1199.912666,
                        "iteration": 607,
                        "remaining_time": 773.6279029,
                        "learn": [
                          1.677763003
                        ]
                      },
                      {
                        "test": [
                          1.818072788
                        ],
                        "passed_time": 1201.901524,
                        "iteration": 608,
                        "remaining_time": 771.6641968,
                        "learn": [
                          1.677564497
                        ]
                      },
                      {
                        "test": [
                          1.818371585
                        ],
                        "passed_time": 1204.532905,
                        "iteration": 609,
                        "remaining_time": 770.1112017,
                        "learn": [
                          1.677218141
                        ]
                      },
                      {
                        "test": [
                          1.818279862
                        ],
                        "passed_time": 1206.455257,
                        "iteration": 610,
                        "remaining_time": 768.1032652,
                        "learn": [
                          1.677030204
                        ]
                      },
                      {
                        "test": [
                          1.818324185
                        ],
                        "passed_time": 1208.81394,
                        "iteration": 611,
                        "remaining_time": 766.3722366,
                        "learn": [
                          1.676869388
                        ]
                      },
                      {
                        "test": [
                          1.818213714
                        ],
                        "passed_time": 1211.434319,
                        "iteration": 612,
                        "remaining_time": 764.8043743,
                        "learn": [
                          1.676667656
                        ]
                      },
                      {
                        "test": [
                          1.818230058
                        ],
                        "passed_time": 1213.724336,
                        "iteration": 613,
                        "remaining_time": 763.0253967,
                        "learn": [
                          1.67648557
                        ]
                      },
                      {
                        "test": [
                          1.818256128
                        ],
                        "passed_time": 1214.960504,
                        "iteration": 614,
                        "remaining_time": 760.5850309,
                        "learn": [
                          1.676373138
                        ]
                      },
                      {
                        "test": [
                          1.818357145
                        ],
                        "passed_time": 1216.443204,
                        "iteration": 615,
                        "remaining_time": 758.3022569,
                        "learn": [
                          1.676041635
                        ]
                      },
                      {
                        "test": [
                          1.818396636
                        ],
                        "passed_time": 1217.942149,
                        "iteration": 616,
                        "remaining_time": 756.0321603,
                        "learn": [
                          1.675877511
                        ]
                      },
                      {
                        "test": [
                          1.818447305
                        ],
                        "passed_time": 1219.723704,
                        "iteration": 617,
                        "remaining_time": 753.9392473,
                        "learn": [
                          1.675686658
                        ]
                      },
                      {
                        "test": [
                          1.818437259
                        ],
                        "passed_time": 1221.318195,
                        "iteration": 618,
                        "remaining_time": 751.7322008,
                        "learn": [
                          1.675585824
                        ]
                      },
                      {
                        "test": [
                          1.818473385
                        ],
                        "passed_time": 1223.256473,
                        "iteration": 619,
                        "remaining_time": 749.7378381,
                        "learn": [
                          1.675505227
                        ]
                      },
                      {
                        "test": [
                          1.818491549
                        ],
                        "passed_time": 1224.976528,
                        "iteration": 620,
                        "remaining_time": 747.6104735,
                        "learn": [
                          1.675449049
                        ]
                      },
                      {
                        "test": [
                          1.818394335
                        ],
                        "passed_time": 1226.951465,
                        "iteration": 621,
                        "remaining_time": 745.6393146,
                        "learn": [
                          1.675278404
                        ]
                      },
                      {
                        "test": [
                          1.81854316
                        ],
                        "passed_time": 1228.921455,
                        "iteration": 622,
                        "remaining_time": 743.66515,
                        "learn": [
                          1.675145189
                        ]
                      },
                      {
                        "test": [
                          1.818574941
                        ],
                        "passed_time": 1230.758306,
                        "iteration": 623,
                        "remaining_time": 741.610774,
                        "learn": [
                          1.674814015
                        ]
                      },
                      {
                        "test": [
                          1.818657863
                        ],
                        "passed_time": 1233.152718,
                        "iteration": 624,
                        "remaining_time": 739.8916307,
                        "learn": [
                          1.67468515
                        ]
                      },
                      {
                        "test": [
                          1.818655055
                        ],
                        "passed_time": 1235.080059,
                        "iteration": 625,
                        "remaining_time": 737.891281,
                        "learn": [
                          1.674673292
                        ]
                      },
                      {
                        "test": [
                          1.818696627
                        ],
                        "passed_time": 1236.691992,
                        "iteration": 626,
                        "remaining_time": 735.7035297,
                        "learn": [
                          1.674424086
                        ]
                      },
                      {
                        "test": [
                          1.818526323
                        ],
                        "passed_time": 1239.069767,
                        "iteration": 627,
                        "remaining_time": 733.9712635,
                        "learn": [
                          1.674311592
                        ]
                      },
                      {
                        "test": [
                          1.818376486
                        ],
                        "passed_time": 1240.544317,
                        "iteration": 628,
                        "remaining_time": 731.7041997,
                        "learn": [
                          1.674197624
                        ]
                      },
                      {
                        "test": [
                          1.818429832
                        ],
                        "passed_time": 1242.297251,
                        "iteration": 629,
                        "remaining_time": 729.6031472,
                        "learn": [
                          1.674147153
                        ]
                      },
                      {
                        "test": [
                          1.818234684
                        ],
                        "passed_time": 1244.122174,
                        "iteration": 630,
                        "remaining_time": 727.5452965,
                        "learn": [
                          1.673807941
                        ]
                      },
                      {
                        "test": [
                          1.817898536
                        ],
                        "passed_time": 1246.458768,
                        "iteration": 631,
                        "remaining_time": 725.7861183,
                        "learn": [
                          1.673394727
                        ]
                      },
                      {
                        "test": [
                          1.817701185
                        ],
                        "passed_time": 1248.30444,
                        "iteration": 632,
                        "remaining_time": 723.7404887,
                        "learn": [
                          1.67313995
                        ]
                      },
                      {
                        "test": [
                          1.817612271
                        ],
                        "passed_time": 1250.350678,
                        "iteration": 633,
                        "remaining_time": 721.8112745,
                        "learn": [
                          1.672964031
                        ]
                      },
                      {
                        "test": [
                          1.817617711
                        ],
                        "passed_time": 1252.223746,
                        "iteration": 634,
                        "remaining_time": 719.7821529,
                        "learn": [
                          1.67294781
                        ]
                      },
                      {
                        "test": [
                          1.81775212
                        ],
                        "passed_time": 1255.511539,
                        "iteration": 635,
                        "remaining_time": 718.5632078,
                        "learn": [
                          1.672805204
                        ]
                      },
                      {
                        "test": [
                          1.817720832
                        ],
                        "passed_time": 1257.40109,
                        "iteration": 636,
                        "remaining_time": 716.5409668,
                        "learn": [
                          1.67278001
                        ]
                      },
                      {
                        "test": [
                          1.817718176
                        ],
                        "passed_time": 1258.920668,
                        "iteration": 637,
                        "remaining_time": 714.3092191,
                        "learn": [
                          1.672736098
                        ]
                      },
                      {
                        "test": [
                          1.817717857
                        ],
                        "passed_time": 1260.728705,
                        "iteration": 638,
                        "remaining_time": 712.2426645,
                        "learn": [
                          1.672735267
                        ]
                      },
                      {
                        "test": [
                          1.817771014
                        ],
                        "passed_time": 1262.846407,
                        "iteration": 639,
                        "remaining_time": 710.3511038,
                        "learn": [
                          1.672693071
                        ]
                      },
                      {
                        "test": [
                          1.817738512
                        ],
                        "passed_time": 1264.565051,
                        "iteration": 640,
                        "remaining_time": 708.2353406,
                        "learn": [
                          1.672669736
                        ]
                      },
                      {
                        "test": [
                          1.817707674
                        ],
                        "passed_time": 1266.43596,
                        "iteration": 641,
                        "remaining_time": 706.205722,
                        "learn": [
                          1.672637479
                        ]
                      },
                      {
                        "test": [
                          1.817827983
                        ],
                        "passed_time": 1268.70179,
                        "iteration": 642,
                        "remaining_time": 704.3958616,
                        "learn": [
                          1.672479247
                        ]
                      },
                      {
                        "test": [
                          1.817731441
                        ],
                        "passed_time": 1270.081863,
                        "iteration": 643,
                        "remaining_time": 702.0949427,
                        "learn": [
                          1.67236106
                        ]
                      },
                      {
                        "test": [
                          1.817644015
                        ],
                        "passed_time": 1271.782339,
                        "iteration": 644,
                        "remaining_time": 699.9732252,
                        "learn": [
                          1.672186103
                        ]
                      },
                      {
                        "test": [
                          1.817605234
                        ],
                        "passed_time": 1274.491738,
                        "iteration": 645,
                        "remaining_time": 698.4056894,
                        "learn": [
                          1.672082982
                        ]
                      },
                      {
                        "test": [
                          1.817637293
                        ],
                        "passed_time": 1275.990693,
                        "iteration": 646,
                        "remaining_time": 696.174211,
                        "learn": [
                          1.672028594
                        ]
                      },
                      {
                        "test": [
                          1.817638564
                        ],
                        "passed_time": 1277.6774,
                        "iteration": 647,
                        "remaining_time": 694.0469825,
                        "learn": [
                          1.672015262
                        ]
                      },
                      {
                        "test": [
                          1.817583834
                        ],
                        "passed_time": 1279.834001,
                        "iteration": 648,
                        "remaining_time": 692.1752454,
                        "learn": [
                          1.671917034
                        ]
                      },
                      {
                        "test": [
                          1.817531798
                        ],
                        "passed_time": 1281.731414,
                        "iteration": 649,
                        "remaining_time": 690.1630691,
                        "learn": [
                          1.671861633
                        ]
                      },
                      {
                        "test": [
                          1.817596449
                        ],
                        "passed_time": 1283.54252,
                        "iteration": 650,
                        "remaining_time": 688.1049764,
                        "learn": [
                          1.671709251
                        ]
                      },
                      {
                        "test": [
                          1.817516079
                        ],
                        "passed_time": 1285.394973,
                        "iteration": 651,
                        "remaining_time": 686.0697097,
                        "learn": [
                          1.671592177
                        ]
                      },
                      {
                        "test": [
                          1.817507616
                        ],
                        "passed_time": 1287.79009,
                        "iteration": 652,
                        "remaining_time": 684.3233707,
                        "learn": [
                          1.671510704
                        ]
                      },
                      {
                        "test": [
                          1.817500036
                        ],
                        "passed_time": 1290.034278,
                        "iteration": 653,
                        "remaining_time": 682.4951991,
                        "learn": [
                          1.671493324
                        ]
                      },
                      {
                        "test": [
                          1.817486447
                        ],
                        "passed_time": 1292.422555,
                        "iteration": 654,
                        "remaining_time": 680.7416511,
                        "learn": [
                          1.671281349
                        ]
                      },
                      {
                        "test": [
                          1.817505916
                        ],
                        "passed_time": 1294.342872,
                        "iteration": 655,
                        "remaining_time": 678.7407742,
                        "learn": [
                          1.671272259
                        ]
                      },
                      {
                        "test": [
                          1.817527571
                        ],
                        "passed_time": 1296.194386,
                        "iteration": 656,
                        "remaining_time": 676.7042229,
                        "learn": [
                          1.671235787
                        ]
                      },
                      {
                        "test": [
                          1.817551293
                        ],
                        "passed_time": 1298.204094,
                        "iteration": 657,
                        "remaining_time": 674.750456,
                        "learn": [
                          1.671150647
                        ]
                      },
                      {
                        "test": [
                          1.817535773
                        ],
                        "passed_time": 1299.98147,
                        "iteration": 658,
                        "remaining_time": 672.6762995,
                        "learn": [
                          1.671129819
                        ]
                      },
                      {
                        "test": [
                          1.81752902
                        ],
                        "passed_time": 1301.946918,
                        "iteration": 659,
                        "remaining_time": 670.6999276,
                        "learn": [
                          1.671018654
                        ]
                      },
                      {
                        "test": [
                          1.817632085
                        ],
                        "passed_time": 1303.826241,
                        "iteration": 660,
                        "remaining_time": 668.6794187,
                        "learn": [
                          1.670871976
                        ]
                      },
                      {
                        "test": [
                          1.817581237
                        ],
                        "passed_time": 1305.841219,
                        "iteration": 661,
                        "remaining_time": 666.7285981,
                        "learn": [
                          1.670771152
                        ]
                      },
                      {
                        "test": [
                          1.817688237
                        ],
                        "passed_time": 1307.966326,
                        "iteration": 662,
                        "remaining_time": 664.8335623,
                        "learn": [
                          1.670698177
                        ]
                      },
                      {
                        "test": [
                          1.817859199
                        ],
                        "passed_time": 1309.702873,
                        "iteration": 663,
                        "remaining_time": 662.7412129,
                        "learn": [
                          1.670592825
                        ]
                      },
                      {
                        "test": [
                          1.817882888
                        ],
                        "passed_time": 1311.509949,
                        "iteration": 664,
                        "remaining_time": 660.685463,
                        "learn": [
                          1.670542369
                        ]
                      },
                      {
                        "test": [
                          1.817966591
                        ],
                        "passed_time": 1313.905394,
                        "iteration": 665,
                        "remaining_time": 658.9255278,
                        "learn": [
                          1.670398308
                        ]
                      },
                      {
                        "test": [
                          1.818100698
                        ],
                        "passed_time": 1315.615699,
                        "iteration": 666,
                        "remaining_time": 656.8216307,
                        "learn": [
                          1.670039424
                        ]
                      },
                      {
                        "test": [
                          1.818075558
                        ],
                        "passed_time": 1317.396556,
                        "iteration": 667,
                        "remaining_time": 654.7539767,
                        "learn": [
                          1.669960265
                        ]
                      },
                      {
                        "test": [
                          1.818043157
                        ],
                        "passed_time": 1319.298458,
                        "iteration": 668,
                        "remaining_time": 652.7470695,
                        "learn": [
                          1.669899448
                        ]
                      },
                      {
                        "test": [
                          1.817911278
                        ],
                        "passed_time": 1321.938949,
                        "iteration": 669,
                        "remaining_time": 651.1042582,
                        "learn": [
                          1.669774195
                        ]
                      },
                      {
                        "test": [
                          1.817993408
                        ],
                        "passed_time": 1323.46592,
                        "iteration": 670,
                        "remaining_time": 648.9125004,
                        "learn": [
                          1.66958526
                        ]
                      },
                      {
                        "test": [
                          1.817980121
                        ],
                        "passed_time": 1325.292509,
                        "iteration": 671,
                        "remaining_time": 646.8689629,
                        "learn": [
                          1.669527696
                        ]
                      },
                      {
                        "test": [
                          1.817989249
                        ],
                        "passed_time": 1327.311696,
                        "iteration": 672,
                        "remaining_time": 644.9196504,
                        "learn": [
                          1.669433865
                        ]
                      },
                      {
                        "test": [
                          1.817829612
                        ],
                        "passed_time": 1329.767933,
                        "iteration": 673,
                        "remaining_time": 643.1815226,
                        "learn": [
                          1.669352064
                        ]
                      },
                      {
                        "test": [
                          1.817827594
                        ],
                        "passed_time": 1331.549534,
                        "iteration": 674,
                        "remaining_time": 641.1164424,
                        "learn": [
                          1.66935018
                        ]
                      },
                      {
                        "test": [
                          1.818175258
                        ],
                        "passed_time": 1333.398353,
                        "iteration": 675,
                        "remaining_time": 639.0844179,
                        "learn": [
                          1.669002803
                        ]
                      },
                      {
                        "test": [
                          1.818153351
                        ],
                        "passed_time": 1335.988281,
                        "iteration": 676,
                        "remaining_time": 637.4065211,
                        "learn": [
                          1.668946679
                        ]
                      },
                      {
                        "test": [
                          1.818163055
                        ],
                        "passed_time": 1338.118198,
                        "iteration": 677,
                        "remaining_time": 635.5074626,
                        "learn": [
                          1.66878114
                        ]
                      },
                      {
                        "test": [
                          1.818228837
                        ],
                        "passed_time": 1339.98414,
                        "iteration": 678,
                        "remaining_time": 633.482929,
                        "learn": [
                          1.668541348
                        ]
                      },
                      {
                        "test": [
                          1.818264693
                        ],
                        "passed_time": 1341.493998,
                        "iteration": 679,
                        "remaining_time": 631.291293,
                        "learn": [
                          1.668309208
                        ]
                      },
                      {
                        "test": [
                          1.818307078
                        ],
                        "passed_time": 1344.748217,
                        "iteration": 680,
                        "remaining_time": 629.9187681,
                        "learn": [
                          1.668134045
                        ]
                      },
                      {
                        "test": [
                          1.818299591
                        ],
                        "passed_time": 1347.123836,
                        "iteration": 681,
                        "remaining_time": 628.1310557,
                        "learn": [
                          1.667967722
                        ]
                      },
                      {
                        "test": [
                          1.818280635
                        ],
                        "passed_time": 1349.849183,
                        "iteration": 682,
                        "remaining_time": 626.5039401,
                        "learn": [
                          1.667940616
                        ]
                      },
                      {
                        "test": [
                          1.818215817
                        ],
                        "passed_time": 1353.611007,
                        "iteration": 683,
                        "remaining_time": 625.3524537,
                        "learn": [
                          1.667879527
                        ]
                      },
                      {
                        "test": [
                          1.818217409
                        ],
                        "passed_time": 1356.917246,
                        "iteration": 684,
                        "remaining_time": 623.9838428,
                        "learn": [
                          1.667829808
                        ]
                      },
                      {
                        "test": [
                          1.818396634
                        ],
                        "passed_time": 1359.351143,
                        "iteration": 685,
                        "remaining_time": 622.2102901,
                        "learn": [
                          1.667689116
                        ]
                      },
                      {
                        "test": [
                          1.818388879
                        ],
                        "passed_time": 1361.121318,
                        "iteration": 686,
                        "remaining_time": 620.13242,
                        "learn": [
                          1.66755592
                        ]
                      },
                      {
                        "test": [
                          1.818369268
                        ],
                        "passed_time": 1362.787143,
                        "iteration": 687,
                        "remaining_time": 618.0081229,
                        "learn": [
                          1.667484713
                        ]
                      },
                      {
                        "test": [
                          1.818391783
                        ],
                        "passed_time": 1364.503026,
                        "iteration": 688,
                        "remaining_time": 615.9077521,
                        "learn": [
                          1.667213143
                        ]
                      },
                      {
                        "test": [
                          1.818386108
                        ],
                        "passed_time": 1366.562615,
                        "iteration": 689,
                        "remaining_time": 613.9629141,
                        "learn": [
                          1.667201031
                        ]
                      },
                      {
                        "test": [
                          1.818420889
                        ],
                        "passed_time": 1369.582933,
                        "iteration": 690,
                        "remaining_time": 612.4473607,
                        "learn": [
                          1.667130742
                        ]
                      },
                      {
                        "test": [
                          1.818368453
                        ],
                        "passed_time": 1371.409568,
                        "iteration": 691,
                        "remaining_time": 610.3961661,
                        "learn": [
                          1.66705795
                        ]
                      },
                      {
                        "test": [
                          1.818360534
                        ],
                        "passed_time": 1374.08105,
                        "iteration": 692,
                        "remaining_time": 608.7198879,
                        "learn": [
                          1.666936478
                        ]
                      },
                      {
                        "test": [
                          1.81832275
                        ],
                        "passed_time": 1376.946045,
                        "iteration": 693,
                        "remaining_time": 607.1260659,
                        "learn": [
                          1.666907131
                        ]
                      },
                      {
                        "test": [
                          1.818487617
                        ],
                        "passed_time": 1378.938991,
                        "iteration": 694,
                        "remaining_time": 605.1458883,
                        "learn": [
                          1.666683897
                        ]
                      },
                      {
                        "test": [
                          1.81846491
                        ],
                        "passed_time": 1380.99869,
                        "iteration": 695,
                        "remaining_time": 603.1948303,
                        "learn": [
                          1.666659081
                        ]
                      },
                      {
                        "test": [
                          1.81847949
                        ],
                        "passed_time": 1382.698933,
                        "iteration": 696,
                        "remaining_time": 601.0871977,
                        "learn": [
                          1.666580043
                        ]
                      },
                      {
                        "test": [
                          1.818563436
                        ],
                        "passed_time": 1384.908967,
                        "iteration": 697,
                        "remaining_time": 599.2013009,
                        "learn": [
                          1.666403124
                        ]
                      },
                      {
                        "test": [
                          1.81854488
                        ],
                        "passed_time": 1386.48441,
                        "iteration": 698,
                        "remaining_time": 597.0412125,
                        "learn": [
                          1.666215524
                        ]
                      },
                      {
                        "test": [
                          1.818496394
                        ],
                        "passed_time": 1389.296267,
                        "iteration": 699,
                        "remaining_time": 595.412686,
                        "learn": [
                          1.666180519
                        ]
                      },
                      {
                        "test": [
                          1.818571953
                        ],
                        "passed_time": 1390.549567,
                        "iteration": 700,
                        "remaining_time": 593.1160066,
                        "learn": [
                          1.665907669
                        ]
                      },
                      {
                        "test": [
                          1.818688984
                        ],
                        "passed_time": 1393.047942,
                        "iteration": 701,
                        "remaining_time": 591.3508359,
                        "learn": [
                          1.665669982
                        ]
                      },
                      {
                        "test": [
                          1.818608344
                        ],
                        "passed_time": 1394.743985,
                        "iteration": 702,
                        "remaining_time": 589.2446138,
                        "learn": [
                          1.665370388
                        ]
                      },
                      {
                        "test": [
                          1.818597901
                        ],
                        "passed_time": 1397.078924,
                        "iteration": 703,
                        "remaining_time": 587.4081838,
                        "learn": [
                          1.665345506
                        ]
                      },
                      {
                        "test": [
                          1.818597879
                        ],
                        "passed_time": 1399.01989,
                        "iteration": 704,
                        "remaining_time": 585.4054858,
                        "learn": [
                          1.665285569
                        ]
                      },
                      {
                        "test": [
                          1.818536182
                        ],
                        "passed_time": 1400.912552,
                        "iteration": 705,
                        "remaining_time": 583.3828473,
                        "learn": [
                          1.665213103
                        ]
                      },
                      {
                        "test": [
                          1.818562048
                        ],
                        "passed_time": 1402.350329,
                        "iteration": 706,
                        "remaining_time": 581.1720601,
                        "learn": [
                          1.664853168
                        ]
                      },
                      {
                        "test": [
                          1.81853111
                        ],
                        "passed_time": 1404.29431,
                        "iteration": 707,
                        "remaining_time": 579.1722297,
                        "learn": [
                          1.664729968
                        ]
                      },
                      {
                        "test": [
                          1.818607354
                        ],
                        "passed_time": 1405.944535,
                        "iteration": 708,
                        "remaining_time": 577.0519881,
                        "learn": [
                          1.664621824
                        ]
                      },
                      {
                        "test": [
                          1.818591433
                        ],
                        "passed_time": 1407.997605,
                        "iteration": 709,
                        "remaining_time": 575.0976134,
                        "learn": [
                          1.664601941
                        ]
                      },
                      {
                        "test": [
                          1.818633419
                        ],
                        "passed_time": 1409.511634,
                        "iteration": 710,
                        "remaining_time": 572.9238569,
                        "learn": [
                          1.664470355
                        ]
                      },
                      {
                        "test": [
                          1.818632401
                        ],
                        "passed_time": 1411.486634,
                        "iteration": 711,
                        "remaining_time": 570.9384137,
                        "learn": [
                          1.664464274
                        ]
                      },
                      {
                        "test": [
                          1.818719109
                        ],
                        "passed_time": 1413.313753,
                        "iteration": 712,
                        "remaining_time": 568.8934743,
                        "learn": [
                          1.664245334
                        ]
                      },
                      {
                        "test": [
                          1.818716259
                        ],
                        "passed_time": 1415.367161,
                        "iteration": 713,
                        "remaining_time": 566.9397873,
                        "learn": [
                          1.664190108
                        ]
                      },
                      {
                        "test": [
                          1.818737913
                        ],
                        "passed_time": 1418.060186,
                        "iteration": 714,
                        "remaining_time": 565.2407734,
                        "learn": [
                          1.664157876
                        ]
                      },
                      {
                        "test": [
                          1.81882722
                        ],
                        "passed_time": 1419.913509,
                        "iteration": 715,
                        "remaining_time": 563.2059168,
                        "learn": [
                          1.663981323
                        ]
                      },
                      {
                        "test": [
                          1.81880837
                        ],
                        "passed_time": 1421.700597,
                        "iteration": 716,
                        "remaining_time": 561.145424,
                        "learn": [
                          1.66386906
                        ]
                      },
                      {
                        "test": [
                          1.818840707
                        ],
                        "passed_time": 1423.99703,
                        "iteration": 717,
                        "remaining_time": 559.2857414,
                        "learn": [
                          1.663829794
                        ]
                      },
                      {
                        "test": [
                          1.818877493
                        ],
                        "passed_time": 1425.352139,
                        "iteration": 718,
                        "remaining_time": 557.0569557,
                        "learn": [
                          1.663741579
                        ]
                      },
                      {
                        "test": [
                          1.818875441
                        ],
                        "passed_time": 1428.542711,
                        "iteration": 719,
                        "remaining_time": 555.5443877,
                        "learn": [
                          1.663638194
                        ]
                      },
                      {
                        "test": [
                          1.818827568
                        ],
                        "passed_time": 1430.710717,
                        "iteration": 720,
                        "remaining_time": 553.6314703,
                        "learn": [
                          1.663524742
                        ]
                      },
                      {
                        "test": [
                          1.818884053
                        ],
                        "passed_time": 1432.692659,
                        "iteration": 721,
                        "remaining_time": 551.6462039,
                        "learn": [
                          1.663404995
                        ]
                      },
                      {
                        "test": [
                          1.818879367
                        ],
                        "passed_time": 1434.703548,
                        "iteration": 722,
                        "remaining_time": 549.6720371,
                        "learn": [
                          1.66337038
                        ]
                      },
                      {
                        "test": [
                          1.818872375
                        ],
                        "passed_time": 1437.289115,
                        "iteration": 723,
                        "remaining_time": 547.9168451,
                        "learn": [
                          1.663334869
                        ]
                      },
                      {
                        "test": [
                          1.818841194
                        ],
                        "passed_time": 1438.661098,
                        "iteration": 724,
                        "remaining_time": 545.699037,
                        "learn": [
                          1.663305221
                        ]
                      },
                      {
                        "test": [
                          1.81878448
                        ],
                        "passed_time": 1441.213718,
                        "iteration": 725,
                        "remaining_time": 543.9291444,
                        "learn": [
                          1.66327587
                        ]
                      },
                      {
                        "test": [
                          1.818744771
                        ],
                        "passed_time": 1443.945881,
                        "iteration": 726,
                        "remaining_time": 542.2245191,
                        "learn": [
                          1.663209332
                        ]
                      },
                      {
                        "test": [
                          1.818732094
                        ],
                        "passed_time": 1446.445508,
                        "iteration": 727,
                        "remaining_time": 540.4301899,
                        "learn": [
                          1.663010309
                        ]
                      },
                      {
                        "test": [
                          1.818733947
                        ],
                        "passed_time": 1447.833877,
                        "iteration": 728,
                        "remaining_time": 538.2208239,
                        "learn": [
                          1.662890219
                        ]
                      },
                      {
                        "test": [
                          1.818770942
                        ],
                        "passed_time": 1450.390241,
                        "iteration": 729,
                        "remaining_time": 536.4457057,
                        "learn": [
                          1.662649607
                        ]
                      },
                      {
                        "test": [
                          1.818867275
                        ],
                        "passed_time": 1452.851824,
                        "iteration": 730,
                        "remaining_time": 534.6335713,
                        "learn": [
                          1.662448489
                        ]
                      },
                      {
                        "test": [
                          1.81901146
                        ],
                        "passed_time": 1454.680283,
                        "iteration": 731,
                        "remaining_time": 532.5878631,
                        "learn": [
                          1.662240498
                        ]
                      },
                      {
                        "test": [
                          1.819047945
                        ],
                        "passed_time": 1456.496553,
                        "iteration": 732,
                        "remaining_time": 530.5383079,
                        "learn": [
                          1.662020444
                        ]
                      },
                      {
                        "test": [
                          1.818959266
                        ],
                        "passed_time": 1458.78984,
                        "iteration": 733,
                        "remaining_time": 528.6622579,
                        "learn": [
                          1.661917554
                        ]
                      },
                      {
                        "test": [
                          1.818922188
                        ],
                        "passed_time": 1461.100134,
                        "iteration": 734,
                        "remaining_time": 526.7912048,
                        "learn": [
                          1.661832638
                        ]
                      },
                      {
                        "test": [
                          1.819037619
                        ],
                        "passed_time": 1462.99067,
                        "iteration": 735,
                        "remaining_time": 524.7683924,
                        "learn": [
                          1.661718956
                        ]
                      },
                      {
                        "test": [
                          1.819004451
                        ],
                        "passed_time": 1464.60843,
                        "iteration": 736,
                        "remaining_time": 522.6485984,
                        "learn": [
                          1.661544387
                        ]
                      },
                      {
                        "test": [
                          1.818885891
                        ],
                        "passed_time": 1467.123315,
                        "iteration": 737,
                        "remaining_time": 520.8486567,
                        "learn": [
                          1.661387062
                        ]
                      },
                      {
                        "test": [
                          1.819064513
                        ],
                        "passed_time": 1470.209659,
                        "iteration": 738,
                        "remaining_time": 519.2486074,
                        "learn": [
                          1.661210974
                        ]
                      },
                      {
                        "test": [
                          1.819047444
                        ],
                        "passed_time": 1471.744354,
                        "iteration": 739,
                        "remaining_time": 517.0993675,
                        "learn": [
                          1.661146434
                        ]
                      },
                      {
                        "test": [
                          1.819066572
                        ],
                        "passed_time": 1473.864769,
                        "iteration": 740,
                        "remaining_time": 515.1565117,
                        "learn": [
                          1.660999927
                        ]
                      },
                      {
                        "test": [
                          1.818895673
                        ],
                        "passed_time": 1475.845193,
                        "iteration": 741,
                        "remaining_time": 513.164501,
                        "learn": [
                          1.660918391
                        ]
                      },
                      {
                        "test": [
                          1.818998319
                        ],
                        "passed_time": 1477.888289,
                        "iteration": 742,
                        "remaining_time": 511.1941996,
                        "learn": [
                          1.660788848
                        ]
                      },
                      {
                        "test": [
                          1.818919863
                        ],
                        "passed_time": 1480.575569,
                        "iteration": 743,
                        "remaining_time": 509.445357,
                        "learn": [
                          1.660732454
                        ]
                      },
                      {
                        "test": [
                          1.819037425
                        ],
                        "passed_time": 1482.495068,
                        "iteration": 744,
                        "remaining_time": 507.4311978,
                        "learn": [
                          1.660572809
                        ]
                      },
                      {
                        "test": [
                          1.818987304
                        ],
                        "passed_time": 1484.931227,
                        "iteration": 745,
                        "remaining_time": 505.5932061,
                        "learn": [
                          1.660445595
                        ]
                      },
                      {
                        "test": [
                          1.818983822
                        ],
                        "passed_time": 1486.784605,
                        "iteration": 746,
                        "remaining_time": 503.5562318,
                        "learn": [
                          1.660431387
                        ]
                      },
                      {
                        "test": [
                          1.81907519
                        ],
                        "passed_time": 1488.177056,
                        "iteration": 747,
                        "remaining_time": 501.3644627,
                        "learn": [
                          1.660278689
                        ]
                      },
                      {
                        "test": [
                          1.819019137
                        ],
                        "passed_time": 1489.978121,
                        "iteration": 748,
                        "remaining_time": 499.3117601,
                        "learn": [
                          1.659877766
                        ]
                      },
                      {
                        "test": [
                          1.818789135
                        ],
                        "passed_time": 1491.466729,
                        "iteration": 749,
                        "remaining_time": 497.1555765,
                        "learn": [
                          1.659513925
                        ]
                      },
                      {
                        "test": [
                          1.818754378
                        ],
                        "passed_time": 1493.283847,
                        "iteration": 750,
                        "remaining_time": 495.1100904,
                        "learn": [
                          1.659464295
                        ]
                      },
                      {
                        "test": [
                          1.818843819
                        ],
                        "passed_time": 1495.789182,
                        "iteration": 751,
                        "remaining_time": 493.2921772,
                        "learn": [
                          1.659381209
                        ]
                      },
                      {
                        "test": [
                          1.818856142
                        ],
                        "passed_time": 1497.6232,
                        "iteration": 752,
                        "remaining_time": 491.2522315,
                        "learn": [
                          1.659339556
                        ]
                      },
                      {
                        "test": [
                          1.818855577
                        ],
                        "passed_time": 1500.150779,
                        "iteration": 753,
                        "remaining_time": 489.4391135,
                        "learn": [
                          1.659324849
                        ]
                      },
                      {
                        "test": [
                          1.818850516
                        ],
                        "passed_time": 1502.029204,
                        "iteration": 754,
                        "remaining_time": 487.4134502,
                        "learn": [
                          1.659281409
                        ]
                      },
                      {
                        "test": [
                          1.818803481
                        ],
                        "passed_time": 1504.361078,
                        "iteration": 755,
                        "remaining_time": 485.5345277,
                        "learn": [
                          1.659201009
                        ]
                      },
                      {
                        "test": [
                          1.818778994
                        ],
                        "passed_time": 1506.859686,
                        "iteration": 756,
                        "remaining_time": 483.707931,
                        "learn": [
                          1.659121486
                        ]
                      },
                      {
                        "test": [
                          1.818784641
                        ],
                        "passed_time": 1508.696354,
                        "iteration": 757,
                        "remaining_time": 481.6682291,
                        "learn": [
                          1.659114913
                        ]
                      },
                      {
                        "test": [
                          1.818732826
                        ],
                        "passed_time": 1511.093807,
                        "iteration": 758,
                        "remaining_time": 479.8071246,
                        "learn": [
                          1.659014754
                        ]
                      },
                      {
                        "test": [
                          1.818883638
                        ],
                        "passed_time": 1512.604691,
                        "iteration": 759,
                        "remaining_time": 477.6646392,
                        "learn": [
                          1.658892148
                        ]
                      },
                      {
                        "test": [
                          1.818876127
                        ],
                        "passed_time": 1515.06056,
                        "iteration": 760,
                        "remaining_time": 475.8205963,
                        "learn": [
                          1.658846742
                        ]
                      },
                      {
                        "test": [
                          1.8189587
                        ],
                        "passed_time": 1516.927727,
                        "iteration": 761,
                        "remaining_time": 473.7910747,
                        "learn": [
                          1.658619485
                        ]
                      },
                      {
                        "test": [
                          1.818958451
                        ],
                        "passed_time": 1518.208931,
                        "iteration": 762,
                        "remaining_time": 471.5799694,
                        "learn": [
                          1.658612965
                        ]
                      },
                      {
                        "test": [
                          1.818923249
                        ],
                        "passed_time": 1520.280404,
                        "iteration": 763,
                        "remaining_time": 469.6154128,
                        "learn": [
                          1.658534071
                        ]
                      },
                      {
                        "test": [
                          1.818963482
                        ],
                        "passed_time": 1522.283225,
                        "iteration": 764,
                        "remaining_time": 467.6294873,
                        "learn": [
                          1.658293336
                        ]
                      },
                      {
                        "test": [
                          1.819208661
                        ],
                        "passed_time": 1524.505343,
                        "iteration": 765,
                        "remaining_time": 465.7105094,
                        "learn": [
                          1.658011737
                        ]
                      },
                      {
                        "test": [
                          1.819208031
                        ],
                        "passed_time": 1526.321765,
                        "iteration": 766,
                        "remaining_time": 463.6674982,
                        "learn": [
                          1.658010762
                        ]
                      },
                      {
                        "test": [
                          1.819103163
                        ],
                        "passed_time": 1528.151835,
                        "iteration": 767,
                        "remaining_time": 461.6292001,
                        "learn": [
                          1.657914107
                        ]
                      },
                      {
                        "test": [
                          1.819155756
                        ],
                        "passed_time": 1530.260106,
                        "iteration": 768,
                        "remaining_time": 459.6750123,
                        "learn": [
                          1.65766136
                        ]
                      },
                      {
                        "test": [
                          1.819127096
                        ],
                        "passed_time": 1532.082393,
                        "iteration": 769,
                        "remaining_time": 457.6350005,
                        "learn": [
                          1.657613961
                        ]
                      },
                      {
                        "test": [
                          1.819069366
                        ],
                        "passed_time": 1533.67569,
                        "iteration": 770,
                        "remaining_time": 455.5275396,
                        "learn": [
                          1.657541933
                        ]
                      },
                      {
                        "test": [
                          1.819061031
                        ],
                        "passed_time": 1536.197541,
                        "iteration": 771,
                        "remaining_time": 453.6956469,
                        "learn": [
                          1.657526892
                        ]
                      },
                      {
                        "test": [
                          1.81907016
                        ],
                        "passed_time": 1538.322347,
                        "iteration": 772,
                        "remaining_time": 451.7453724,
                        "learn": [
                          1.657423973
                        ]
                      },
                      {
                        "test": [
                          1.819036439
                        ],
                        "passed_time": 1539.870301,
                        "iteration": 773,
                        "remaining_time": 449.6262119,
                        "learn": [
                          1.657389669
                        ]
                      },
                      {
                        "test": [
                          1.819033939
                        ],
                        "passed_time": 1541.56695,
                        "iteration": 774,
                        "remaining_time": 447.5516953,
                        "learn": [
                          1.657378131
                        ]
                      },
                      {
                        "test": [
                          1.819006289
                        ],
                        "passed_time": 1543.708373,
                        "iteration": 775,
                        "remaining_time": 445.6065406,
                        "learn": [
                          1.65734911
                        ]
                      },
                      {
                        "test": [
                          1.819006043
                        ],
                        "passed_time": 1545.757292,
                        "iteration": 776,
                        "remaining_time": 443.6343322,
                        "learn": [
                          1.657327255
                        ]
                      },
                      {
                        "test": [
                          1.818994796
                        ],
                        "passed_time": 1547.191763,
                        "iteration": 777,
                        "remaining_time": 441.4865957,
                        "learn": [
                          1.657163061
                        ]
                      },
                      {
                        "test": [
                          1.818956767
                        ],
                        "passed_time": 1549.200542,
                        "iteration": 778,
                        "remaining_time": 439.5036197,
                        "learn": [
                          1.657080112
                        ]
                      },
                      {
                        "test": [
                          1.818994714
                        ],
                        "passed_time": 1552.255751,
                        "iteration": 779,
                        "remaining_time": 437.8157245,
                        "learn": [
                          1.656901827
                        ]
                      },
                      {
                        "test": [
                          1.818912108
                        ],
                        "passed_time": 1554.856944,
                        "iteration": 780,
                        "remaining_time": 435.9970176,
                        "learn": [
                          1.656825868
                        ]
                      },
                      {
                        "test": [
                          1.818862988
                        ],
                        "passed_time": 1557.149895,
                        "iteration": 781,
                        "remaining_time": 434.09038,
                        "learn": [
                          1.656708068
                        ]
                      },
                      {
                        "test": [
                          1.818852036
                        ],
                        "passed_time": 1559.487168,
                        "iteration": 782,
                        "remaining_time": 432.1950388,
                        "learn": [
                          1.656541475
                        ]
                      },
                      {
                        "test": [
                          1.818859943
                        ],
                        "passed_time": 1561.208709,
                        "iteration": 783,
                        "remaining_time": 430.1289301,
                        "learn": [
                          1.656497549
                        ]
                      },
                      {
                        "test": [
                          1.818868771
                        ],
                        "passed_time": 1562.891545,
                        "iteration": 784,
                        "remaining_time": 428.0530983,
                        "learn": [
                          1.656462006
                        ]
                      },
                      {
                        "test": [
                          1.818856153
                        ],
                        "passed_time": 1565.080586,
                        "iteration": 785,
                        "remaining_time": 426.1160882,
                        "learn": [
                          1.656432346
                        ]
                      },
                      {
                        "test": [
                          1.818876266
                        ],
                        "passed_time": 1567.727894,
                        "iteration": 786,
                        "remaining_time": 424.3024669,
                        "learn": [
                          1.656214103
                        ]
                      },
                      {
                        "test": [
                          1.818930369
                        ],
                        "passed_time": 1569.435252,
                        "iteration": 787,
                        "remaining_time": 422.2338496,
                        "learn": [
                          1.655978414
                        ]
                      },
                      {
                        "test": [
                          1.818890485
                        ],
                        "passed_time": 1571.288274,
                        "iteration": 788,
                        "remaining_time": 420.2051024,
                        "learn": [
                          1.655938386
                        ]
                      },
                      {
                        "test": [
                          1.818849767
                        ],
                        "passed_time": 1573.229028,
                        "iteration": 789,
                        "remaining_time": 418.2001213,
                        "learn": [
                          1.655834843
                        ]
                      },
                      {
                        "test": [
                          1.819049893
                        ],
                        "passed_time": 1574.83688,
                        "iteration": 790,
                        "remaining_time": 416.1073424,
                        "learn": [
                          1.655553255
                        ]
                      },
                      {
                        "test": [
                          1.819073846
                        ],
                        "passed_time": 1576.899537,
                        "iteration": 791,
                        "remaining_time": 414.135232,
                        "learn": [
                          1.655537224
                        ]
                      },
                      {
                        "test": [
                          1.819205188
                        ],
                        "passed_time": 1578.749797,
                        "iteration": 792,
                        "remaining_time": 412.1074502,
                        "learn": [
                          1.655282649
                        ]
                      },
                      {
                        "test": [
                          1.819267035
                        ],
                        "passed_time": 1580.706852,
                        "iteration": 793,
                        "remaining_time": 410.1078231,
                        "learn": [
                          1.655156373
                        ]
                      },
                      {
                        "test": [
                          1.819188582
                        ],
                        "passed_time": 1582.422974,
                        "iteration": 794,
                        "remaining_time": 408.0461758,
                        "learn": [
                          1.654942622
                        ]
                      },
                      {
                        "test": [
                          1.81918493
                        ],
                        "passed_time": 1583.902043,
                        "iteration": 795,
                        "remaining_time": 405.9246443,
                        "learn": [
                          1.654831462
                        ]
                      },
                      {
                        "test": [
                          1.819168538
                        ],
                        "passed_time": 1586.04275,
                        "iteration": 796,
                        "remaining_time": 403.9732476,
                        "learn": [
                          1.654762732
                        ]
                      },
                      {
                        "test": [
                          1.819215142
                        ],
                        "passed_time": 1587.914411,
                        "iteration": 797,
                        "remaining_time": 401.953272,
                        "learn": [
                          1.654626643
                        ]
                      },
                      {
                        "test": [
                          1.819201567
                        ],
                        "passed_time": 1590.361684,
                        "iteration": 798,
                        "remaining_time": 400.0784711,
                        "learn": [
                          1.654596406
                        ]
                      },
                      {
                        "test": [
                          1.819326938
                        ],
                        "passed_time": 1592.525555,
                        "iteration": 799,
                        "remaining_time": 398.1313886,
                        "learn": [
                          1.654490469
                        ]
                      },
                      {
                        "test": [
                          1.819390474
                        ],
                        "passed_time": 1594.067193,
                        "iteration": 800,
                        "remaining_time": 396.0291778,
                        "learn": [
                          1.654432021
                        ]
                      },
                      {
                        "test": [
                          1.819373162
                        ],
                        "passed_time": 1596.278327,
                        "iteration": 801,
                        "remaining_time": 394.0936519,
                        "learn": [
                          1.654288354
                        ]
                      },
                      {
                        "test": [
                          1.819360338
                        ],
                        "passed_time": 1597.890642,
                        "iteration": 802,
                        "remaining_time": 392.0105312,
                        "learn": [
                          1.654254679
                        ]
                      },
                      {
                        "test": [
                          1.819367514
                        ],
                        "passed_time": 1600.825672,
                        "iteration": 803,
                        "remaining_time": 390.2510344,
                        "learn": [
                          1.65424731
                        ]
                      },
                      {
                        "test": [
                          1.819212965
                        ],
                        "passed_time": 1602.638217,
                        "iteration": 804,
                        "remaining_time": 388.216711,
                        "learn": [
                          1.653889395
                        ]
                      },
                      {
                        "test": [
                          1.819303562
                        ],
                        "passed_time": 1605.543257,
                        "iteration": 805,
                        "remaining_time": 386.4458956,
                        "learn": [
                          1.653716773
                        ]
                      },
                      {
                        "test": [
                          1.819226332
                        ],
                        "passed_time": 1607.523365,
                        "iteration": 806,
                        "remaining_time": 384.4510649,
                        "learn": [
                          1.653548357
                        ]
                      },
                      {
                        "test": [
                          1.819320105
                        ],
                        "passed_time": 1610.247882,
                        "iteration": 807,
                        "remaining_time": 382.6331602,
                        "learn": [
                          1.653481122
                        ]
                      },
                      {
                        "test": [
                          1.819370986
                        ],
                        "passed_time": 1612.449755,
                        "iteration": 808,
                        "remaining_time": 380.6896207,
                        "learn": [
                          1.653426675
                        ]
                      },
                      {
                        "test": [
                          1.819373392
                        ],
                        "passed_time": 1614.523446,
                        "iteration": 809,
                        "remaining_time": 378.7153763,
                        "learn": [
                          1.653416678
                        ]
                      },
                      {
                        "test": [
                          1.819374988
                        ],
                        "passed_time": 1616.2623,
                        "iteration": 810,
                        "remaining_time": 376.6628541,
                        "learn": [
                          1.653413682
                        ]
                      },
                      {
                        "test": [
                          1.819367783
                        ],
                        "passed_time": 1618.012421,
                        "iteration": 811,
                        "remaining_time": 374.6137131,
                        "learn": [
                          1.653185124
                        ]
                      },
                      {
                        "test": [
                          1.819374453
                        ],
                        "passed_time": 1619.498787,
                        "iteration": 812,
                        "remaining_time": 372.504641,
                        "learn": [
                          1.653165004
                        ]
                      },
                      {
                        "test": [
                          1.819430463
                        ],
                        "passed_time": 1621.361248,
                        "iteration": 813,
                        "remaining_time": 370.4830369,
                        "learn": [
                          1.653015075
                        ]
                      },
                      {
                        "test": [
                          1.819454886
                        ],
                        "passed_time": 1622.628273,
                        "iteration": 814,
                        "remaining_time": 368.3266632,
                        "learn": [
                          1.652914402
                        ]
                      },
                      {
                        "test": [
                          1.819442921
                        ],
                        "passed_time": 1624.613192,
                        "iteration": 815,
                        "remaining_time": 366.3343473,
                        "learn": [
                          1.652894119
                        ]
                      },
                      {
                        "test": [
                          1.819461383
                        ],
                        "passed_time": 1626.370774,
                        "iteration": 816,
                        "remaining_time": 364.291128,
                        "learn": [
                          1.652863032
                        ]
                      },
                      {
                        "test": [
                          1.819479253
                        ],
                        "passed_time": 1628.731103,
                        "iteration": 817,
                        "remaining_time": 362.3827148,
                        "learn": [
                          1.652820676
                        ]
                      },
                      {
                        "test": [
                          1.819598486
                        ],
                        "passed_time": 1630.603868,
                        "iteration": 818,
                        "remaining_time": 360.3654458,
                        "learn": [
                          1.652549302
                        ]
                      },
                      {
                        "test": [
                          1.819528204
                        ],
                        "passed_time": 1632.338657,
                        "iteration": 819,
                        "remaining_time": 358.3182418,
                        "learn": [
                          1.652447689
                        ]
                      },
                      {
                        "test": [
                          1.819498198
                        ],
                        "passed_time": 1634.620152,
                        "iteration": 820,
                        "remaining_time": 356.3909953,
                        "learn": [
                          1.652349108
                        ]
                      },
                      {
                        "test": [
                          1.819496825
                        ],
                        "passed_time": 1635.877893,
                        "iteration": 821,
                        "remaining_time": 354.2411982,
                        "learn": [
                          1.652343276
                        ]
                      },
                      {
                        "test": [
                          1.819540893
                        ],
                        "passed_time": 1637.42957,
                        "iteration": 822,
                        "remaining_time": 352.1567848,
                        "learn": [
                          1.652239184
                        ]
                      },
                      {
                        "test": [
                          1.819581122
                        ],
                        "passed_time": 1639.011059,
                        "iteration": 823,
                        "remaining_time": 350.080032,
                        "learn": [
                          1.652040579
                        ]
                      },
                      {
                        "test": [
                          1.819517294
                        ],
                        "passed_time": 1640.932271,
                        "iteration": 824,
                        "remaining_time": 348.0765423,
                        "learn": [
                          1.651969358
                        ]
                      },
                      {
                        "test": [
                          1.819187407
                        ],
                        "passed_time": 1643.579214,
                        "iteration": 825,
                        "remaining_time": 346.2261298,
                        "learn": [
                          1.651829894
                        ]
                      },
                      {
                        "test": [
                          1.819184751
                        ],
                        "passed_time": 1646.466648,
                        "iteration": 826,
                        "remaining_time": 344.4240993,
                        "learn": [
                          1.651732069
                        ]
                      },
                      {
                        "test": [
                          1.819252722
                        ],
                        "passed_time": 1648.401589,
                        "iteration": 827,
                        "remaining_time": 342.4215861,
                        "learn": [
                          1.651607702
                        ]
                      },
                      {
                        "test": [
                          1.819267926
                        ],
                        "passed_time": 1650.755555,
                        "iteration": 828,
                        "remaining_time": 340.5056694,
                        "learn": [
                          1.651500861
                        ]
                      },
                      {
                        "test": [
                          1.819304763
                        ],
                        "passed_time": 1652.916273,
                        "iteration": 829,
                        "remaining_time": 338.5491161,
                        "learn": [
                          1.651395483
                        ]
                      },
                      {
                        "test": [
                          1.81922437
                        ],
                        "passed_time": 1654.511486,
                        "iteration": 830,
                        "remaining_time": 336.4770652,
                        "learn": [
                          1.651323826
                        ]
                      },
                      {
                        "test": [
                          1.819454524
                        ],
                        "passed_time": 1656.189686,
                        "iteration": 831,
                        "remaining_time": 334.4229173,
                        "learn": [
                          1.651145652
                        ]
                      },
                      {
                        "test": [
                          1.819483764
                        ],
                        "passed_time": 1657.702457,
                        "iteration": 832,
                        "remaining_time": 332.3365071,
                        "learn": [
                          1.65094185
                        ]
                      },
                      {
                        "test": [
                          1.819477711
                        ],
                        "passed_time": 1659.549254,
                        "iteration": 833,
                        "remaining_time": 330.3179571,
                        "learn": [
                          1.650752082
                        ]
                      },
                      {
                        "test": [
                          1.81953822
                        ],
                        "passed_time": 1661.277979,
                        "iteration": 834,
                        "remaining_time": 328.276487,
                        "learn": [
                          1.650644506
                        ]
                      },
                      {
                        "test": [
                          1.819638772
                        ],
                        "passed_time": 1662.892614,
                        "iteration": 835,
                        "remaining_time": 326.2133836,
                        "learn": [
                          1.650614032
                        ]
                      },
                      {
                        "test": [
                          1.819650571
                        ],
                        "passed_time": 1665.62188,
                        "iteration": 836,
                        "remaining_time": 324.3684186,
                        "learn": [
                          1.650559443
                        ]
                      },
                      {
                        "test": [
                          1.81955532
                        ],
                        "passed_time": 1668.801137,
                        "iteration": 837,
                        "remaining_time": 322.6083344,
                        "learn": [
                          1.650414376
                        ]
                      },
                      {
                        "test": [
                          1.819504939
                        ],
                        "passed_time": 1670.46525,
                        "iteration": 838,
                        "remaining_time": 320.5541184,
                        "learn": [
                          1.650383752
                        ]
                      },
                      {
                        "test": [
                          1.819541863
                        ],
                        "passed_time": 1672.380593,
                        "iteration": 839,
                        "remaining_time": 318.5486845,
                        "learn": [
                          1.650168992
                        ]
                      },
                      {
                        "test": [
                          1.819576512
                        ],
                        "passed_time": 1674.258296,
                        "iteration": 840,
                        "remaining_time": 316.5363484,
                        "learn": [
                          1.650026574
                        ]
                      },
                      {
                        "test": [
                          1.819567755
                        ],
                        "passed_time": 1675.904607,
                        "iteration": 841,
                        "remaining_time": 314.480912,
                        "learn": [
                          1.649865186
                        ]
                      },
                      {
                        "test": [
                          1.819555713
                        ],
                        "passed_time": 1677.756091,
                        "iteration": 842,
                        "remaining_time": 312.4646575,
                        "learn": [
                          1.649837003
                        ]
                      },
                      {
                        "test": [
                          1.819415757
                        ],
                        "passed_time": 1679.401705,
                        "iteration": 843,
                        "remaining_time": 310.4107416,
                        "learn": [
                          1.649693957
                        ]
                      },
                      {
                        "test": [
                          1.819397458
                        ],
                        "passed_time": 1681.652508,
                        "iteration": 844,
                        "remaining_time": 308.4688032,
                        "learn": [
                          1.649611383
                        ]
                      },
                      {
                        "test": [
                          1.819416714
                        ],
                        "passed_time": 1684.153328,
                        "iteration": 845,
                        "remaining_time": 306.5716459,
                        "learn": [
                          1.649540751
                        ]
                      },
                      {
                        "test": [
                          1.819418495
                        ],
                        "passed_time": 1686.439825,
                        "iteration": 846,
                        "remaining_time": 304.6343485,
                        "learn": [
                          1.649356814
                        ]
                      },
                      {
                        "test": [
                          1.819500888
                        ],
                        "passed_time": 1688.449749,
                        "iteration": 847,
                        "remaining_time": 302.6466531,
                        "learn": [
                          1.649158187
                        ]
                      },
                      {
                        "test": [
                          1.819412917
                        ],
                        "passed_time": 1690.006309,
                        "iteration": 848,
                        "remaining_time": 300.5782716,
                        "learn": [
                          1.649066354
                        ]
                      },
                      {
                        "test": [
                          1.819512197
                        ],
                        "passed_time": 1692.43945,
                        "iteration": 849,
                        "remaining_time": 298.6657853,
                        "learn": [
                          1.648802072
                        ]
                      },
                      {
                        "test": [
                          1.819647023
                        ],
                        "passed_time": 1694.024674,
                        "iteration": 850,
                        "remaining_time": 296.603615,
                        "learn": [
                          1.648609549
                        ]
                      },
                      {
                        "test": [
                          1.819660805
                        ],
                        "passed_time": 1696.628054,
                        "iteration": 851,
                        "remaining_time": 294.7194272,
                        "learn": [
                          1.64856082
                        ]
                      },
                      {
                        "test": [
                          1.819800247
                        ],
                        "passed_time": 1698.435624,
                        "iteration": 852,
                        "remaining_time": 292.6964089,
                        "learn": [
                          1.648423402
                        ]
                      },
                      {
                        "test": [
                          1.819758752
                        ],
                        "passed_time": 1701.391048,
                        "iteration": 853,
                        "remaining_time": 290.8701323,
                        "learn": [
                          1.648380944
                        ]
                      },
                      {
                        "test": [
                          1.81974709
                        ],
                        "passed_time": 1703.437056,
                        "iteration": 854,
                        "remaining_time": 288.886986,
                        "learn": [
                          1.648266365
                        ]
                      },
                      {
                        "test": [
                          1.81981038
                        ],
                        "passed_time": 1705.35842,
                        "iteration": 855,
                        "remaining_time": 286.8827249,
                        "learn": [
                          1.648171826
                        ]
                      },
                      {
                        "test": [
                          1.819784346
                        ],
                        "passed_time": 1706.667845,
                        "iteration": 856,
                        "remaining_time": 284.7765482,
                        "learn": [
                          1.648001658
                        ]
                      },
                      {
                        "test": [
                          1.819779528
                        ],
                        "passed_time": 1708.285805,
                        "iteration": 857,
                        "remaining_time": 282.7232918,
                        "learn": [
                          1.647987405
                        ]
                      },
                      {
                        "test": [
                          1.819838764
                        ],
                        "passed_time": 1710.558802,
                        "iteration": 858,
                        "remaining_time": 280.7785694,
                        "learn": [
                          1.647885842
                        ]
                      },
                      {
                        "test": [
                          1.819838577
                        ],
                        "passed_time": 1712.373439,
                        "iteration": 859,
                        "remaining_time": 278.7584668,
                        "learn": [
                          1.647858996
                        ]
                      },
                      {
                        "test": [
                          1.819963573
                        ],
                        "passed_time": 1714.497106,
                        "iteration": 860,
                        "remaining_time": 276.7887315,
                        "learn": [
                          1.647729073
                        ]
                      },
                      {
                        "test": [
                          1.819945494
                        ],
                        "passed_time": 1716.335105,
                        "iteration": 861,
                        "remaining_time": 274.7729055,
                        "learn": [
                          1.64770433
                        ]
                      },
                      {
                        "test": [
                          1.819925356
                        ],
                        "passed_time": 1719.196125,
                        "iteration": 862,
                        "remaining_time": 272.9198947,
                        "learn": [
                          1.647685734
                        ]
                      },
                      {
                        "test": [
                          1.819987283
                        ],
                        "passed_time": 1721.576267,
                        "iteration": 863,
                        "remaining_time": 270.9888568,
                        "learn": [
                          1.64757762
                        ]
                      },
                      {
                        "test": [
                          1.819979434
                        ],
                        "passed_time": 1723.464512,
                        "iteration": 864,
                        "remaining_time": 268.9800105,
                        "learn": [
                          1.647529519
                        ]
                      },
                      {
                        "test": [
                          1.820124622
                        ],
                        "passed_time": 1726.386711,
                        "iteration": 865,
                        "remaining_time": 267.131431,
                        "learn": [
                          1.647331204
                        ]
                      },
                      {
                        "test": [
                          1.819987266
                        ],
                        "passed_time": 1728.417683,
                        "iteration": 866,
                        "remaining_time": 265.1436585,
                        "learn": [
                          1.647247765
                        ]
                      },
                      {
                        "test": [
                          1.820100188
                        ],
                        "passed_time": 1730.080153,
                        "iteration": 867,
                        "remaining_time": 263.0997467,
                        "learn": [
                          1.647069449
                        ]
                      },
                      {
                        "test": [
                          1.820087846
                        ],
                        "passed_time": 1731.689754,
                        "iteration": 868,
                        "remaining_time": 261.0487432,
                        "learn": [
                          1.647039464
                        ]
                      },
                      {
                        "test": [
                          1.820137358
                        ],
                        "passed_time": 1733.642372,
                        "iteration": 869,
                        "remaining_time": 259.0500097,
                        "learn": [
                          1.646926801
                        ]
                      },
                      {
                        "test": [
                          1.820124937
                        ],
                        "passed_time": 1735.890319,
                        "iteration": 870,
                        "remaining_time": 257.0951218,
                        "learn": [
                          1.646773891
                        ]
                      },
                      {
                        "test": [
                          1.820081309
                        ],
                        "passed_time": 1738.101456,
                        "iteration": 871,
                        "remaining_time": 255.1341586,
                        "learn": [
                          1.646626246
                        ]
                      },
                      {
                        "test": [
                          1.82013255
                        ],
                        "passed_time": 1739.945972,
                        "iteration": 872,
                        "remaining_time": 253.1192881,
                        "learn": [
                          1.646551059
                        ]
                      },
                      {
                        "test": [
                          1.820097901
                        ],
                        "passed_time": 1741.911459,
                        "iteration": 873,
                        "remaining_time": 251.1222469,
                        "learn": [
                          1.646484488
                        ]
                      },
                      {
                        "test": [
                          1.820108802
                        ],
                        "passed_time": 1743.877419,
                        "iteration": 874,
                        "remaining_time": 249.1253456,
                        "learn": [
                          1.646376092
                        ]
                      },
                      {
                        "test": [
                          1.820089917
                        ],
                        "passed_time": 1745.73532,
                        "iteration": 875,
                        "remaining_time": 247.1132188,
                        "learn": [
                          1.646364142
                        ]
                      },
                      {
                        "test": [
                          1.820125786
                        ],
                        "passed_time": 1746.970596,
                        "iteration": 876,
                        "remaining_time": 245.01412,
                        "learn": [
                          1.646285589
                        ]
                      },
                      {
                        "test": [
                          1.820124003
                        ],
                        "passed_time": 1749.195762,
                        "iteration": 877,
                        "remaining_time": 243.0545364,
                        "learn": [
                          1.646257362
                        ]
                      },
                      {
                        "test": [
                          1.820097499
                        ],
                        "passed_time": 1751.353815,
                        "iteration": 878,
                        "remaining_time": 241.0851099,
                        "learn": [
                          1.646117631
                        ]
                      },
                      {
                        "test": [
                          1.820079675
                        ],
                        "passed_time": 1754.032075,
                        "iteration": 879,
                        "remaining_time": 239.186192,
                        "learn": [
                          1.646031859
                        ]
                      },
                      {
                        "test": [
                          1.820237876
                        ],
                        "passed_time": 1755.56948,
                        "iteration": 880,
                        "remaining_time": 237.1314053,
                        "learn": [
                          1.64571384
                        ]
                      },
                      {
                        "test": [
                          1.82012686
                        ],
                        "passed_time": 1757.002924,
                        "iteration": 881,
                        "remaining_time": 235.0638832,
                        "learn": [
                          1.645639249
                        ]
                      },
                      {
                        "test": [
                          1.820130864
                        ],
                        "passed_time": 1758.443862,
                        "iteration": 882,
                        "remaining_time": 232.9987904,
                        "learn": [
                          1.645620375
                        ]
                      },
                      {
                        "test": [
                          1.820135974
                        ],
                        "passed_time": 1761.187999,
                        "iteration": 883,
                        "remaining_time": 231.1061175,
                        "learn": [
                          1.64558058
                        ]
                      },
                      {
                        "test": [
                          1.820139693
                        ],
                        "passed_time": 1763.095535,
                        "iteration": 884,
                        "remaining_time": 229.1028096,
                        "learn": [
                          1.645359335
                        ]
                      },
                      {
                        "test": [
                          1.820172129
                        ],
                        "passed_time": 1765.167549,
                        "iteration": 885,
                        "remaining_time": 227.120881,
                        "learn": [
                          1.645296555
                        ]
                      },
                      {
                        "test": [
                          1.820191884
                        ],
                        "passed_time": 1766.917169,
                        "iteration": 886,
                        "remaining_time": 225.0976777,
                        "learn": [
                          1.645126393
                        ]
                      },
                      {
                        "test": [
                          1.820285682
                        ],
                        "passed_time": 1769.425151,
                        "iteration": 887,
                        "remaining_time": 223.1707398,
                        "learn": [
                          1.644939576
                        ]
                      },
                      {
                        "test": [
                          1.820238569
                        ],
                        "passed_time": 1771.548121,
                        "iteration": 888,
                        "remaining_time": 221.1944223,
                        "learn": [
                          1.644812435
                        ]
                      },
                      {
                        "test": [
                          1.820277019
                        ],
                        "passed_time": 1774.513141,
                        "iteration": 889,
                        "remaining_time": 219.3218489,
                        "learn": [
                          1.644639754
                        ]
                      },
                      {
                        "test": [
                          1.820332025
                        ],
                        "passed_time": 1776.804466,
                        "iteration": 890,
                        "remaining_time": 217.3644071,
                        "learn": [
                          1.64457606
                        ]
                      },
                      {
                        "test": [
                          1.820294448
                        ],
                        "passed_time": 1778.398605,
                        "iteration": 891,
                        "remaining_time": 215.3218042,
                        "learn": [
                          1.644365806
                        ]
                      },
                      {
                        "test": [
                          1.820318474
                        ],
                        "passed_time": 1780.18078,
                        "iteration": 892,
                        "remaining_time": 213.3027362,
                        "learn": [
                          1.644299004
                        ]
                      },
                      {
                        "test": [
                          1.820303892
                        ],
                        "passed_time": 1782.133743,
                        "iteration": 893,
                        "remaining_time": 211.3044483,
                        "learn": [
                          1.644201351
                        ]
                      },
                      {
                        "test": [
                          1.820254319
                        ],
                        "passed_time": 1784.092807,
                        "iteration": 894,
                        "remaining_time": 209.3069774,
                        "learn": [
                          1.6440904
                        ]
                      },
                      {
                        "test": [
                          1.820295173
                        ],
                        "passed_time": 1785.919957,
                        "iteration": 895,
                        "remaining_time": 207.2942808,
                        "learn": [
                          1.644025904
                        ]
                      },
                      {
                        "test": [
                          1.820109238
                        ],
                        "passed_time": 1788.39346,
                        "iteration": 896,
                        "remaining_time": 205.3562167,
                        "learn": [
                          1.643880918
                        ]
                      },
                      {
                        "test": [
                          1.820107667
                        ],
                        "passed_time": 1789.908417,
                        "iteration": 897,
                        "remaining_time": 203.308083,
                        "learn": [
                          1.643860863
                        ]
                      },
                      {
                        "test": [
                          1.820203862
                        ],
                        "passed_time": 1791.982869,
                        "iteration": 898,
                        "remaining_time": 201.323993,
                        "learn": [
                          1.643819552
                        ]
                      },
                      {
                        "test": [
                          1.820300663
                        ],
                        "passed_time": 1793.645622,
                        "iteration": 899,
                        "remaining_time": 199.293958,
                        "learn": [
                          1.643647768
                        ]
                      },
                      {
                        "test": [
                          1.820343206
                        ],
                        "passed_time": 1795.807804,
                        "iteration": 900,
                        "remaining_time": 197.3196144,
                        "learn": [
                          1.643627868
                        ]
                      },
                      {
                        "test": [
                          1.820413861
                        ],
                        "passed_time": 1798.042802,
                        "iteration": 901,
                        "remaining_time": 195.3527656,
                        "learn": [
                          1.643496127
                        ]
                      },
                      {
                        "test": [
                          1.820405301
                        ],
                        "passed_time": 1799.863168,
                        "iteration": 902,
                        "remaining_time": 193.3407833,
                        "learn": [
                          1.64346356
                        ]
                      },
                      {
                        "test": [
                          1.820300732
                        ],
                        "passed_time": 1801.418264,
                        "iteration": 903,
                        "remaining_time": 191.3010546,
                        "learn": [
                          1.643355427
                        ]
                      },
                      {
                        "test": [
                          1.820322346
                        ],
                        "passed_time": 1803.749508,
                        "iteration": 904,
                        "remaining_time": 189.343871,
                        "learn": [
                          1.643315205
                        ]
                      },
                      {
                        "test": [
                          1.820336899
                        ],
                        "passed_time": 1805.789306,
                        "iteration": 905,
                        "remaining_time": 187.3556234,
                        "learn": [
                          1.643305241
                        ]
                      },
                      {
                        "test": [
                          1.820324247
                        ],
                        "passed_time": 1808.433994,
                        "iteration": 906,
                        "remaining_time": 185.4292849,
                        "learn": [
                          1.643206795
                        ]
                      },
                      {
                        "test": [
                          1.820331756
                        ],
                        "passed_time": 1810.177297,
                        "iteration": 907,
                        "remaining_time": 183.4100345,
                        "learn": [
                          1.643183749
                        ]
                      },
                      {
                        "test": [
                          1.820337004
                        ],
                        "passed_time": 1811.885955,
                        "iteration": 908,
                        "remaining_time": 181.3879229,
                        "learn": [
                          1.643106759
                        ]
                      },
                      {
                        "test": [
                          1.820138274
                        ],
                        "passed_time": 1813.611099,
                        "iteration": 909,
                        "remaining_time": 179.3681307,
                        "learn": [
                          1.642771335
                        ]
                      },
                      {
                        "test": [
                          1.820392425
                        ],
                        "passed_time": 1815.183851,
                        "iteration": 910,
                        "remaining_time": 177.3340974,
                        "learn": [
                          1.642565558
                        ]
                      },
                      {
                        "test": [
                          1.820374085
                        ],
                        "passed_time": 1818.006211,
                        "iteration": 911,
                        "remaining_time": 175.4216519,
                        "learn": [
                          1.64253182
                        ]
                      },
                      {
                        "test": [
                          1.820354169
                        ],
                        "passed_time": 1820.643686,
                        "iteration": 912,
                        "remaining_time": 173.4895955,
                        "learn": [
                          1.642502889
                        ]
                      },
                      {
                        "test": [
                          1.820335091
                        ],
                        "passed_time": 1822.755933,
                        "iteration": 913,
                        "remaining_time": 171.5065758,
                        "learn": [
                          1.642476081
                        ]
                      },
                      {
                        "test": [
                          1.820304072
                        ],
                        "passed_time": 1825.030388,
                        "iteration": 914,
                        "remaining_time": 169.5383421,
                        "learn": [
                          1.642347532
                        ]
                      },
                      {
                        "test": [
                          1.820287807
                        ],
                        "passed_time": 1826.82678,
                        "iteration": 915,
                        "remaining_time": 167.5255999,
                        "learn": [
                          1.642190356
                        ]
                      },
                      {
                        "test": [
                          1.820285054
                        ],
                        "passed_time": 1828.919114,
                        "iteration": 916,
                        "remaining_time": 165.5401161,
                        "learn": [
                          1.642118156
                        ]
                      },
                      {
                        "test": [
                          1.820320008
                        ],
                        "passed_time": 1831.451154,
                        "iteration": 917,
                        "remaining_time": 163.593676,
                        "learn": [
                          1.642075952
                        ]
                      },
                      {
                        "test": [
                          1.820374176
                        ],
                        "passed_time": 1833.656272,
                        "iteration": 918,
                        "remaining_time": 161.6171469,
                        "learn": [
                          1.642026621
                        ]
                      },
                      {
                        "test": [
                          1.82037864
                        ],
                        "passed_time": 1836.00362,
                        "iteration": 919,
                        "remaining_time": 159.6524887,
                        "learn": [
                          1.641968979
                        ]
                      },
                      {
                        "test": [
                          1.820354615
                        ],
                        "passed_time": 1837.777746,
                        "iteration": 920,
                        "remaining_time": 157.6378305,
                        "learn": [
                          1.641933781
                        ]
                      },
                      {
                        "test": [
                          1.820362263
                        ],
                        "passed_time": 1839.77651,
                        "iteration": 921,
                        "remaining_time": 155.6426983,
                        "learn": [
                          1.641763383
                        ]
                      },
                      {
                        "test": [
                          1.820337442
                        ],
                        "passed_time": 1841.591853,
                        "iteration": 922,
                        "remaining_time": 153.6322564,
                        "learn": [
                          1.641724937
                        ]
                      },
                      {
                        "test": [
                          1.82024286
                        ],
                        "passed_time": 1843.259276,
                        "iteration": 923,
                        "remaining_time": 151.6100703,
                        "learn": [
                          1.641635994
                        ]
                      },
                      {
                        "test": [
                          1.820187504
                        ],
                        "passed_time": 1844.895464,
                        "iteration": 924,
                        "remaining_time": 149.5861187,
                        "learn": [
                          1.641521012
                        ]
                      },
                      {
                        "test": [
                          1.820083158
                        ],
                        "passed_time": 1847.12089,
                        "iteration": 925,
                        "remaining_time": 147.6100927,
                        "learn": [
                          1.641485456
                        ]
                      },
                      {
                        "test": [
                          1.820196522
                        ],
                        "passed_time": 1849.525301,
                        "iteration": 926,
                        "remaining_time": 145.6476235,
                        "learn": [
                          1.641331866
                        ]
                      },
                      {
                        "test": [
                          1.820222742
                        ],
                        "passed_time": 1852.191541,
                        "iteration": 927,
                        "remaining_time": 143.7045161,
                        "learn": [
                          1.641228109
                        ]
                      },
                      {
                        "test": [
                          1.820213234
                        ],
                        "passed_time": 1854.194371,
                        "iteration": 928,
                        "remaining_time": 141.70915,
                        "learn": [
                          1.641207594
                        ]
                      },
                      {
                        "test": [
                          1.820264267
                        ],
                        "passed_time": 1855.740977,
                        "iteration": 929,
                        "remaining_time": 139.6794284,
                        "learn": [
                          1.641125342
                        ]
                      },
                      {
                        "test": [
                          1.820078468
                        ],
                        "passed_time": 1857.939798,
                        "iteration": 930,
                        "remaining_time": 137.6990828,
                        "learn": [
                          1.640956216
                        ]
                      },
                      {
                        "test": [
                          1.820084534
                        ],
                        "passed_time": 1860.566367,
                        "iteration": 931,
                        "remaining_time": 135.7494774,
                        "learn": [
                          1.640887903
                        ]
                      },
                      {
                        "test": [
                          1.820034414
                        ],
                        "passed_time": 1862.555868,
                        "iteration": 932,
                        "remaining_time": 133.7526722,
                        "learn": [
                          1.640828233
                        ]
                      },
                      {
                        "test": [
                          1.820009841
                        ],
                        "passed_time": 1864.319017,
                        "iteration": 933,
                        "remaining_time": 131.7398877,
                        "learn": [
                          1.640626605
                        ]
                      },
                      {
                        "test": [
                          1.81992322
                        ],
                        "passed_time": 1866.683378,
                        "iteration": 934,
                        "remaining_time": 129.7694327,
                        "learn": [
                          1.64053917
                        ]
                      },
                      {
                        "test": [
                          1.819899457
                        ],
                        "passed_time": 1868.209352,
                        "iteration": 935,
                        "remaining_time": 127.7408104,
                        "learn": [
                          1.640231524
                        ]
                      },
                      {
                        "test": [
                          1.819967642
                        ],
                        "passed_time": 1870.82055,
                        "iteration": 936,
                        "remaining_time": 125.786227,
                        "learn": [
                          1.64010689
                        ]
                      },
                      {
                        "test": [
                          1.819956213
                        ],
                        "passed_time": 1872.875913,
                        "iteration": 937,
                        "remaining_time": 123.7935039,
                        "learn": [
                          1.640092911
                        ]
                      },
                      {
                        "test": [
                          1.819964576
                        ],
                        "passed_time": 1875.438955,
                        "iteration": 938,
                        "remaining_time": 121.8336275,
                        "learn": [
                          1.639941316
                        ]
                      },
                      {
                        "test": [
                          1.819916674
                        ],
                        "passed_time": 1877.125051,
                        "iteration": 939,
                        "remaining_time": 119.8164926,
                        "learn": [
                          1.639824594
                        ]
                      },
                      {
                        "test": [
                          1.819908134
                        ],
                        "passed_time": 1879.259275,
                        "iteration": 940,
                        "remaining_time": 117.8281586,
                        "learn": [
                          1.639670057
                        ]
                      },
                      {
                        "test": [
                          1.819924106
                        ],
                        "passed_time": 1880.194049,
                        "iteration": 941,
                        "remaining_time": 115.7656633,
                        "learn": [
                          1.639577928
                        ]
                      },
                      {
                        "test": [
                          1.819909587
                        ],
                        "passed_time": 1882.449804,
                        "iteration": 942,
                        "remaining_time": 113.785407,
                        "learn": [
                          1.639547172
                        ]
                      },
                      {
                        "test": [
                          1.81979142
                        ],
                        "passed_time": 1884.400042,
                        "iteration": 943,
                        "remaining_time": 111.7864432,
                        "learn": [
                          1.639432561
                        ]
                      },
                      {
                        "test": [
                          1.819801014
                        ],
                        "passed_time": 1886.788169,
                        "iteration": 944,
                        "remaining_time": 109.8130681,
                        "learn": [
                          1.639369393
                        ]
                      },
                      {
                        "test": [
                          1.819814051
                        ],
                        "passed_time": 1889.229599,
                        "iteration": 945,
                        "remaining_time": 107.8418587,
                        "learn": [
                          1.639345662
                        ]
                      },
                      {
                        "test": [
                          1.819790116
                        ],
                        "passed_time": 1891.856588,
                        "iteration": 946,
                        "remaining_time": 105.8800414,
                        "learn": [
                          1.639324576
                        ]
                      },
                      {
                        "test": [
                          1.819796794
                        ],
                        "passed_time": 1893.637539,
                        "iteration": 947,
                        "remaining_time": 103.8704136,
                        "learn": [
                          1.639256588
                        ]
                      },
                      {
                        "test": [
                          1.819864752
                        ],
                        "passed_time": 1895.316975,
                        "iteration": 948,
                        "remaining_time": 101.8558121,
                        "learn": [
                          1.639074593
                        ]
                      },
                      {
                        "test": [
                          1.819868911
                        ],
                        "passed_time": 1897.33291,
                        "iteration": 949,
                        "remaining_time": 99.85962686,
                        "learn": [
                          1.639024453
                        ]
                      },
                      {
                        "test": [
                          1.819830385
                        ],
                        "passed_time": 1899.489741,
                        "iteration": 950,
                        "remaining_time": 97.87065965,
                        "learn": [
                          1.638938036
                        ]
                      },
                      {
                        "test": [
                          1.819823164
                        ],
                        "passed_time": 1901.059438,
                        "iteration": 951,
                        "remaining_time": 95.85173638,
                        "learn": [
                          1.638883962
                        ]
                      },
                      {
                        "test": [
                          1.819820325
                        ],
                        "passed_time": 1903.275191,
                        "iteration": 952,
                        "remaining_time": 93.86561804,
                        "learn": [
                          1.638817335
                        ]
                      },
                      {
                        "test": [
                          1.819788111
                        ],
                        "passed_time": 1904.677969,
                        "iteration": 953,
                        "remaining_time": 91.83981822,
                        "learn": [
                          1.638787387
                        ]
                      },
                      {
                        "test": [
                          1.819599278
                        ],
                        "passed_time": 1906.351048,
                        "iteration": 954,
                        "remaining_time": 89.82805985,
                        "learn": [
                          1.638588888
                        ]
                      },
                      {
                        "test": [
                          1.81956863
                        ],
                        "passed_time": 1908.713363,
                        "iteration": 955,
                        "remaining_time": 87.84873217,
                        "learn": [
                          1.638525222
                        ]
                      },
                      {
                        "test": [
                          1.819523635
                        ],
                        "passed_time": 1910.362226,
                        "iteration": 956,
                        "remaining_time": 85.83654726,
                        "learn": [
                          1.638464471
                        ]
                      },
                      {
                        "test": [
                          1.819491371
                        ],
                        "passed_time": 1912.01105,
                        "iteration": 957,
                        "remaining_time": 83.8251191,
                        "learn": [
                          1.638312861
                        ]
                      },
                      {
                        "test": [
                          1.819493493
                        ],
                        "passed_time": 1913.961789,
                        "iteration": 958,
                        "remaining_time": 81.82735488,
                        "learn": [
                          1.63827095
                        ]
                      },
                      {
                        "test": [
                          1.819561295
                        ],
                        "passed_time": 1916.278981,
                        "iteration": 959,
                        "remaining_time": 79.84495755,
                        "learn": [
                          1.638179055
                        ]
                      },
                      {
                        "test": [
                          1.819647037
                        ],
                        "passed_time": 1918.634172,
                        "iteration": 960,
                        "remaining_time": 77.86340552,
                        "learn": [
                          1.638157201
                        ]
                      },
                      {
                        "test": [
                          1.819641349
                        ],
                        "passed_time": 1920.386958,
                        "iteration": 961,
                        "remaining_time": 75.8572811,
                        "learn": [
                          1.638076141
                        ]
                      },
                      {
                        "test": [
                          1.819646833
                        ],
                        "passed_time": 1921.550924,
                        "iteration": 962,
                        "remaining_time": 73.8290594,
                        "learn": [
                          1.637986655
                        ]
                      },
                      {
                        "test": [
                          1.819745776
                        ],
                        "passed_time": 1923.279453,
                        "iteration": 963,
                        "remaining_time": 71.82371401,
                        "learn": [
                          1.637845276
                        ]
                      },
                      {
                        "test": [
                          1.819646716
                        ],
                        "passed_time": 1925.082074,
                        "iteration": 964,
                        "remaining_time": 69.82162963,
                        "learn": [
                          1.637609199
                        ]
                      },
                      {
                        "test": [
                          1.81965071
                        ],
                        "passed_time": 1927.446641,
                        "iteration": 965,
                        "remaining_time": 67.83973685,
                        "learn": [
                          1.637604769
                        ]
                      },
                      {
                        "test": [
                          1.819652699
                        ],
                        "passed_time": 1929.402038,
                        "iteration": 966,
                        "remaining_time": 65.8430892,
                        "learn": [
                          1.637561595
                        ]
                      },
                      {
                        "test": [
                          1.819645757
                        ],
                        "passed_time": 1930.831097,
                        "iteration": 967,
                        "remaining_time": 63.82912717,
                        "learn": [
                          1.637549823
                        ]
                      },
                      {
                        "test": [
                          1.819712404
                        ],
                        "passed_time": 1933.119878,
                        "iteration": 968,
                        "remaining_time": 61.84387639,
                        "learn": [
                          1.637501857
                        ]
                      },
                      {
                        "test": [
                          1.819780396
                        ],
                        "passed_time": 1934.857802,
                        "iteration": 969,
                        "remaining_time": 59.84096294,
                        "learn": [
                          1.63734396
                        ]
                      },
                      {
                        "test": [
                          1.819865817
                        ],
                        "passed_time": 1936.75502,
                        "iteration": 970,
                        "remaining_time": 57.8433528,
                        "learn": [
                          1.63725937
                        ]
                      },
                      {
                        "test": [
                          1.819855243
                        ],
                        "passed_time": 1939.147861,
                        "iteration": 971,
                        "remaining_time": 55.86022644,
                        "learn": [
                          1.637225549
                        ]
                      },
                      {
                        "test": [
                          1.819815498
                        ],
                        "passed_time": 1941.175347,
                        "iteration": 972,
                        "remaining_time": 53.8661196,
                        "learn": [
                          1.637141092
                        ]
                      },
                      {
                        "test": [
                          1.819885914
                        ],
                        "passed_time": 1943.162748,
                        "iteration": 973,
                        "remaining_time": 51.87087417,
                        "learn": [
                          1.637004302
                        ]
                      },
                      {
                        "test": [
                          1.819952849
                        ],
                        "passed_time": 1945.11025,
                        "iteration": 974,
                        "remaining_time": 49.87462179,
                        "learn": [
                          1.636806552
                        ]
                      },
                      {
                        "test": [
                          1.819906072
                        ],
                        "passed_time": 1946.688851,
                        "iteration": 975,
                        "remaining_time": 47.86939797,
                        "learn": [
                          1.636653849
                        ]
                      },
                      {
                        "test": [
                          1.819951075
                        ],
                        "passed_time": 1948.368216,
                        "iteration": 976,
                        "remaining_time": 45.86741962,
                        "learn": [
                          1.636498715
                        ]
                      },
                      {
                        "test": [
                          1.820149784
                        ],
                        "passed_time": 1950.0976,
                        "iteration": 977,
                        "remaining_time": 43.86722618,
                        "learn": [
                          1.63635544
                        ]
                      },
                      {
                        "test": [
                          1.82016977
                        ],
                        "passed_time": 1952.797438,
                        "iteration": 978,
                        "remaining_time": 41.88840265,
                        "learn": [
                          1.636316855
                        ]
                      },
                      {
                        "test": [
                          1.820168359
                        ],
                        "passed_time": 1955.239124,
                        "iteration": 979,
                        "remaining_time": 39.90283926,
                        "learn": [
                          1.636250843
                        ]
                      },
                      {
                        "test": [
                          1.820088255
                        ],
                        "passed_time": 1957.724413,
                        "iteration": 980,
                        "remaining_time": 37.91719047,
                        "learn": [
                          1.636148312
                        ]
                      },
                      {
                        "test": [
                          1.820047478
                        ],
                        "passed_time": 1961.357142,
                        "iteration": 981,
                        "remaining_time": 35.95155658,
                        "learn": [
                          1.63608708
                        ]
                      },
                      {
                        "test": [
                          1.820288018
                        ],
                        "passed_time": 1963.072217,
                        "iteration": 982,
                        "remaining_time": 33.94936692,
                        "learn": [
                          1.635967195
                        ]
                      },
                      {
                        "test": [
                          1.820156384
                        ],
                        "passed_time": 1965.743372,
                        "iteration": 983,
                        "remaining_time": 31.96330687,
                        "learn": [
                          1.635912727
                        ]
                      },
                      {
                        "test": [
                          1.820160597
                        ],
                        "passed_time": 1967.826397,
                        "iteration": 984,
                        "remaining_time": 29.96689944,
                        "learn": [
                          1.635750226
                        ]
                      },
                      {
                        "test": [
                          1.820102861
                        ],
                        "passed_time": 1969.592552,
                        "iteration": 985,
                        "remaining_time": 27.96581716,
                        "learn": [
                          1.635544724
                        ]
                      },
                      {
                        "test": [
                          1.820219634
                        ],
                        "passed_time": 1971.547195,
                        "iteration": 986,
                        "remaining_time": 25.96769355,
                        "learn": [
                          1.635363348
                        ]
                      },
                      {
                        "test": [
                          1.820177845
                        ],
                        "passed_time": 1973.57911,
                        "iteration": 987,
                        "remaining_time": 23.97059648,
                        "learn": [
                          1.635306175
                        ]
                      },
                      {
                        "test": [
                          1.819979986
                        ],
                        "passed_time": 1975.092243,
                        "iteration": 988,
                        "remaining_time": 21.96765893,
                        "learn": [
                          1.635069153
                        ]
                      },
                      {
                        "test": [
                          1.819999588
                        ],
                        "passed_time": 1976.835615,
                        "iteration": 989,
                        "remaining_time": 19.96803651,
                        "learn": [
                          1.634928613
                        ]
                      },
                      {
                        "test": [
                          1.819971928
                        ],
                        "passed_time": 1977.750426,
                        "iteration": 990,
                        "remaining_time": 17.96140649,
                        "learn": [
                          1.634870839
                        ]
                      },
                      {
                        "test": [
                          1.820031065
                        ],
                        "passed_time": 1980.119267,
                        "iteration": 991,
                        "remaining_time": 15.96870377,
                        "learn": [
                          1.634618596
                        ]
                      },
                      {
                        "test": [
                          1.819986809
                        ],
                        "passed_time": 1982.752621,
                        "iteration": 992,
                        "remaining_time": 13.9771081,
                        "learn": [
                          1.634570037
                        ]
                      },
                      {
                        "test": [
                          1.81998421
                        ],
                        "passed_time": 1983.955929,
                        "iteration": 993,
                        "remaining_time": 11.97558911,
                        "learn": [
                          1.63456429
                        ]
                      },
                      {
                        "test": [
                          1.819955003
                        ],
                        "passed_time": 1986.15423,
                        "iteration": 994,
                        "remaining_time": 9.980674524,
                        "learn": [
                          1.634403177
                        ]
                      },
                      {
                        "test": [
                          1.819939945
                        ],
                        "passed_time": 1987.56032,
                        "iteration": 995,
                        "remaining_time": 7.982169961,
                        "learn": [
                          1.634305963
                        ]
                      },
                      {
                        "test": [
                          1.819941164
                        ],
                        "passed_time": 1989.606472,
                        "iteration": 996,
                        "remaining_time": 5.986779757,
                        "learn": [
                          1.634274718
                        ]
                      },
                      {
                        "test": [
                          1.819913771
                        ],
                        "passed_time": 1991.44123,
                        "iteration": 997,
                        "remaining_time": 3.990864189,
                        "learn": [
                          1.634246608
                        ]
                      },
                      {
                        "test": [
                          1.819893438
                        ],
                        "passed_time": 1993.992638,
                        "iteration": 998,
                        "remaining_time": 1.995988627,
                        "learn": [
                          1.634102155
                        ]
                      },
                      {
                        "test": [
                          1.819915276
                        ],
                        "passed_time": 1996.234924,
                        "iteration": 999,
                        "remaining_time": 0,
                        "learn": [
                          1.633879339
                        ]
                      }
                    ]
                  },
                  "total_iterations": 1000,
                  "passed_iterations": 999
                },
                "path": "catboost_info",
                "name": "catboost_info"
              }
            },
            "_view_module": "catboost-widget",
            "_model_module_version": "^1.0.0",
            "_view_count": null,
            "_view_module_version": "^1.0.0",
            "layout": "IPY_MODEL_2ede4a8ec622444c8a5b8d1af211abee",
            "_model_module": "catboost-widget"
          }
        }
      }
    }
  },
  "cells": [
    {
      "cell_type": "code",
      "metadata": {
        "id": "RDyVHr2AsUyS"
      },
      "source": [
        "import numpy as np \n",
        "import pandas as pd \n",
        "import seaborn as sns\n",
        "import random\n",
        "from datetime import datetime\n",
        "from datetime import timedelta\n",
        "import matplotlib.pyplot as plt\n",
        "from sklearn.preprocessing import OrdinalEncoder\n",
        "from math import radians, cos, sin, asin, sqrt"
      ],
      "execution_count": 2,
      "outputs": []
    },
    {
      "cell_type": "code",
      "source": [
        "from google.colab import drive \n",
        "drive.mount('/content/drive')"
      ],
      "metadata": {
        "id": "yZFE5FTsLQaW",
        "colab": {
          "base_uri": "https://localhost:8080/"
        },
        "outputId": "bb29b97d-835c-457b-c924-8f5bea1be9ed"
      },
      "execution_count": 3,
      "outputs": [
        {
          "output_type": "stream",
          "name": "stdout",
          "text": [
            "Mounted at /content/drive\n"
          ]
        }
      ]
    },
    {
      "cell_type": "code",
      "source": [
        "pd.set_option('display.max_rows', 500)\n",
        "pd.set_option('display.max_columns', 500)\n",
        "pd.set_option('display.width', 1000)"
      ],
      "metadata": {
        "id": "88xHD6GusJrq"
      },
      "execution_count": 4,
      "outputs": []
    },
    {
      "cell_type": "markdown",
      "source": [
        "### Read the Train Dataset"
      ],
      "metadata": {
        "id": "oa79MxYgagZm"
      }
    },
    {
      "cell_type": "code",
      "metadata": {
        "id": "NiOokFvAs8ZB"
      },
      "source": [
        "train = pd.read_csv(\"/content/drive/Shareddrives/eBay/train.tsv\",sep = \"\\t\")"
      ],
      "execution_count": 5,
      "outputs": []
    },
    {
      "cell_type": "code",
      "source": [
        "# Declared handling days have 702,886 null entries\n",
        "train.isnull().sum()"
      ],
      "metadata": {
        "colab": {
          "base_uri": "https://localhost:8080/"
        },
        "outputId": "636f80d9-0dc8-49ff-fe59-13af157849b7",
        "id": "HgdPzkhZWTAT"
      },
      "execution_count": null,
      "outputs": [
        {
          "output_type": "execute_result",
          "data": {
            "text/plain": [
              "b2c_c2c                           0\n",
              "seller_id                         0\n",
              "declared_handling_days       702886\n",
              "acceptance_scan_timestamp         0\n",
              "shipment_method_id                0\n",
              "shipping_fee                      0\n",
              "carrier_min_estimate              0\n",
              "carrier_max_estimate              0\n",
              "item_zip                          1\n",
              "buyer_zip                         1\n",
              "category_id                       0\n",
              "item_price                        0\n",
              "quantity                          0\n",
              "payment_datetime                  0\n",
              "delivery_date                     0\n",
              "weight                            0\n",
              "weight_units                      0\n",
              "package_size                      0\n",
              "record_number                     0\n",
              "dtype: int64"
            ]
          },
          "metadata": {},
          "execution_count": 7
        }
      ]
    },
    {
      "cell_type": "markdown",
      "source": [
        "### Data Cleaning: Deal with missing/negative values"
      ],
      "metadata": {
        "id": "pb4y4nINWTAS"
      }
    },
    {
      "cell_type": "code",
      "source": [
        "train['carrier_min_estimate'].value_counts()"
      ],
      "metadata": {
        "colab": {
          "base_uri": "https://localhost:8080/"
        },
        "outputId": "67ee3cfb-478d-4260-fa05-75a28f4235a1",
        "id": "Oc1DbOVvWTAT"
      },
      "execution_count": null,
      "outputs": [
        {
          "output_type": "execute_result",
          "data": {
            "text/plain": [
              " 3    9341496\n",
              " 2    5649003\n",
              " 1       7451\n",
              "-1       1095\n",
              " 6        524\n",
              " 0        431\n",
              "Name: carrier_min_estimate, dtype: int64"
            ]
          },
          "metadata": {},
          "execution_count": 5
        }
      ]
    },
    {
      "cell_type": "code",
      "source": [
        "train['carrier_max_estimate'].value_counts()"
      ],
      "metadata": {
        "colab": {
          "base_uri": "https://localhost:8080/"
        },
        "outputId": "6eec5793-3cba-44c9-ceff-2d111cb7c599",
        "id": "IeJS4YPPWTAT"
      },
      "execution_count": null,
      "outputs": [
        {
          "output_type": "execute_result",
          "data": {
            "text/plain": [
              " 5     13055377\n",
              " 9      1154125\n",
              " 8       780997\n",
              " 1         7882\n",
              "-1         1095\n",
              " 25         524\n",
              "Name: carrier_max_estimate, dtype: int64"
            ]
          },
          "metadata": {},
          "execution_count": 6
        }
      ]
    },
    {
      "cell_type": "code",
      "source": [
        "# 1/3 of weight is zero, some mean that the shipping cost charged by the carrier does not depend on the item weight. So the weight is defaulted to zero.\n",
        "train['weight'].value_counts()"
      ],
      "metadata": {
        "colab": {
          "base_uri": "https://localhost:8080/"
        },
        "id": "igHz_QwEZmWu",
        "outputId": "daf6f85d-74a8-4922-dba1-562eb9bedfe2"
      },
      "execution_count": null,
      "outputs": [
        {
          "output_type": "execute_result",
          "data": {
            "text/plain": [
              "0       4792627\n",
              "32      1229838\n",
              "4       1183041\n",
              "3       1140370\n",
              "16       853087\n",
              "         ...   \n",
              "791           1\n",
              "1509          1\n",
              "1499          1\n",
              "1488          1\n",
              "9280          1\n",
              "Name: weight, Length: 1298, dtype: int64"
            ]
          },
          "metadata": {},
          "execution_count": 9
        }
      ]
    },
    {
      "cell_type": "code",
      "source": [
        "# 7% of package_size are missing\n",
        "train['package_size'].value_counts()"
      ],
      "metadata": {
        "colab": {
          "base_uri": "https://localhost:8080/"
        },
        "id": "tvO3TZTHa14s",
        "outputId": "410b48d0-f26b-4cb6-92de-e5b62fcd6fd9"
      },
      "execution_count": null,
      "outputs": [
        {
          "output_type": "execute_result",
          "data": {
            "text/plain": [
              "PACKAGE_THICK_ENVELOPE    12652645\n",
              "NONE                       1055227\n",
              "LETTER                      912894\n",
              "LARGE_ENVELOPE              209218\n",
              "LARGE_PACKAGE               170014\n",
              "EXTRA_LARGE_PACKAGE              1\n",
              "VERY_LARGE_PACKAGE               1\n",
              "Name: package_size, dtype: int64"
            ]
          },
          "metadata": {},
          "execution_count": 10
        }
      ]
    },
    {
      "cell_type": "code",
      "source": [
        "# 4% of declared handling days are missing, fill them with mode\n",
        "# Very few carrier_min_estimate, carrier_max_estimate are negative; replace them with mode\n",
        "def fill_na(data):\n",
        "  data['declared_handling_days'] = data['declared_handling_days'].fillna(float(data['declared_handling_days'].mode().values))\n",
        "  data['carrier_min_estimate'] = data['carrier_min_estimate'].replace(-1, float(data['carrier_min_estimate'].mode().values))\n",
        "  data['carrier_max_estimate'] = data['carrier_max_estimate'].replace(-1, float(data['carrier_max_estimate'].mode().values))\n",
        "  return data"
      ],
      "metadata": {
        "id": "G7zhReU4bRa-"
      },
      "execution_count": 6,
      "outputs": []
    },
    {
      "cell_type": "code",
      "source": [
        "train = fill_na(train)"
      ],
      "metadata": {
        "id": "yuqTMsaw7ASH"
      },
      "execution_count": 7,
      "outputs": []
    },
    {
      "cell_type": "markdown",
      "source": [
        "### Sample 20% of full data to train models"
      ],
      "metadata": {
        "id": "1Z1vy-lDYdLL"
      }
    },
    {
      "cell_type": "code",
      "source": [
        "trainsample2 = train.sample(frac=0.2, random_state=1204)\n",
        "del(train)\n",
        "trainsample2 = trainsample2.reset_index().drop(columns = 'index')"
      ],
      "metadata": {
        "id": "eN7fGe1-YmYZ"
      },
      "execution_count": 8,
      "outputs": []
    },
    {
      "cell_type": "markdown",
      "source": [
        "### Read USZip, Lat, Lng, State Support File"
      ],
      "metadata": {
        "id": "ysxMagOFQ10t"
      }
    },
    {
      "cell_type": "code",
      "source": [
        "# Read USZip to map zipcode to coordinates\n",
        "uszip = pd.read_csv(\"/content/drive/Shareddrives/eBay/simple_zipcode.csv\", usecols = ['zipcode', 'lat', 'lng', 'state','population_density', 'median_household_income'])\n",
        "uszip['zipcode'] = uszip['zipcode'].astype(str)"
      ],
      "metadata": {
        "id": "HEQ_M6aR8baj"
      },
      "execution_count": 9,
      "outputs": []
    },
    {
      "cell_type": "code",
      "source": [
        "uszip"
      ],
      "metadata": {
        "colab": {
          "base_uri": "https://localhost:8080/",
          "height": 424
        },
        "id": "unuz8XUeXLPC",
        "outputId": "a49fe2a1-5cf6-4924-c9e8-a8875596b714"
      },
      "execution_count": null,
      "outputs": [
        {
          "output_type": "execute_result",
          "data": {
            "text/html": [
              "\n",
              "  <div id=\"df-fb92ab9f-2500-4711-b1c0-443c343b97dc\">\n",
              "    <div class=\"colab-df-container\">\n",
              "      <div>\n",
              "<style scoped>\n",
              "    .dataframe tbody tr th:only-of-type {\n",
              "        vertical-align: middle;\n",
              "    }\n",
              "\n",
              "    .dataframe tbody tr th {\n",
              "        vertical-align: top;\n",
              "    }\n",
              "\n",
              "    .dataframe thead th {\n",
              "        text-align: right;\n",
              "    }\n",
              "</style>\n",
              "<table border=\"1\" class=\"dataframe\">\n",
              "  <thead>\n",
              "    <tr style=\"text-align: right;\">\n",
              "      <th></th>\n",
              "      <th>zipcode</th>\n",
              "      <th>state</th>\n",
              "      <th>lat</th>\n",
              "      <th>lng</th>\n",
              "      <th>population_density</th>\n",
              "      <th>median_household_income</th>\n",
              "    </tr>\n",
              "  </thead>\n",
              "  <tbody>\n",
              "    <tr>\n",
              "      <th>0</th>\n",
              "      <td>35004</td>\n",
              "      <td>AL</td>\n",
              "      <td>33.620</td>\n",
              "      <td>-86.500</td>\n",
              "      <td>577.0</td>\n",
              "      <td>58832.0</td>\n",
              "    </tr>\n",
              "    <tr>\n",
              "      <th>1</th>\n",
              "      <td>35005</td>\n",
              "      <td>AL</td>\n",
              "      <td>33.590</td>\n",
              "      <td>-86.990</td>\n",
              "      <td>230.0</td>\n",
              "      <td>46059.0</td>\n",
              "    </tr>\n",
              "    <tr>\n",
              "      <th>2</th>\n",
              "      <td>35006</td>\n",
              "      <td>AL</td>\n",
              "      <td>33.400</td>\n",
              "      <td>-87.200</td>\n",
              "      <td>31.0</td>\n",
              "      <td>51929.0</td>\n",
              "    </tr>\n",
              "    <tr>\n",
              "      <th>3</th>\n",
              "      <td>35007</td>\n",
              "      <td>AL</td>\n",
              "      <td>33.220</td>\n",
              "      <td>-86.790</td>\n",
              "      <td>702.0</td>\n",
              "      <td>64299.0</td>\n",
              "    </tr>\n",
              "    <tr>\n",
              "      <th>4</th>\n",
              "      <td>35010</td>\n",
              "      <td>AL</td>\n",
              "      <td>32.900</td>\n",
              "      <td>-85.900</td>\n",
              "      <td>96.0</td>\n",
              "      <td>37380.0</td>\n",
              "    </tr>\n",
              "    <tr>\n",
              "      <th>...</th>\n",
              "      <td>...</td>\n",
              "      <td>...</td>\n",
              "      <td>...</td>\n",
              "      <td>...</td>\n",
              "      <td>...</td>\n",
              "      <td>...</td>\n",
              "    </tr>\n",
              "    <tr>\n",
              "      <th>41872</th>\n",
              "      <td>83124</td>\n",
              "      <td>WY</td>\n",
              "      <td>41.769</td>\n",
              "      <td>-110.324</td>\n",
              "      <td>1.0</td>\n",
              "      <td>100417.0</td>\n",
              "    </tr>\n",
              "    <tr>\n",
              "      <th>41873</th>\n",
              "      <td>83126</td>\n",
              "      <td>WY</td>\n",
              "      <td>42.500</td>\n",
              "      <td>-111.000</td>\n",
              "      <td>5.0</td>\n",
              "      <td>100759.0</td>\n",
              "    </tr>\n",
              "    <tr>\n",
              "      <th>41874</th>\n",
              "      <td>83127</td>\n",
              "      <td>WY</td>\n",
              "      <td>43.000</td>\n",
              "      <td>-110.900</td>\n",
              "      <td>40.0</td>\n",
              "      <td>48036.0</td>\n",
              "    </tr>\n",
              "    <tr>\n",
              "      <th>41875</th>\n",
              "      <td>83128</td>\n",
              "      <td>WY</td>\n",
              "      <td>43.130</td>\n",
              "      <td>-110.990</td>\n",
              "      <td>4.0</td>\n",
              "      <td>57426.0</td>\n",
              "    </tr>\n",
              "    <tr>\n",
              "      <th>41876</th>\n",
              "      <td>83414</td>\n",
              "      <td>WY</td>\n",
              "      <td>44.000</td>\n",
              "      <td>-110.600</td>\n",
              "      <td>2.0</td>\n",
              "      <td>42316.0</td>\n",
              "    </tr>\n",
              "  </tbody>\n",
              "</table>\n",
              "<p>41877 rows × 6 columns</p>\n",
              "</div>\n",
              "      <button class=\"colab-df-convert\" onclick=\"convertToInteractive('df-fb92ab9f-2500-4711-b1c0-443c343b97dc')\"\n",
              "              title=\"Convert this dataframe to an interactive table.\"\n",
              "              style=\"display:none;\">\n",
              "        \n",
              "  <svg xmlns=\"http://www.w3.org/2000/svg\" height=\"24px\"viewBox=\"0 0 24 24\"\n",
              "       width=\"24px\">\n",
              "    <path d=\"M0 0h24v24H0V0z\" fill=\"none\"/>\n",
              "    <path d=\"M18.56 5.44l.94 2.06.94-2.06 2.06-.94-2.06-.94-.94-2.06-.94 2.06-2.06.94zm-11 1L8.5 8.5l.94-2.06 2.06-.94-2.06-.94L8.5 2.5l-.94 2.06-2.06.94zm10 10l.94 2.06.94-2.06 2.06-.94-2.06-.94-.94-2.06-.94 2.06-2.06.94z\"/><path d=\"M17.41 7.96l-1.37-1.37c-.4-.4-.92-.59-1.43-.59-.52 0-1.04.2-1.43.59L10.3 9.45l-7.72 7.72c-.78.78-.78 2.05 0 2.83L4 21.41c.39.39.9.59 1.41.59.51 0 1.02-.2 1.41-.59l7.78-7.78 2.81-2.81c.8-.78.8-2.07 0-2.86zM5.41 20L4 18.59l7.72-7.72 1.47 1.35L5.41 20z\"/>\n",
              "  </svg>\n",
              "      </button>\n",
              "      \n",
              "  <style>\n",
              "    .colab-df-container {\n",
              "      display:flex;\n",
              "      flex-wrap:wrap;\n",
              "      gap: 12px;\n",
              "    }\n",
              "\n",
              "    .colab-df-convert {\n",
              "      background-color: #E8F0FE;\n",
              "      border: none;\n",
              "      border-radius: 50%;\n",
              "      cursor: pointer;\n",
              "      display: none;\n",
              "      fill: #1967D2;\n",
              "      height: 32px;\n",
              "      padding: 0 0 0 0;\n",
              "      width: 32px;\n",
              "    }\n",
              "\n",
              "    .colab-df-convert:hover {\n",
              "      background-color: #E2EBFA;\n",
              "      box-shadow: 0px 1px 2px rgba(60, 64, 67, 0.3), 0px 1px 3px 1px rgba(60, 64, 67, 0.15);\n",
              "      fill: #174EA6;\n",
              "    }\n",
              "\n",
              "    [theme=dark] .colab-df-convert {\n",
              "      background-color: #3B4455;\n",
              "      fill: #D2E3FC;\n",
              "    }\n",
              "\n",
              "    [theme=dark] .colab-df-convert:hover {\n",
              "      background-color: #434B5C;\n",
              "      box-shadow: 0px 1px 3px 1px rgba(0, 0, 0, 0.15);\n",
              "      filter: drop-shadow(0px 1px 2px rgba(0, 0, 0, 0.3));\n",
              "      fill: #FFFFFF;\n",
              "    }\n",
              "  </style>\n",
              "\n",
              "      <script>\n",
              "        const buttonEl =\n",
              "          document.querySelector('#df-fb92ab9f-2500-4711-b1c0-443c343b97dc button.colab-df-convert');\n",
              "        buttonEl.style.display =\n",
              "          google.colab.kernel.accessAllowed ? 'block' : 'none';\n",
              "\n",
              "        async function convertToInteractive(key) {\n",
              "          const element = document.querySelector('#df-fb92ab9f-2500-4711-b1c0-443c343b97dc');\n",
              "          const dataTable =\n",
              "            await google.colab.kernel.invokeFunction('convertToInteractive',\n",
              "                                                     [key], {});\n",
              "          if (!dataTable) return;\n",
              "\n",
              "          const docLinkHtml = 'Like what you see? Visit the ' +\n",
              "            '<a target=\"_blank\" href=https://colab.research.google.com/notebooks/data_table.ipynb>data table notebook</a>'\n",
              "            + ' to learn more about interactive tables.';\n",
              "          element.innerHTML = '';\n",
              "          dataTable['output_type'] = 'display_data';\n",
              "          await google.colab.output.renderOutput(dataTable, element);\n",
              "          const docLink = document.createElement('div');\n",
              "          docLink.innerHTML = docLinkHtml;\n",
              "          element.appendChild(docLink);\n",
              "        }\n",
              "      </script>\n",
              "    </div>\n",
              "  </div>\n",
              "  "
            ],
            "text/plain": [
              "      zipcode state     lat      lng  population_density  median_household_income\n",
              "0       35004    AL  33.620  -86.500               577.0                  58832.0\n",
              "1       35005    AL  33.590  -86.990               230.0                  46059.0\n",
              "2       35006    AL  33.400  -87.200                31.0                  51929.0\n",
              "3       35007    AL  33.220  -86.790               702.0                  64299.0\n",
              "4       35010    AL  32.900  -85.900                96.0                  37380.0\n",
              "...       ...   ...     ...      ...                 ...                      ...\n",
              "41872   83124    WY  41.769 -110.324                 1.0                 100417.0\n",
              "41873   83126    WY  42.500 -111.000                 5.0                 100759.0\n",
              "41874   83127    WY  43.000 -110.900                40.0                  48036.0\n",
              "41875   83128    WY  43.130 -110.990                 4.0                  57426.0\n",
              "41876   83414    WY  44.000 -110.600                 2.0                  42316.0\n",
              "\n",
              "[41877 rows x 6 columns]"
            ]
          },
          "metadata": {},
          "execution_count": 86
        }
      ]
    },
    {
      "cell_type": "markdown",
      "source": [
        "### Unify zipcodes"
      ],
      "metadata": {
        "id": "J71wG6WeQ9mL"
      }
    },
    {
      "cell_type": "code",
      "source": [
        "# Method 2\n",
        "# Zipcodes are in the formats of 5 digits, or 5-4,4-4,3-4 digits\n",
        "# Unify Zipcodes: Remove '-' between zipcodes, slice first 3/4/5 numbers of all zipcodes\n",
        "def tidy_zip(data, column):\n",
        "  data[column] = data[column].astype(str)\n",
        "  data[column] = data[column].apply(lambda x: x.replace(\"-\", \"\"))\n",
        "  data['zip_len'] = data[column].str.len()\n",
        "  data[data['zip_len'].isin([5, 9])][column] = data[data['zip_len'].isin([5, 9])][column].str.slice(stop=5)\n",
        "  data[data['zip_len']==7][column] = data[data['zip_len']==7][column].str.slice(stop=3)\n",
        "  data[data['zip_len']==8][column] = data[data['zip_len']==8][column].str.slice(stop=4)\n",
        "  data = data.drop(columns = 'zip_len')\n",
        "  return data"
      ],
      "metadata": {
        "id": "X_KXd_y6cTsu"
      },
      "execution_count": 10,
      "outputs": []
    },
    {
      "cell_type": "code",
      "source": [
        "trainsample2 = tidy_zip(trainsample2, 'item_zip')\n",
        "trainsample2 = tidy_zip(trainsample2, 'buyer_zip')\n",
        "trainsample2 = trainsample2.reset_index().drop(columns = 'index')"
      ],
      "metadata": {
        "id": "u40X0NidN-a1"
      },
      "execution_count": null,
      "outputs": []
    },
    {
      "cell_type": "markdown",
      "source": [
        "### Feature Engineering: Create new feature: Get Estimated Distance between item_zip and buyer_zip, population density and median income, etc.\n",
        "#### Method: Haversine Method"
      ],
      "metadata": {
        "id": "KGB15r9YOc9H"
      }
    },
    {
      "cell_type": "code",
      "source": [
        "# Get latitdue and longtitude from zipcodes for each entry\n",
        "# Get population density and median income for buyer zipcode and item zipcode\n",
        "def map_coordinates(data):\n",
        "  t = data.copy()\n",
        "  t = t.merge(uszip[['zipcode', 'lat', 'lng', 'population_density', 'median_household_income']], left_on = 'item_zip', right_on = 'zipcode', how = 'left')\n",
        "  t = t.rename(columns = {'population_density':'popu_dens_item', 'median_household_income':'med_income_item'})\n",
        "  t = t.rename(columns = {'lat':'item_lat', 'lng':'item_lng'})\n",
        "  t = t.merge(uszip[['zipcode', 'lat', 'lng', 'population_density', 'median_household_income']], left_on = 'buyer_zip', right_on = 'zipcode', how = 'left')\n",
        "  t = t.rename(columns = {'lat':'buyer_lat', 'lng':'buyer_lng'})\n",
        "  t = t.rename(columns = {'population_density':'popu_dens_buyer', 'median_household_income':'med_income_buyer'})\n",
        "  t = t.drop(columns = ['zipcode_x', 'zipcode_y'])\n",
        "  t['popu_dens_buyer'] = t['popu_dens_buyer'].fillna(t['popu_dens_buyer'].mean())\n",
        "  t['popu_dens_item'] = t['popu_dens_item'].fillna(t['popu_dens_item'].mean())\n",
        "  t['med_income_item'] = t['med_income_item'].fillna(t['med_income_item'].mean())\n",
        "  t['med_income_buyer'] = t['med_income_buyer'].fillna(t['med_income_buyer'].mean())\n",
        "  return t"
      ],
      "metadata": {
        "id": "Ne5bt_SXGPSc"
      },
      "execution_count": 12,
      "outputs": []
    },
    {
      "cell_type": "code",
      "source": [
        "trainsample2 = map_coordinates(trainsample2)\n",
        "trainsample2.shape"
      ],
      "metadata": {
        "id": "-jrngx2D5Xdu",
        "colab": {
          "base_uri": "https://localhost:8080/"
        },
        "outputId": "c2c7e3f3-7728-4c04-ab56-750dab8ceb69"
      },
      "execution_count": 13,
      "outputs": [
        {
          "output_type": "execute_result",
          "data": {
            "text/plain": [
              "(3000000, 27)"
            ]
          },
          "metadata": {},
          "execution_count": 13
        }
      ]
    },
    {
      "cell_type": "code",
      "source": [
        "trainsample2.head()"
      ],
      "metadata": {
        "colab": {
          "base_uri": "https://localhost:8080/",
          "height": 206
        },
        "id": "6PHmsDSfhycf",
        "outputId": "c9bbc953-9263-4957-c78b-e305a71ad344"
      },
      "execution_count": 16,
      "outputs": [
        {
          "output_type": "execute_result",
          "data": {
            "text/html": [
              "\n",
              "  <div id=\"df-c8796750-9fe2-4deb-8372-e10daa52380b\">\n",
              "    <div class=\"colab-df-container\">\n",
              "      <div>\n",
              "<style scoped>\n",
              "    .dataframe tbody tr th:only-of-type {\n",
              "        vertical-align: middle;\n",
              "    }\n",
              "\n",
              "    .dataframe tbody tr th {\n",
              "        vertical-align: top;\n",
              "    }\n",
              "\n",
              "    .dataframe thead th {\n",
              "        text-align: right;\n",
              "    }\n",
              "</style>\n",
              "<table border=\"1\" class=\"dataframe\">\n",
              "  <thead>\n",
              "    <tr style=\"text-align: right;\">\n",
              "      <th></th>\n",
              "      <th>b2c_c2c</th>\n",
              "      <th>seller_id</th>\n",
              "      <th>declared_handling_days</th>\n",
              "      <th>acceptance_scan_timestamp</th>\n",
              "      <th>shipment_method_id</th>\n",
              "      <th>shipping_fee</th>\n",
              "      <th>carrier_min_estimate</th>\n",
              "      <th>carrier_max_estimate</th>\n",
              "      <th>item_zip</th>\n",
              "      <th>buyer_zip</th>\n",
              "      <th>category_id</th>\n",
              "      <th>item_price</th>\n",
              "      <th>quantity</th>\n",
              "      <th>payment_datetime</th>\n",
              "      <th>delivery_date</th>\n",
              "      <th>weight</th>\n",
              "      <th>weight_units</th>\n",
              "      <th>package_size</th>\n",
              "      <th>record_number</th>\n",
              "      <th>item_lat</th>\n",
              "      <th>item_lng</th>\n",
              "      <th>popu_dens_item</th>\n",
              "      <th>med_income_item</th>\n",
              "      <th>buyer_lat</th>\n",
              "      <th>buyer_lng</th>\n",
              "      <th>popu_dens_buyer</th>\n",
              "      <th>med_income_buyer</th>\n",
              "    </tr>\n",
              "  </thead>\n",
              "  <tbody>\n",
              "    <tr>\n",
              "      <th>0</th>\n",
              "      <td>B2C</td>\n",
              "      <td>1761</td>\n",
              "      <td>1.0</td>\n",
              "      <td>2018-01-26 18:29:00.000-08:00</td>\n",
              "      <td>0</td>\n",
              "      <td>0.00</td>\n",
              "      <td>3</td>\n",
              "      <td>5</td>\n",
              "      <td>91706</td>\n",
              "      <td>90717</td>\n",
              "      <td>19</td>\n",
              "      <td>26.99</td>\n",
              "      <td>1</td>\n",
              "      <td>2018-01-25 21:00:56.000-08:00</td>\n",
              "      <td>2018-01-29</td>\n",
              "      <td>0</td>\n",
              "      <td>1</td>\n",
              "      <td>NONE</td>\n",
              "      <td>9599601</td>\n",
              "      <td>34.09</td>\n",
              "      <td>-117.97</td>\n",
              "      <td>5699.000000</td>\n",
              "      <td>51232.000000</td>\n",
              "      <td>33.79</td>\n",
              "      <td>-118.32</td>\n",
              "      <td>10767.000000</td>\n",
              "      <td>58320.00000</td>\n",
              "    </tr>\n",
              "    <tr>\n",
              "      <th>1</th>\n",
              "      <td>B2C</td>\n",
              "      <td>21502</td>\n",
              "      <td>3.0</td>\n",
              "      <td>2018-07-28 14:01:00.000-07:00</td>\n",
              "      <td>3</td>\n",
              "      <td>0.00</td>\n",
              "      <td>2</td>\n",
              "      <td>8</td>\n",
              "      <td>230022</td>\n",
              "      <td>92028</td>\n",
              "      <td>6</td>\n",
              "      <td>5.60</td>\n",
              "      <td>1</td>\n",
              "      <td>2018-07-26 21:29:40.000-07:00</td>\n",
              "      <td>2018-08-02</td>\n",
              "      <td>0</td>\n",
              "      <td>1</td>\n",
              "      <td>NONE</td>\n",
              "      <td>12759445</td>\n",
              "      <td>NaN</td>\n",
              "      <td>NaN</td>\n",
              "      <td>4553.395931</td>\n",
              "      <td>60125.679263</td>\n",
              "      <td>33.40</td>\n",
              "      <td>-117.30</td>\n",
              "      <td>490.000000</td>\n",
              "      <td>61067.00000</td>\n",
              "    </tr>\n",
              "    <tr>\n",
              "      <th>2</th>\n",
              "      <td>B2C</td>\n",
              "      <td>898</td>\n",
              "      <td>1.0</td>\n",
              "      <td>2019-07-08 16:56:00.000-07:00</td>\n",
              "      <td>0</td>\n",
              "      <td>0.00</td>\n",
              "      <td>3</td>\n",
              "      <td>5</td>\n",
              "      <td>90017</td>\n",
              "      <td>15712</td>\n",
              "      <td>1</td>\n",
              "      <td>19.95</td>\n",
              "      <td>1</td>\n",
              "      <td>2019-07-07 08:19:39.000-07:00</td>\n",
              "      <td>2019-07-11</td>\n",
              "      <td>4</td>\n",
              "      <td>1</td>\n",
              "      <td>PACKAGE_THICK_ENVELOPE</td>\n",
              "      <td>2166735</td>\n",
              "      <td>34.05</td>\n",
              "      <td>-118.26</td>\n",
              "      <td>32725.000000</td>\n",
              "      <td>21030.000000</td>\n",
              "      <td>40.80</td>\n",
              "      <td>-78.90</td>\n",
              "      <td>93.000000</td>\n",
              "      <td>21023.00000</td>\n",
              "    </tr>\n",
              "    <tr>\n",
              "      <th>3</th>\n",
              "      <td>C2C</td>\n",
              "      <td>386410</td>\n",
              "      <td>1.0</td>\n",
              "      <td>2019-10-05 15:57:00.000-04:00</td>\n",
              "      <td>0</td>\n",
              "      <td>2.95</td>\n",
              "      <td>3</td>\n",
              "      <td>5</td>\n",
              "      <td>37930</td>\n",
              "      <td>07087</td>\n",
              "      <td>19</td>\n",
              "      <td>6.57</td>\n",
              "      <td>1</td>\n",
              "      <td>2019-10-04 21:52:17.000-04:00</td>\n",
              "      <td>2019-10-08</td>\n",
              "      <td>0</td>\n",
              "      <td>1</td>\n",
              "      <td>PACKAGE_THICK_ENVELOPE</td>\n",
              "      <td>6659115</td>\n",
              "      <td>NaN</td>\n",
              "      <td>NaN</td>\n",
              "      <td>4553.395931</td>\n",
              "      <td>60125.679263</td>\n",
              "      <td>NaN</td>\n",
              "      <td>NaN</td>\n",
              "      <td>3545.450529</td>\n",
              "      <td>58037.26973</td>\n",
              "    </tr>\n",
              "    <tr>\n",
              "      <th>4</th>\n",
              "      <td>B2C</td>\n",
              "      <td>1750</td>\n",
              "      <td>1.0</td>\n",
              "      <td>2018-11-06 15:10:00.000-07:00</td>\n",
              "      <td>0</td>\n",
              "      <td>0.00</td>\n",
              "      <td>3</td>\n",
              "      <td>5</td>\n",
              "      <td>85027</td>\n",
              "      <td>23322</td>\n",
              "      <td>1</td>\n",
              "      <td>6.75</td>\n",
              "      <td>1</td>\n",
              "      <td>2018-11-05 16:37:15.000-07:00</td>\n",
              "      <td>2018-11-09</td>\n",
              "      <td>0</td>\n",
              "      <td>1</td>\n",
              "      <td>PACKAGE_THICK_ENVELOPE</td>\n",
              "      <td>1259477</td>\n",
              "      <td>33.68</td>\n",
              "      <td>-112.10</td>\n",
              "      <td>2642.000000</td>\n",
              "      <td>51919.000000</td>\n",
              "      <td>36.60</td>\n",
              "      <td>-76.30</td>\n",
              "      <td>401.000000</td>\n",
              "      <td>96091.00000</td>\n",
              "    </tr>\n",
              "  </tbody>\n",
              "</table>\n",
              "</div>\n",
              "      <button class=\"colab-df-convert\" onclick=\"convertToInteractive('df-c8796750-9fe2-4deb-8372-e10daa52380b')\"\n",
              "              title=\"Convert this dataframe to an interactive table.\"\n",
              "              style=\"display:none;\">\n",
              "        \n",
              "  <svg xmlns=\"http://www.w3.org/2000/svg\" height=\"24px\"viewBox=\"0 0 24 24\"\n",
              "       width=\"24px\">\n",
              "    <path d=\"M0 0h24v24H0V0z\" fill=\"none\"/>\n",
              "    <path d=\"M18.56 5.44l.94 2.06.94-2.06 2.06-.94-2.06-.94-.94-2.06-.94 2.06-2.06.94zm-11 1L8.5 8.5l.94-2.06 2.06-.94-2.06-.94L8.5 2.5l-.94 2.06-2.06.94zm10 10l.94 2.06.94-2.06 2.06-.94-2.06-.94-.94-2.06-.94 2.06-2.06.94z\"/><path d=\"M17.41 7.96l-1.37-1.37c-.4-.4-.92-.59-1.43-.59-.52 0-1.04.2-1.43.59L10.3 9.45l-7.72 7.72c-.78.78-.78 2.05 0 2.83L4 21.41c.39.39.9.59 1.41.59.51 0 1.02-.2 1.41-.59l7.78-7.78 2.81-2.81c.8-.78.8-2.07 0-2.86zM5.41 20L4 18.59l7.72-7.72 1.47 1.35L5.41 20z\"/>\n",
              "  </svg>\n",
              "      </button>\n",
              "      \n",
              "  <style>\n",
              "    .colab-df-container {\n",
              "      display:flex;\n",
              "      flex-wrap:wrap;\n",
              "      gap: 12px;\n",
              "    }\n",
              "\n",
              "    .colab-df-convert {\n",
              "      background-color: #E8F0FE;\n",
              "      border: none;\n",
              "      border-radius: 50%;\n",
              "      cursor: pointer;\n",
              "      display: none;\n",
              "      fill: #1967D2;\n",
              "      height: 32px;\n",
              "      padding: 0 0 0 0;\n",
              "      width: 32px;\n",
              "    }\n",
              "\n",
              "    .colab-df-convert:hover {\n",
              "      background-color: #E2EBFA;\n",
              "      box-shadow: 0px 1px 2px rgba(60, 64, 67, 0.3), 0px 1px 3px 1px rgba(60, 64, 67, 0.15);\n",
              "      fill: #174EA6;\n",
              "    }\n",
              "\n",
              "    [theme=dark] .colab-df-convert {\n",
              "      background-color: #3B4455;\n",
              "      fill: #D2E3FC;\n",
              "    }\n",
              "\n",
              "    [theme=dark] .colab-df-convert:hover {\n",
              "      background-color: #434B5C;\n",
              "      box-shadow: 0px 1px 3px 1px rgba(0, 0, 0, 0.15);\n",
              "      filter: drop-shadow(0px 1px 2px rgba(0, 0, 0, 0.3));\n",
              "      fill: #FFFFFF;\n",
              "    }\n",
              "  </style>\n",
              "\n",
              "      <script>\n",
              "        const buttonEl =\n",
              "          document.querySelector('#df-c8796750-9fe2-4deb-8372-e10daa52380b button.colab-df-convert');\n",
              "        buttonEl.style.display =\n",
              "          google.colab.kernel.accessAllowed ? 'block' : 'none';\n",
              "\n",
              "        async function convertToInteractive(key) {\n",
              "          const element = document.querySelector('#df-c8796750-9fe2-4deb-8372-e10daa52380b');\n",
              "          const dataTable =\n",
              "            await google.colab.kernel.invokeFunction('convertToInteractive',\n",
              "                                                     [key], {});\n",
              "          if (!dataTable) return;\n",
              "\n",
              "          const docLinkHtml = 'Like what you see? Visit the ' +\n",
              "            '<a target=\"_blank\" href=https://colab.research.google.com/notebooks/data_table.ipynb>data table notebook</a>'\n",
              "            + ' to learn more about interactive tables.';\n",
              "          element.innerHTML = '';\n",
              "          dataTable['output_type'] = 'display_data';\n",
              "          await google.colab.output.renderOutput(dataTable, element);\n",
              "          const docLink = document.createElement('div');\n",
              "          docLink.innerHTML = docLinkHtml;\n",
              "          element.appendChild(docLink);\n",
              "        }\n",
              "      </script>\n",
              "    </div>\n",
              "  </div>\n",
              "  "
            ],
            "text/plain": [
              "  b2c_c2c  seller_id  declared_handling_days      acceptance_scan_timestamp  shipment_method_id  shipping_fee  carrier_min_estimate  carrier_max_estimate item_zip buyer_zip  category_id  item_price  quantity               payment_datetime delivery_date  weight  weight_units            package_size  record_number  item_lat  item_lng  popu_dens_item  med_income_item  buyer_lat  buyer_lng  popu_dens_buyer  med_income_buyer\n",
              "0     B2C       1761                     1.0  2018-01-26 18:29:00.000-08:00                   0          0.00                     3                     5    91706     90717           19       26.99         1  2018-01-25 21:00:56.000-08:00    2018-01-29       0             1                    NONE        9599601     34.09   -117.97     5699.000000     51232.000000      33.79    -118.32     10767.000000       58320.00000\n",
              "1     B2C      21502                     3.0  2018-07-28 14:01:00.000-07:00                   3          0.00                     2                     8   230022     92028            6        5.60         1  2018-07-26 21:29:40.000-07:00    2018-08-02       0             1                    NONE       12759445       NaN       NaN     4553.395931     60125.679263      33.40    -117.30       490.000000       61067.00000\n",
              "2     B2C        898                     1.0  2019-07-08 16:56:00.000-07:00                   0          0.00                     3                     5    90017     15712            1       19.95         1  2019-07-07 08:19:39.000-07:00    2019-07-11       4             1  PACKAGE_THICK_ENVELOPE        2166735     34.05   -118.26    32725.000000     21030.000000      40.80     -78.90        93.000000       21023.00000\n",
              "3     C2C     386410                     1.0  2019-10-05 15:57:00.000-04:00                   0          2.95                     3                     5    37930     07087           19        6.57         1  2019-10-04 21:52:17.000-04:00    2019-10-08       0             1  PACKAGE_THICK_ENVELOPE        6659115       NaN       NaN     4553.395931     60125.679263        NaN        NaN      3545.450529       58037.26973\n",
              "4     B2C       1750                     1.0  2018-11-06 15:10:00.000-07:00                   0          0.00                     3                     5    85027     23322            1        6.75         1  2018-11-05 16:37:15.000-07:00    2018-11-09       0             1  PACKAGE_THICK_ENVELOPE        1259477     33.68   -112.10     2642.000000     51919.000000      36.60     -76.30       401.000000       96091.00000"
            ]
          },
          "metadata": {},
          "execution_count": 16
        }
      ]
    },
    {
      "cell_type": "code",
      "source": [
        "# Define haversine distance between two coordinates on sphere; which is very close to actual distance between two zipcodes\n",
        "# Use haversine distance as estimated distance between zipcodes\n",
        "def haversine(lon1, lat1, lon2, lat2):\n",
        "    \"\"\"\n",
        "    Calculate the great circle distance in kilometers between two points \n",
        "    on the earth (specified in decimal degrees)\n",
        "    \"\"\"\n",
        "    # convert decimal degrees to radians \n",
        "    lon1, lat1, lon2, lat2 = map(radians, [lon1, lat1, lon2, lat2])\n",
        "\n",
        "    # haversine formula \n",
        "    dlon = lon2 - lon1 \n",
        "    dlat = lat2 - lat1 \n",
        "    a = sin(dlat/2)**2 + cos(lat1) * cos(lat2) * sin(dlon/2)**2\n",
        "    c = 2 * asin(sqrt(a)) \n",
        "    r = 3956 # Radius of earth in kilometers. Use 3956 for miles. Determines return value units.\n",
        "    return c * r"
      ],
      "metadata": {
        "id": "CGA1Cep45Axa"
      },
      "execution_count": 17,
      "outputs": []
    },
    {
      "cell_type": "code",
      "source": [
        "# Use itertuples to optimize speed in iterating over million level datasets\n",
        "def itertuples_impl(df):\n",
        "  return pd.Series(haversine(row.item_lng, row.item_lat, row.buyer_lng, row.buyer_lat) for row in df.itertuples())"
      ],
      "metadata": {
        "id": "yHzYRTEA5Ufr"
      },
      "execution_count": 18,
      "outputs": []
    },
    {
      "cell_type": "code",
      "source": [
        "trainsample2['estimated_dist'] = itertuples_impl(trainsample2)\n",
        "trainsample2['estimated_dist'] = trainsample2['estimated_dist'].fillna(trainsample2['estimated_dist'].mean())"
      ],
      "metadata": {
        "id": "D8rXQe368psn"
      },
      "execution_count": 19,
      "outputs": []
    },
    {
      "cell_type": "markdown",
      "source": [
        "### Unify Timestamps to calculate handling days difference, and total delivery time"
      ],
      "metadata": {
        "id": "ptm24g5iOoHz"
      }
    },
    {
      "cell_type": "markdown",
      "source": [
        "Payment_datetime, acceptance_scan_timestamp, and delivery_date are in local time, in order: item local time, seller local time (usually but not always the same as carrier local time), and buyer local time."
      ],
      "metadata": {
        "id": "ige2i61BdVl0"
      }
    },
    {
      "cell_type": "markdown",
      "source": [
        "#### Calculate Actual Handling Days"
      ],
      "metadata": {
        "id": "vAiKpnuWqeJz"
      }
    },
    {
      "cell_type": "code",
      "source": [
        "# Unify time payment_datetime and acceptance_scan_timestamp to UTC time\n",
        "# If not transfered to utc, following steps will have BUGs\n",
        "def calculate_actual_handling_days(data):\n",
        "  data['payment_datetime_utc'] = pd.to_datetime(data['payment_datetime'], format=\"%Y-%m-%d %H:%M:%S\", utc = True)\n",
        "  data['acceptance_scan_timestamp_utc'] = pd.to_datetime(data['acceptance_scan_timestamp'], format=\"%Y-%m-%d %H:%M:%S\", utc = True)\n",
        "\n",
        "  # Remove inconsistent dates (acceptance before payment) (12/23 Do not remove because will cause data loss in quiz set)\n",
        "  # data = data[data['acceptance_scan_timestamp_utc'] > data['payment_datetime_utc']]\n",
        "\n",
        "  # Calculate actual handling days and handling days difference with declared handling days\n",
        "  data['actual_handling_days'] = (data['acceptance_scan_timestamp_utc'] - data['payment_datetime_utc']).dt.total_seconds()/3600/24\n",
        "  data['handling_days_diff'] = data['actual_handling_days'] - data['declared_handling_days'] \n",
        "  return data"
      ],
      "metadata": {
        "id": "J2aGGRE8M5_a"
      },
      "execution_count": 20,
      "outputs": []
    },
    {
      "cell_type": "code",
      "source": [
        "trainsample2 = calculate_actual_handling_days(trainsample2)"
      ],
      "metadata": {
        "id": "xjHoKIqo9dUT"
      },
      "execution_count": 21,
      "outputs": []
    },
    {
      "cell_type": "code",
      "source": [
        "# Map buyer zipcode to state (run only once) \n",
        "trainsample2 = trainsample2.merge(uszip[['zipcode','state']], left_on = 'buyer_zip', right_on = 'zipcode', how = 'left')"
      ],
      "metadata": {
        "id": "qnVTVMmdsFLv"
      },
      "execution_count": 22,
      "outputs": []
    },
    {
      "cell_type": "code",
      "source": [
        "# Synchronize time zone\n",
        "# Map each record to buyer time zone\n",
        "tz_dict = {'US/Pacific':[\"WA\",\"OR\",\"CA\",\"NV\"],\n",
        "           'US/Mountain': [\"MT\",\"ID\",\"WY\",\"UT\",\"CO\",\"AZ\",\"NM\"],\n",
        "           'US/Central':[\"ND\",\"SD\",\"NE\",\"KS\",\"OK\",\"TX\",\"MN\",\"IA\",\"MO\",\"AR\",\"LA\",\"WI\",\"IL\",\"TN\",\"MS\",\"AL\"], \n",
        "           'US/Eastern':[\"MI\",\"IN\",\"OH\",\"PA\",\"NY\",\"VT\",\"ME\",\"NH\",\"MA\",\"RI\",\"CT\",\"KY\",\"NJ\",\"DE\",\"MD\",\"WV\",\"VA\",\"NC\",\"SC\",\"GA\",\"FL\",\"DC\"],\n",
        "           'US/Alaska':['AK'],\n",
        "           'US/Hawaii':['HI']}\n",
        "\n",
        "def get_time_zone(x):\n",
        "  for k, v in tz_dict.items():\n",
        "    if x in v:\n",
        "      return k\n",
        "\n",
        "trainsample2['buyer_time_zone'] = trainsample2['state'].apply(lambda x: get_time_zone(x))\n",
        "\n",
        "# If buyer state is NONE, assume buyer time zone is central (between Eastern and Pacific)\n",
        "trainsample2['buyer_time_zone'] = trainsample2['buyer_time_zone'].fillna('US/Central')\n",
        "\n",
        "# Since the delivery date is in the local timezone of the buyer, and only specify to days\n",
        "# So convert payment_datetime and acceptance_scan_timestamp to buyer timezone\n",
        "# Thus, the delivery total time can be calculated\n",
        "def convert_to_buyer_tz(data, column, tz):\n",
        "  data.loc[data['buyer_time_zone'] == tz, column.replace('_utc','') + '_buyer'] = data.loc[data['buyer_time_zone'] == tz, column].dt.tz_convert(tz)\n",
        "  return data\n",
        "\n",
        "trainsample2 = convert_to_buyer_tz(trainsample2, 'payment_datetime_utc', 'US/Pacific')\n",
        "trainsample2 = convert_to_buyer_tz(trainsample2, 'payment_datetime_utc', 'US/Mountain')\n",
        "trainsample2 = convert_to_buyer_tz(trainsample2, 'payment_datetime_utc', 'US/Central')\n",
        "trainsample2 = convert_to_buyer_tz(trainsample2, 'payment_datetime_utc', 'US/Eastern')\n",
        "trainsample2 = convert_to_buyer_tz(trainsample2, 'payment_datetime_utc', 'US/Alaska')\n",
        "trainsample2 = convert_to_buyer_tz(trainsample2, 'payment_datetime_utc', 'US/Hawaii')\n",
        "\n",
        "trainsample2 = convert_to_buyer_tz(trainsample2, 'acceptance_scan_timestamp_utc', 'US/Pacific')\n",
        "trainsample2 = convert_to_buyer_tz(trainsample2, 'acceptance_scan_timestamp_utc', 'US/Mountain')\n",
        "trainsample2 = convert_to_buyer_tz(trainsample2, 'acceptance_scan_timestamp_utc', 'US/Central')\n",
        "trainsample2 = convert_to_buyer_tz(trainsample2, 'acceptance_scan_timestamp_utc', 'US/Eastern')\n",
        "trainsample2 = convert_to_buyer_tz(trainsample2, 'acceptance_scan_timestamp_utc', 'US/Alaska')\n",
        "trainsample2 = convert_to_buyer_tz(trainsample2, 'acceptance_scan_timestamp_utc', 'US/Hawaii')"
      ],
      "metadata": {
        "id": "5IWfM9dzcrgb"
      },
      "execution_count": 23,
      "outputs": []
    },
    {
      "cell_type": "markdown",
      "source": [
        "#### Calculate Actual Delivery Days - the response variable (Method 1: Seconds Granularity)\n",
        "\n"
      ],
      "metadata": {
        "id": "NnQ7hjIzqYnw"
      }
    },
    {
      "cell_type": "markdown",
      "source": [
        "Calculate Handling Time + Transit Time <br>\n",
        "Only have delivery date <br>\n",
        "Predict by hours and minutes and then convert to days; <br>\n",
        "Penalty weight: Actual later than estimated 0.6, Actual earlier than estimated 0.4; <br>\n",
        "So assume all deliveries are delivered at **16:00pm** at buyer local time, this can balance early & late estimates. <br>\n"
      ],
      "metadata": {
        "id": "rNZ86-bEmI26"
      }
    },
    {
      "cell_type": "code",
      "source": [
        "# Assume deliveries are made on buyer local time 16 pm (subject to change)\n",
        "def sync_time(data, assum_deliv_hour):\n",
        "  data['delivery_datetime_assum'] = pd.to_datetime(data['delivery_date'], format=\"%Y-%m-%d\") + timedelta(hours = assum_deliv_hour)\n",
        "\n",
        "  # Remove timezone information to ensure same time format\n",
        "  data['payment_datetime_buyer_no_tz'] = data['payment_datetime_buyer'].apply(lambda x:x.replace(tzinfo = None))\n",
        "  data['acceptance_scan_timestamp_buyer_no_tz'] = data['acceptance_scan_timestamp_buyer'].apply(lambda x:x.replace(tzinfo = None))\n",
        "\n",
        "  # Remove delivery time before payment time\n",
        "  print(data.shape)\n",
        "  data = data.loc[data['delivery_datetime_assum'] >= data['payment_datetime_buyer_no_tz']]\n",
        "\n",
        "  # Some delivery datetime before acceptance scan timestamp, so we move these assumpation delivery time to 24:00pm, \n",
        "  # if delivery datetime is still before acceptance scan timestamp, we need to remove the record.\n",
        "  print(data.shape)\n",
        "  data.loc[data['delivery_datetime_assum'] < data['acceptance_scan_timestamp_buyer_no_tz'], 'delivery_datetime_assum']  = data.loc[data['delivery_datetime_assum'] < data['acceptance_scan_timestamp_buyer_no_tz'], 'delivery_datetime_assum'] + timedelta(hours = 24 - assum_deliv_hour - 0.0000001)\n",
        "  data = data.loc[data['delivery_datetime_assum'] >= data['acceptance_scan_timestamp_buyer_no_tz']]\n",
        "  print(data.shape)\n",
        "  return data"
      ],
      "metadata": {
        "id": "-q5I1TGBhpDk"
      },
      "execution_count": 24,
      "outputs": []
    },
    {
      "cell_type": "markdown",
      "source": [
        "Remove delivery time before acceptance scan time\n",
        "Run the below cell only ONCE! Otherwise timedeltas will add up"
      ],
      "metadata": {
        "id": "Rpz7XXm-xNZH"
      }
    },
    {
      "cell_type": "code",
      "source": [
        "trainsample2 = sync_time(trainsample2, 16)"
      ],
      "metadata": {
        "id": "X3JDcKuxB-lH",
        "colab": {
          "base_uri": "https://localhost:8080/"
        },
        "outputId": "5812f514-1ba3-4252-c9da-75b80f0577e4"
      },
      "execution_count": 25,
      "outputs": [
        {
          "output_type": "stream",
          "name": "stdout",
          "text": [
            "(3000000, 40)\n",
            "(2999868, 40)\n"
          ]
        },
        {
          "output_type": "stream",
          "name": "stderr",
          "text": [
            "/usr/local/lib/python3.7/dist-packages/pandas/core/indexing.py:1743: SettingWithCopyWarning: \n",
            "A value is trying to be set on a copy of a slice from a DataFrame.\n",
            "Try using .loc[row_indexer,col_indexer] = value instead\n",
            "\n",
            "See the caveats in the documentation: https://pandas.pydata.org/pandas-docs/stable/user_guide/indexing.html#returning-a-view-versus-a-copy\n",
            "  isetter(ilocs[0], value)\n"
          ]
        },
        {
          "output_type": "stream",
          "name": "stdout",
          "text": [
            "(2996875, 40)\n"
          ]
        }
      ]
    },
    {
      "cell_type": "code",
      "source": [
        "# Calculate total delivery days\n",
        "trainsample2['delivery_total_days'] = (trainsample2['delivery_datetime_assum'] - trainsample2['payment_datetime_buyer_no_tz']).dt.total_seconds()/3600/24\n",
        "print(trainsample2.shape)\n",
        "# Remove potential null entries for delivery_total_days\n",
        "trainsample2 = trainsample2[trainsample2['delivery_total_days'].notnull()]\n",
        "trainsample2.shape"
      ],
      "metadata": {
        "colab": {
          "base_uri": "https://localhost:8080/"
        },
        "id": "r8vhH8v3xlrH",
        "outputId": "46eff906-5b13-4d64-c0da-e7629b4ae65b"
      },
      "execution_count": 26,
      "outputs": [
        {
          "output_type": "stream",
          "name": "stdout",
          "text": [
            "(2996875, 41)\n"
          ]
        },
        {
          "output_type": "execute_result",
          "data": {
            "text/plain": [
              "(2996875, 41)"
            ]
          },
          "metadata": {},
          "execution_count": 26
        }
      ]
    },
    {
      "cell_type": "markdown",
      "source": [
        "#### Calculate Actual Delivery Days - the response variable (Method 2: Day Granularity)"
      ],
      "metadata": {
        "id": "RttH8YRu5_O6"
      }
    },
    {
      "cell_type": "code",
      "source": [
        "def sync_time(data):\n",
        "  data['delivery_date'] = pd.to_datetime(data['delivery_date'], format=\"%Y-%m-%d\")\n",
        "\n",
        "  # Remove timezone information to ensure same time format\n",
        "  data['payment_datetime_buyer_no_tz'] = data['payment_datetime_buyer'].apply(lambda x:x.replace(tzinfo = None))\n",
        "  data['payment_datetime_buyer_no_tz'] = data['payment_datetime_buyer_no_tz'].apply(lambda x: x.strftime('%Y-%m-%d'))\n",
        "  data['payment_datetime_buyer_no_tz'] = pd.to_datetime(data['payment_datetime_buyer_no_tz'], format = '%Y-%m-%d')\n",
        "  data['acceptance_scan_timestamp_buyer_no_tz'] = data['acceptance_scan_timestamp_buyer'].apply(lambda x:x.replace(tzinfo = None))\n",
        "\n",
        "  # Remove delivery time before payment time\n",
        "  print(data.shape)\n",
        "  data = data.loc[data['delivery_date'] >= data['payment_datetime_buyer_no_tz']]\n",
        "  data = data.loc[data['delivery_date'] >= data['acceptance_scan_timestamp_buyer_no_tz']]\n",
        "  print(data.shape)\n",
        "\n",
        "  data['delivery_total_days'] = (data['delivery_date'] - data['payment_datetime_buyer_no_tz']).dt.total_seconds()/3600/24\n",
        "  return data"
      ],
      "metadata": {
        "id": "FIssJAGH2Tok"
      },
      "execution_count": null,
      "outputs": []
    },
    {
      "cell_type": "code",
      "source": [
        "trainsample2 = sync_time(trainsample2)"
      ],
      "metadata": {
        "colab": {
          "base_uri": "https://localhost:8080/"
        },
        "id": "HHlaM2ws2kef",
        "outputId": "ddafa23f-1549-4a61-c026-c5f53ee1b730"
      },
      "execution_count": null,
      "outputs": [
        {
          "output_type": "stream",
          "name": "stdout",
          "text": [
            "(750000, 35)\n",
            "(747678, 35)\n"
          ]
        }
      ]
    },
    {
      "cell_type": "code",
      "source": [
        "trainsample2.head()"
      ],
      "metadata": {
        "colab": {
          "base_uri": "https://localhost:8080/",
          "height": 348
        },
        "id": "II47KEt86FKb",
        "outputId": "827fca03-f63d-4039-a83f-dc331de43254"
      },
      "execution_count": null,
      "outputs": [
        {
          "output_type": "execute_result",
          "data": {
            "text/html": [
              "\n",
              "  <div id=\"df-a31cb646-ff9a-4b7f-9ca1-fa679f05f973\">\n",
              "    <div class=\"colab-df-container\">\n",
              "      <div>\n",
              "<style scoped>\n",
              "    .dataframe tbody tr th:only-of-type {\n",
              "        vertical-align: middle;\n",
              "    }\n",
              "\n",
              "    .dataframe tbody tr th {\n",
              "        vertical-align: top;\n",
              "    }\n",
              "\n",
              "    .dataframe thead th {\n",
              "        text-align: right;\n",
              "    }\n",
              "</style>\n",
              "<table border=\"1\" class=\"dataframe\">\n",
              "  <thead>\n",
              "    <tr style=\"text-align: right;\">\n",
              "      <th></th>\n",
              "      <th>b2c_c2c</th>\n",
              "      <th>seller_id</th>\n",
              "      <th>declared_handling_days</th>\n",
              "      <th>acceptance_scan_timestamp</th>\n",
              "      <th>shipment_method_id</th>\n",
              "      <th>shipping_fee</th>\n",
              "      <th>carrier_min_estimate</th>\n",
              "      <th>carrier_max_estimate</th>\n",
              "      <th>item_zip</th>\n",
              "      <th>buyer_zip</th>\n",
              "      <th>category_id</th>\n",
              "      <th>item_price</th>\n",
              "      <th>quantity</th>\n",
              "      <th>payment_datetime</th>\n",
              "      <th>delivery_date</th>\n",
              "      <th>weight</th>\n",
              "      <th>weight_units</th>\n",
              "      <th>package_size</th>\n",
              "      <th>record_number</th>\n",
              "      <th>item_lat</th>\n",
              "      <th>item_lng</th>\n",
              "      <th>buyer_lat</th>\n",
              "      <th>buyer_lng</th>\n",
              "      <th>estimated_dist</th>\n",
              "      <th>payment_datetime_utc</th>\n",
              "      <th>acceptance_scan_timestamp_utc</th>\n",
              "      <th>actual_handling_days</th>\n",
              "      <th>handling_days_diff</th>\n",
              "      <th>zipcode</th>\n",
              "      <th>state</th>\n",
              "      <th>buyer_time_zone</th>\n",
              "      <th>payment_datetime_buyer</th>\n",
              "      <th>acceptance_scan_timestamp_buyer</th>\n",
              "      <th>payment_datetime_buyer_no_tz</th>\n",
              "      <th>acceptance_scan_timestamp_buyer_no_tz</th>\n",
              "      <th>delivery_total_days</th>\n",
              "    </tr>\n",
              "  </thead>\n",
              "  <tbody>\n",
              "    <tr>\n",
              "      <th>0</th>\n",
              "      <td>B2C</td>\n",
              "      <td>1761</td>\n",
              "      <td>1.0</td>\n",
              "      <td>2018-01-26 18:29:00.000-08:00</td>\n",
              "      <td>0</td>\n",
              "      <td>0.00</td>\n",
              "      <td>3</td>\n",
              "      <td>5</td>\n",
              "      <td>91706</td>\n",
              "      <td>90717</td>\n",
              "      <td>19</td>\n",
              "      <td>26.99</td>\n",
              "      <td>1</td>\n",
              "      <td>2018-01-25 21:00:56.000-08:00</td>\n",
              "      <td>2018-01-29</td>\n",
              "      <td>0</td>\n",
              "      <td>1</td>\n",
              "      <td>NONE</td>\n",
              "      <td>9599601</td>\n",
              "      <td>34.09</td>\n",
              "      <td>-117.97</td>\n",
              "      <td>33.79</td>\n",
              "      <td>-118.32</td>\n",
              "      <td>28.826940</td>\n",
              "      <td>2018-01-26 05:00:56+00:00</td>\n",
              "      <td>2018-01-27 02:29:00+00:00</td>\n",
              "      <td>0.894491</td>\n",
              "      <td>-0.105509</td>\n",
              "      <td>90717</td>\n",
              "      <td>CA</td>\n",
              "      <td>US/Pacific</td>\n",
              "      <td>2018-01-25 21:00:56-08:00</td>\n",
              "      <td>2018-01-26 18:29:00-08:00</td>\n",
              "      <td>2018-01-25</td>\n",
              "      <td>2018-01-26 18:29:00</td>\n",
              "      <td>4.0</td>\n",
              "    </tr>\n",
              "    <tr>\n",
              "      <th>1</th>\n",
              "      <td>B2C</td>\n",
              "      <td>21502</td>\n",
              "      <td>3.0</td>\n",
              "      <td>2018-07-28 14:01:00.000-07:00</td>\n",
              "      <td>3</td>\n",
              "      <td>0.00</td>\n",
              "      <td>2</td>\n",
              "      <td>8</td>\n",
              "      <td>23002</td>\n",
              "      <td>92028</td>\n",
              "      <td>6</td>\n",
              "      <td>5.60</td>\n",
              "      <td>1</td>\n",
              "      <td>2018-07-26 21:29:40.000-07:00</td>\n",
              "      <td>2018-08-02</td>\n",
              "      <td>0</td>\n",
              "      <td>1</td>\n",
              "      <td>NONE</td>\n",
              "      <td>12759445</td>\n",
              "      <td>37.30</td>\n",
              "      <td>-78.00</td>\n",
              "      <td>33.40</td>\n",
              "      <td>-117.30</td>\n",
              "      <td>2213.597289</td>\n",
              "      <td>2018-07-27 04:29:40+00:00</td>\n",
              "      <td>2018-07-28 21:01:00+00:00</td>\n",
              "      <td>1.688426</td>\n",
              "      <td>-1.311574</td>\n",
              "      <td>92028</td>\n",
              "      <td>CA</td>\n",
              "      <td>US/Pacific</td>\n",
              "      <td>2018-07-26 21:29:40-07:00</td>\n",
              "      <td>2018-07-28 14:01:00-07:00</td>\n",
              "      <td>2018-07-26</td>\n",
              "      <td>2018-07-28 14:01:00</td>\n",
              "      <td>7.0</td>\n",
              "    </tr>\n",
              "    <tr>\n",
              "      <th>2</th>\n",
              "      <td>B2C</td>\n",
              "      <td>898</td>\n",
              "      <td>1.0</td>\n",
              "      <td>2019-07-08 16:56:00.000-07:00</td>\n",
              "      <td>0</td>\n",
              "      <td>0.00</td>\n",
              "      <td>3</td>\n",
              "      <td>5</td>\n",
              "      <td>90017</td>\n",
              "      <td>15712</td>\n",
              "      <td>1</td>\n",
              "      <td>19.95</td>\n",
              "      <td>1</td>\n",
              "      <td>2019-07-07 08:19:39.000-07:00</td>\n",
              "      <td>2019-07-11</td>\n",
              "      <td>4</td>\n",
              "      <td>1</td>\n",
              "      <td>PACKAGE_THICK_ENVELOPE</td>\n",
              "      <td>2166735</td>\n",
              "      <td>34.05</td>\n",
              "      <td>-118.26</td>\n",
              "      <td>40.80</td>\n",
              "      <td>-78.90</td>\n",
              "      <td>2188.794555</td>\n",
              "      <td>2019-07-07 15:19:39+00:00</td>\n",
              "      <td>2019-07-08 23:56:00+00:00</td>\n",
              "      <td>1.358576</td>\n",
              "      <td>0.358576</td>\n",
              "      <td>15712</td>\n",
              "      <td>PA</td>\n",
              "      <td>US/Eastern</td>\n",
              "      <td>2019-07-07 11:19:39-04:00</td>\n",
              "      <td>2019-07-08 19:56:00-04:00</td>\n",
              "      <td>2019-07-07</td>\n",
              "      <td>2019-07-08 19:56:00</td>\n",
              "      <td>4.0</td>\n",
              "    </tr>\n",
              "    <tr>\n",
              "      <th>3</th>\n",
              "      <td>C2C</td>\n",
              "      <td>386410</td>\n",
              "      <td>1.0</td>\n",
              "      <td>2019-10-05 15:57:00.000-04:00</td>\n",
              "      <td>0</td>\n",
              "      <td>2.95</td>\n",
              "      <td>3</td>\n",
              "      <td>5</td>\n",
              "      <td>37930</td>\n",
              "      <td>07087</td>\n",
              "      <td>19</td>\n",
              "      <td>6.57</td>\n",
              "      <td>1</td>\n",
              "      <td>2019-10-04 21:52:17.000-04:00</td>\n",
              "      <td>2019-10-08</td>\n",
              "      <td>0</td>\n",
              "      <td>1</td>\n",
              "      <td>PACKAGE_THICK_ENVELOPE</td>\n",
              "      <td>6659115</td>\n",
              "      <td>NaN</td>\n",
              "      <td>NaN</td>\n",
              "      <td>NaN</td>\n",
              "      <td>NaN</td>\n",
              "      <td>1090.029321</td>\n",
              "      <td>2019-10-05 01:52:17+00:00</td>\n",
              "      <td>2019-10-05 19:57:00+00:00</td>\n",
              "      <td>0.753275</td>\n",
              "      <td>-0.246725</td>\n",
              "      <td>NaN</td>\n",
              "      <td>NaN</td>\n",
              "      <td>US/Central</td>\n",
              "      <td>2019-10-04 20:52:17-05:00</td>\n",
              "      <td>2019-10-05 14:57:00-05:00</td>\n",
              "      <td>2019-10-04</td>\n",
              "      <td>2019-10-05 14:57:00</td>\n",
              "      <td>4.0</td>\n",
              "    </tr>\n",
              "    <tr>\n",
              "      <th>4</th>\n",
              "      <td>B2C</td>\n",
              "      <td>1750</td>\n",
              "      <td>1.0</td>\n",
              "      <td>2018-11-06 15:10:00.000-07:00</td>\n",
              "      <td>0</td>\n",
              "      <td>0.00</td>\n",
              "      <td>3</td>\n",
              "      <td>5</td>\n",
              "      <td>85027</td>\n",
              "      <td>23322</td>\n",
              "      <td>1</td>\n",
              "      <td>6.75</td>\n",
              "      <td>1</td>\n",
              "      <td>2018-11-05 16:37:15.000-07:00</td>\n",
              "      <td>2018-11-09</td>\n",
              "      <td>0</td>\n",
              "      <td>1</td>\n",
              "      <td>PACKAGE_THICK_ENVELOPE</td>\n",
              "      <td>1259477</td>\n",
              "      <td>33.68</td>\n",
              "      <td>-112.10</td>\n",
              "      <td>36.60</td>\n",
              "      <td>-76.30</td>\n",
              "      <td>2019.699107</td>\n",
              "      <td>2018-11-05 23:37:15+00:00</td>\n",
              "      <td>2018-11-06 22:10:00+00:00</td>\n",
              "      <td>0.939410</td>\n",
              "      <td>-0.060590</td>\n",
              "      <td>23322</td>\n",
              "      <td>VA</td>\n",
              "      <td>US/Eastern</td>\n",
              "      <td>2018-11-05 18:37:15-05:00</td>\n",
              "      <td>2018-11-06 17:10:00-05:00</td>\n",
              "      <td>2018-11-05</td>\n",
              "      <td>2018-11-06 17:10:00</td>\n",
              "      <td>4.0</td>\n",
              "    </tr>\n",
              "  </tbody>\n",
              "</table>\n",
              "</div>\n",
              "      <button class=\"colab-df-convert\" onclick=\"convertToInteractive('df-a31cb646-ff9a-4b7f-9ca1-fa679f05f973')\"\n",
              "              title=\"Convert this dataframe to an interactive table.\"\n",
              "              style=\"display:none;\">\n",
              "        \n",
              "  <svg xmlns=\"http://www.w3.org/2000/svg\" height=\"24px\"viewBox=\"0 0 24 24\"\n",
              "       width=\"24px\">\n",
              "    <path d=\"M0 0h24v24H0V0z\" fill=\"none\"/>\n",
              "    <path d=\"M18.56 5.44l.94 2.06.94-2.06 2.06-.94-2.06-.94-.94-2.06-.94 2.06-2.06.94zm-11 1L8.5 8.5l.94-2.06 2.06-.94-2.06-.94L8.5 2.5l-.94 2.06-2.06.94zm10 10l.94 2.06.94-2.06 2.06-.94-2.06-.94-.94-2.06-.94 2.06-2.06.94z\"/><path d=\"M17.41 7.96l-1.37-1.37c-.4-.4-.92-.59-1.43-.59-.52 0-1.04.2-1.43.59L10.3 9.45l-7.72 7.72c-.78.78-.78 2.05 0 2.83L4 21.41c.39.39.9.59 1.41.59.51 0 1.02-.2 1.41-.59l7.78-7.78 2.81-2.81c.8-.78.8-2.07 0-2.86zM5.41 20L4 18.59l7.72-7.72 1.47 1.35L5.41 20z\"/>\n",
              "  </svg>\n",
              "      </button>\n",
              "      \n",
              "  <style>\n",
              "    .colab-df-container {\n",
              "      display:flex;\n",
              "      flex-wrap:wrap;\n",
              "      gap: 12px;\n",
              "    }\n",
              "\n",
              "    .colab-df-convert {\n",
              "      background-color: #E8F0FE;\n",
              "      border: none;\n",
              "      border-radius: 50%;\n",
              "      cursor: pointer;\n",
              "      display: none;\n",
              "      fill: #1967D2;\n",
              "      height: 32px;\n",
              "      padding: 0 0 0 0;\n",
              "      width: 32px;\n",
              "    }\n",
              "\n",
              "    .colab-df-convert:hover {\n",
              "      background-color: #E2EBFA;\n",
              "      box-shadow: 0px 1px 2px rgba(60, 64, 67, 0.3), 0px 1px 3px 1px rgba(60, 64, 67, 0.15);\n",
              "      fill: #174EA6;\n",
              "    }\n",
              "\n",
              "    [theme=dark] .colab-df-convert {\n",
              "      background-color: #3B4455;\n",
              "      fill: #D2E3FC;\n",
              "    }\n",
              "\n",
              "    [theme=dark] .colab-df-convert:hover {\n",
              "      background-color: #434B5C;\n",
              "      box-shadow: 0px 1px 3px 1px rgba(0, 0, 0, 0.15);\n",
              "      filter: drop-shadow(0px 1px 2px rgba(0, 0, 0, 0.3));\n",
              "      fill: #FFFFFF;\n",
              "    }\n",
              "  </style>\n",
              "\n",
              "      <script>\n",
              "        const buttonEl =\n",
              "          document.querySelector('#df-a31cb646-ff9a-4b7f-9ca1-fa679f05f973 button.colab-df-convert');\n",
              "        buttonEl.style.display =\n",
              "          google.colab.kernel.accessAllowed ? 'block' : 'none';\n",
              "\n",
              "        async function convertToInteractive(key) {\n",
              "          const element = document.querySelector('#df-a31cb646-ff9a-4b7f-9ca1-fa679f05f973');\n",
              "          const dataTable =\n",
              "            await google.colab.kernel.invokeFunction('convertToInteractive',\n",
              "                                                     [key], {});\n",
              "          if (!dataTable) return;\n",
              "\n",
              "          const docLinkHtml = 'Like what you see? Visit the ' +\n",
              "            '<a target=\"_blank\" href=https://colab.research.google.com/notebooks/data_table.ipynb>data table notebook</a>'\n",
              "            + ' to learn more about interactive tables.';\n",
              "          element.innerHTML = '';\n",
              "          dataTable['output_type'] = 'display_data';\n",
              "          await google.colab.output.renderOutput(dataTable, element);\n",
              "          const docLink = document.createElement('div');\n",
              "          docLink.innerHTML = docLinkHtml;\n",
              "          element.appendChild(docLink);\n",
              "        }\n",
              "      </script>\n",
              "    </div>\n",
              "  </div>\n",
              "  "
            ],
            "text/plain": [
              "  b2c_c2c  seller_id  declared_handling_days      acceptance_scan_timestamp  shipment_method_id  shipping_fee  carrier_min_estimate  carrier_max_estimate item_zip buyer_zip  category_id  item_price  quantity               payment_datetime delivery_date  weight  weight_units            package_size  record_number  item_lat  item_lng  buyer_lat  buyer_lng  estimated_dist      payment_datetime_utc acceptance_scan_timestamp_utc  actual_handling_days  handling_days_diff zipcode state buyer_time_zone     payment_datetime_buyer acceptance_scan_timestamp_buyer payment_datetime_buyer_no_tz acceptance_scan_timestamp_buyer_no_tz  delivery_total_days\n",
              "0     B2C       1761                     1.0  2018-01-26 18:29:00.000-08:00                   0          0.00                     3                     5    91706     90717           19       26.99         1  2018-01-25 21:00:56.000-08:00    2018-01-29       0             1                    NONE        9599601     34.09   -117.97      33.79    -118.32       28.826940 2018-01-26 05:00:56+00:00     2018-01-27 02:29:00+00:00              0.894491           -0.105509   90717    CA      US/Pacific  2018-01-25 21:00:56-08:00       2018-01-26 18:29:00-08:00                   2018-01-25                   2018-01-26 18:29:00                  4.0\n",
              "1     B2C      21502                     3.0  2018-07-28 14:01:00.000-07:00                   3          0.00                     2                     8    23002     92028            6        5.60         1  2018-07-26 21:29:40.000-07:00    2018-08-02       0             1                    NONE       12759445     37.30    -78.00      33.40    -117.30     2213.597289 2018-07-27 04:29:40+00:00     2018-07-28 21:01:00+00:00              1.688426           -1.311574   92028    CA      US/Pacific  2018-07-26 21:29:40-07:00       2018-07-28 14:01:00-07:00                   2018-07-26                   2018-07-28 14:01:00                  7.0\n",
              "2     B2C        898                     1.0  2019-07-08 16:56:00.000-07:00                   0          0.00                     3                     5    90017     15712            1       19.95         1  2019-07-07 08:19:39.000-07:00    2019-07-11       4             1  PACKAGE_THICK_ENVELOPE        2166735     34.05   -118.26      40.80     -78.90     2188.794555 2019-07-07 15:19:39+00:00     2019-07-08 23:56:00+00:00              1.358576            0.358576   15712    PA      US/Eastern  2019-07-07 11:19:39-04:00       2019-07-08 19:56:00-04:00                   2019-07-07                   2019-07-08 19:56:00                  4.0\n",
              "3     C2C     386410                     1.0  2019-10-05 15:57:00.000-04:00                   0          2.95                     3                     5    37930     07087           19        6.57         1  2019-10-04 21:52:17.000-04:00    2019-10-08       0             1  PACKAGE_THICK_ENVELOPE        6659115       NaN       NaN        NaN        NaN     1090.029321 2019-10-05 01:52:17+00:00     2019-10-05 19:57:00+00:00              0.753275           -0.246725     NaN   NaN      US/Central  2019-10-04 20:52:17-05:00       2019-10-05 14:57:00-05:00                   2019-10-04                   2019-10-05 14:57:00                  4.0\n",
              "4     B2C       1750                     1.0  2018-11-06 15:10:00.000-07:00                   0          0.00                     3                     5    85027     23322            1        6.75         1  2018-11-05 16:37:15.000-07:00    2018-11-09       0             1  PACKAGE_THICK_ENVELOPE        1259477     33.68   -112.10      36.60     -76.30     2019.699107 2018-11-05 23:37:15+00:00     2018-11-06 22:10:00+00:00              0.939410           -0.060590   23322    VA      US/Eastern  2018-11-05 18:37:15-05:00       2018-11-06 17:10:00-05:00                   2018-11-05                   2018-11-06 17:10:00                  4.0"
            ]
          },
          "metadata": {},
          "execution_count": 24
        }
      ]
    },
    {
      "cell_type": "markdown",
      "source": [
        "### Time-series Visualizations: Identify year/seasonal patterns (12/27 Seem not much help)"
      ],
      "metadata": {
        "id": "-y-X67wZXpb7"
      }
    },
    {
      "cell_type": "markdown",
      "source": [
        "2019 seems to show faster delivery than 2018 since the 75 percentile delivery days are less than that of 2018. <br>\n",
        "In terms of monthly patterns, Nov, Dec and Jan shows slower delivery."
      ],
      "metadata": {
        "id": "03Sfi_-ocFiy"
      }
    },
    {
      "cell_type": "markdown",
      "source": [
        "Create Month, Year features"
      ],
      "metadata": {
        "id": "QCTEDT2BfGyX"
      }
    },
    {
      "cell_type": "code",
      "source": [
        "trainsample2['year'] = [d.year for d in trainsample2.payment_datetime_buyer_no_tz]\n",
        "trainsample2['month'] = [d.month for d in trainsample2.payment_datetime_buyer_no_tz]\n",
        "trainsample2['year_month'] = trainsample2['payment_datetime_buyer_no_tz'].dt.to_period('M')\n",
        "\n",
        "years = trainsample2['year'].unique()\n",
        "year_month = sorted(trainsample2['year_month'].unique())\n",
        "\n",
        "# Draw Plot\n",
        "fig, axes = plt.subplots(1, 3, figsize=(20,10), dpi= 80)\n",
        "sns.boxplot(x='year', y='delivery_total_days', data=trainsample2, ax=axes[0])\n",
        "sns.boxplot(x='month', y='delivery_total_days', data=trainsample2, ax = axes[1])\n",
        "sns.boxplot(x='year_month', y='delivery_total_days', data=trainsample2, ax = axes[2])\n",
        "\n",
        "# Set Title\n",
        "axes[0].set_title('Year-wise Box Plot\\n(The Trend)', fontsize=18)\n",
        "axes[0].set_ylim([0, 10])  \n",
        "axes[1].set_title('Month-wise Box Plot\\n(The Seasonality)', fontsize=18)\n",
        "axes[1].set_ylim([0, 10])  \n",
        "axes[2].set_title('Year-Month-wise Box Plot\\n(The Seasonality)', fontsize=18)\n",
        "axes[2].set_ylim([0, 10]) \n",
        "axes[2].set_xticklabels(year_month, rotation = 60)\n",
        "plt.show()"
      ],
      "metadata": {
        "colab": {
          "base_uri": "https://localhost:8080/",
          "height": 747
        },
        "id": "ZMGyVMkpXmm9",
        "outputId": "dc77b36d-d585-404e-e3e7-3e4a4caf406f"
      },
      "execution_count": null,
      "outputs": [
        {
          "output_type": "display_data",
          "data": {
            "image/png": "[encoded data removed]",
            "text/plain": [
              "<Figure size 1600x800 with 3 Axes>"
            ]
          },
          "metadata": {
            "needs_background": "light"
          }
        }
      ]
    },
    {
      "cell_type": "markdown",
      "source": [
        "### EDA and comparison of delivery days by other variables"
      ],
      "metadata": {
        "id": "FvhJIubCjXmt"
      }
    },
    {
      "cell_type": "markdown",
      "source": [
        "C2C is slower than B2C for more than 0.3 days, the main difference lies in handling days."
      ],
      "metadata": {
        "id": "Y4aSD4ZchKD-"
      }
    },
    {
      "cell_type": "code",
      "source": [
        "trainsample2.groupby(['b2c_c2c'])['delivery_total_days'].mean()"
      ],
      "metadata": {
        "colab": {
          "base_uri": "https://localhost:8080/"
        },
        "id": "YYduAB9Dg9-U",
        "outputId": "5f192fd5-285e-4025-9080-0227badd2eb6"
      },
      "execution_count": null,
      "outputs": [
        {
          "output_type": "execute_result",
          "data": {
            "text/plain": [
              "b2c_c2c\n",
              "B2C    4.699931\n",
              "C2C    5.030936\n",
              "Name: delivery_total_days, dtype: float64"
            ]
          },
          "metadata": {},
          "execution_count": 189
        }
      ]
    },
    {
      "cell_type": "code",
      "source": [
        "trainsample2.groupby(['b2c_c2c'])['actual_handling_days'].mean()"
      ],
      "metadata": {
        "colab": {
          "base_uri": "https://localhost:8080/"
        },
        "id": "yt6ZQ9PehR6i",
        "outputId": "b8e193c0-6bc2-49f8-b194-16515c7005d2"
      },
      "execution_count": null,
      "outputs": [
        {
          "output_type": "execute_result",
          "data": {
            "text/plain": [
              "b2c_c2c\n",
              "B2C    1.641328\n",
              "C2C    1.932693\n",
              "Name: actual_handling_days, dtype: float64"
            ]
          },
          "metadata": {},
          "execution_count": 190
        }
      ]
    },
    {
      "cell_type": "code",
      "source": [
        "trainsample2['seller_id'].nunique()"
      ],
      "metadata": {
        "colab": {
          "base_uri": "https://localhost:8080/"
        },
        "id": "QnaKv7WsiH-k",
        "outputId": "34e65c17-62c7-41eb-8468-9b8eca7501ae"
      },
      "execution_count": null,
      "outputs": [
        {
          "output_type": "execute_result",
          "data": {
            "text/plain": [
              "460157"
            ]
          },
          "metadata": {},
          "execution_count": 191
        }
      ]
    },
    {
      "cell_type": "code",
      "source": [
        "trainsample2.groupby(['shipment_method_id'])['delivery_total_days'].mean()"
      ],
      "metadata": {
        "colab": {
          "base_uri": "https://localhost:8080/"
        },
        "id": "RCFIUH0OiLxt",
        "outputId": "5d71a516-72ba-4fdd-9557-29b3be6f8659"
      },
      "execution_count": null,
      "outputs": [
        {
          "output_type": "execute_result",
          "data": {
            "text/plain": [
              "shipment_method_id\n",
              "0     4.683598\n",
              "1     4.468223\n",
              "2     5.571731\n",
              "3     6.750678\n",
              "4     5.858620\n",
              "5     4.062135\n",
              "6     4.236316\n",
              "7     4.452170\n",
              "8     4.286488\n",
              "9     4.622602\n",
              "10    4.131544\n",
              "11    3.499975\n",
              "12    6.244306\n",
              "13    2.844798\n",
              "15    5.518444\n",
              "Name: delivery_total_days, dtype: float64"
            ]
          },
          "metadata": {},
          "execution_count": 69
        }
      ]
    },
    {
      "cell_type": "code",
      "source": [
        "cuts = pd.cut(trainsample2['shipping_fee'], [0,0.01,5,10,15,20,25,50])\n",
        "trainsample2.groupby(cuts)['delivery_total_days'].mean()"
      ],
      "metadata": {
        "colab": {
          "base_uri": "https://localhost:8080/"
        },
        "id": "C4CsYU5Pig61",
        "outputId": "79d96d32-2117-4be4-c516-1ceb6ec74d3e"
      },
      "execution_count": null,
      "outputs": [
        {
          "output_type": "execute_result",
          "data": {
            "text/plain": [
              "shipping_fee\n",
              "(0.0, 0.01]     5.640806\n",
              "(0.01, 5.0]     5.010120\n",
              "(5.0, 10.0]     4.583780\n",
              "(10.0, 15.0]    4.658982\n",
              "(15.0, 20.0]    5.014751\n",
              "(20.0, 25.0]    5.314212\n",
              "(25.0, 50.0]    5.660518\n",
              "Name: delivery_total_days, dtype: float64"
            ]
          },
          "metadata": {},
          "execution_count": 192
        }
      ]
    },
    {
      "cell_type": "code",
      "source": [
        "trainsample2.groupby(['category_id'])['delivery_total_days'].mean()"
      ],
      "metadata": {
        "colab": {
          "base_uri": "https://localhost:8080/"
        },
        "id": "n6JVa0n0jkKd",
        "outputId": "36ac750d-47e9-4794-d2ae-0e27bb7de9c3"
      },
      "execution_count": null,
      "outputs": [
        {
          "output_type": "execute_result",
          "data": {
            "text/plain": [
              "category_id\n",
              "0     4.617184\n",
              "1     4.570550\n",
              "2     4.726507\n",
              "3     4.910134\n",
              "4     4.774880\n",
              "5     4.561383\n",
              "6     4.501982\n",
              "7     4.998895\n",
              "8     4.746773\n",
              "9     4.802255\n",
              "10    4.550863\n",
              "11    4.526563\n",
              "12    4.599408\n",
              "13    4.620215\n",
              "14    6.556609\n",
              "15    4.903316\n",
              "16    5.866370\n",
              "17    4.860375\n",
              "18    6.352852\n",
              "19    4.465107\n",
              "20    4.835632\n",
              "21    4.577072\n",
              "22    4.554740\n",
              "23    4.868147\n",
              "24    5.404691\n",
              "25    6.931191\n",
              "26    4.830542\n",
              "27    5.053218\n",
              "28    4.368687\n",
              "29    5.747763\n",
              "30    4.998997\n",
              "31    4.692557\n",
              "32    4.034232\n",
              "Name: delivery_total_days, dtype: float64"
            ]
          },
          "metadata": {},
          "execution_count": 76
        }
      ]
    },
    {
      "cell_type": "markdown",
      "source": [
        "### Model Selection: Regression models\n",
        "### Ridge, Lasso, Catboost, RandomForest Regression, LightGBM Regression, Gradient Boosting Regression"
      ],
      "metadata": {
        "id": "Lbp1EBpmfx23"
      }
    },
    {
      "cell_type": "code",
      "source": [
        "trainsample2.columns"
      ],
      "metadata": {
        "colab": {
          "base_uri": "https://localhost:8080/"
        },
        "id": "kNy-Hv3Jf0JX",
        "outputId": "c2ccf2e2-63d3-40fa-b009-c0fc8f1f8109"
      },
      "execution_count": 27,
      "outputs": [
        {
          "output_type": "execute_result",
          "data": {
            "text/plain": [
              "Index(['b2c_c2c', 'seller_id', 'declared_handling_days', 'acceptance_scan_timestamp', 'shipment_method_id', 'shipping_fee', 'carrier_min_estimate', 'carrier_max_estimate', 'item_zip', 'buyer_zip', 'category_id', 'item_price', 'quantity', 'payment_datetime', 'delivery_date', 'weight', 'weight_units', 'package_size', 'record_number', 'item_lat', 'item_lng', 'popu_dens_item', 'med_income_item', 'buyer_lat', 'buyer_lng', 'popu_dens_buyer', 'med_income_buyer', 'estimated_dist', 'payment_datetime_utc', 'acceptance_scan_timestamp_utc', 'actual_handling_days', 'handling_days_diff', 'zipcode', 'state', 'buyer_time_zone', 'payment_datetime_buyer', 'acceptance_scan_timestamp_buyer', 'delivery_datetime_assum', 'payment_datetime_buyer_no_tz', 'acceptance_scan_timestamp_buyer_no_tz', 'delivery_total_days'], dtype='object')"
            ]
          },
          "metadata": {},
          "execution_count": 27
        }
      ]
    },
    {
      "cell_type": "code",
      "source": [
        "selected_features = trainsample2[['b2c_c2c', 'seller_id', 'declared_handling_days','shipment_method_id', 'shipping_fee',\n",
        "       'carrier_min_estimate', 'carrier_max_estimate', 'item_zip', 'buyer_zip','category_id', 'item_price', 'quantity','weight',\n",
        "       'package_size','actual_handling_days','estimated_dist','popu_dens_item', 'med_income_item', 'popu_dens_buyer', 'med_income_buyer']]\n",
        "y = trainsample2['delivery_total_days']\n",
        "selected_features.head()"
      ],
      "metadata": {
        "colab": {
          "base_uri": "https://localhost:8080/",
          "height": 206
        },
        "id": "NVFZSOFvjq9H",
        "outputId": "c80fd407-ddb7-4a83-be6c-3e9f6126958b"
      },
      "execution_count": 28,
      "outputs": [
        {
          "output_type": "execute_result",
          "data": {
            "text/html": [
              "\n",
              "  <div id=\"df-b23d1c10-0e88-477b-95cf-0b95d77ff7e0\">\n",
              "    <div class=\"colab-df-container\">\n",
              "      <div>\n",
              "<style scoped>\n",
              "    .dataframe tbody tr th:only-of-type {\n",
              "        vertical-align: middle;\n",
              "    }\n",
              "\n",
              "    .dataframe tbody tr th {\n",
              "        vertical-align: top;\n",
              "    }\n",
              "\n",
              "    .dataframe thead th {\n",
              "        text-align: right;\n",
              "    }\n",
              "</style>\n",
              "<table border=\"1\" class=\"dataframe\">\n",
              "  <thead>\n",
              "    <tr style=\"text-align: right;\">\n",
              "      <th></th>\n",
              "      <th>b2c_c2c</th>\n",
              "      <th>seller_id</th>\n",
              "      <th>declared_handling_days</th>\n",
              "      <th>shipment_method_id</th>\n",
              "      <th>shipping_fee</th>\n",
              "      <th>carrier_min_estimate</th>\n",
              "      <th>carrier_max_estimate</th>\n",
              "      <th>item_zip</th>\n",
              "      <th>buyer_zip</th>\n",
              "      <th>category_id</th>\n",
              "      <th>item_price</th>\n",
              "      <th>quantity</th>\n",
              "      <th>weight</th>\n",
              "      <th>package_size</th>\n",
              "      <th>actual_handling_days</th>\n",
              "      <th>estimated_dist</th>\n",
              "      <th>popu_dens_item</th>\n",
              "      <th>med_income_item</th>\n",
              "      <th>popu_dens_buyer</th>\n",
              "      <th>med_income_buyer</th>\n",
              "    </tr>\n",
              "  </thead>\n",
              "  <tbody>\n",
              "    <tr>\n",
              "      <th>0</th>\n",
              "      <td>B2C</td>\n",
              "      <td>1761</td>\n",
              "      <td>1.0</td>\n",
              "      <td>0</td>\n",
              "      <td>0.00</td>\n",
              "      <td>3</td>\n",
              "      <td>5</td>\n",
              "      <td>91706</td>\n",
              "      <td>90717</td>\n",
              "      <td>19</td>\n",
              "      <td>26.99</td>\n",
              "      <td>1</td>\n",
              "      <td>0</td>\n",
              "      <td>NONE</td>\n",
              "      <td>0.894491</td>\n",
              "      <td>28.826940</td>\n",
              "      <td>5699.000000</td>\n",
              "      <td>51232.000000</td>\n",
              "      <td>10767.000000</td>\n",
              "      <td>58320.00000</td>\n",
              "    </tr>\n",
              "    <tr>\n",
              "      <th>1</th>\n",
              "      <td>B2C</td>\n",
              "      <td>21502</td>\n",
              "      <td>3.0</td>\n",
              "      <td>3</td>\n",
              "      <td>0.00</td>\n",
              "      <td>2</td>\n",
              "      <td>8</td>\n",
              "      <td>230022</td>\n",
              "      <td>92028</td>\n",
              "      <td>6</td>\n",
              "      <td>5.60</td>\n",
              "      <td>1</td>\n",
              "      <td>0</td>\n",
              "      <td>NONE</td>\n",
              "      <td>1.688426</td>\n",
              "      <td>1089.228112</td>\n",
              "      <td>4553.395931</td>\n",
              "      <td>60125.679263</td>\n",
              "      <td>490.000000</td>\n",
              "      <td>61067.00000</td>\n",
              "    </tr>\n",
              "    <tr>\n",
              "      <th>2</th>\n",
              "      <td>B2C</td>\n",
              "      <td>898</td>\n",
              "      <td>1.0</td>\n",
              "      <td>0</td>\n",
              "      <td>0.00</td>\n",
              "      <td>3</td>\n",
              "      <td>5</td>\n",
              "      <td>90017</td>\n",
              "      <td>15712</td>\n",
              "      <td>1</td>\n",
              "      <td>19.95</td>\n",
              "      <td>1</td>\n",
              "      <td>4</td>\n",
              "      <td>PACKAGE_THICK_ENVELOPE</td>\n",
              "      <td>1.358576</td>\n",
              "      <td>2188.794555</td>\n",
              "      <td>32725.000000</td>\n",
              "      <td>21030.000000</td>\n",
              "      <td>93.000000</td>\n",
              "      <td>21023.00000</td>\n",
              "    </tr>\n",
              "    <tr>\n",
              "      <th>3</th>\n",
              "      <td>C2C</td>\n",
              "      <td>386410</td>\n",
              "      <td>1.0</td>\n",
              "      <td>0</td>\n",
              "      <td>2.95</td>\n",
              "      <td>3</td>\n",
              "      <td>5</td>\n",
              "      <td>37930</td>\n",
              "      <td>07087</td>\n",
              "      <td>19</td>\n",
              "      <td>6.57</td>\n",
              "      <td>1</td>\n",
              "      <td>0</td>\n",
              "      <td>PACKAGE_THICK_ENVELOPE</td>\n",
              "      <td>0.753275</td>\n",
              "      <td>1089.228112</td>\n",
              "      <td>4553.395931</td>\n",
              "      <td>60125.679263</td>\n",
              "      <td>3545.450529</td>\n",
              "      <td>58037.26973</td>\n",
              "    </tr>\n",
              "    <tr>\n",
              "      <th>4</th>\n",
              "      <td>B2C</td>\n",
              "      <td>1750</td>\n",
              "      <td>1.0</td>\n",
              "      <td>0</td>\n",
              "      <td>0.00</td>\n",
              "      <td>3</td>\n",
              "      <td>5</td>\n",
              "      <td>85027</td>\n",
              "      <td>23322</td>\n",
              "      <td>1</td>\n",
              "      <td>6.75</td>\n",
              "      <td>1</td>\n",
              "      <td>0</td>\n",
              "      <td>PACKAGE_THICK_ENVELOPE</td>\n",
              "      <td>0.939410</td>\n",
              "      <td>2019.699107</td>\n",
              "      <td>2642.000000</td>\n",
              "      <td>51919.000000</td>\n",
              "      <td>401.000000</td>\n",
              "      <td>96091.00000</td>\n",
              "    </tr>\n",
              "  </tbody>\n",
              "</table>\n",
              "</div>\n",
              "      <button class=\"colab-df-convert\" onclick=\"convertToInteractive('df-b23d1c10-0e88-477b-95cf-0b95d77ff7e0')\"\n",
              "              title=\"Convert this dataframe to an interactive table.\"\n",
              "              style=\"display:none;\">\n",
              "        \n",
              "  <svg xmlns=\"http://www.w3.org/2000/svg\" height=\"24px\"viewBox=\"0 0 24 24\"\n",
              "       width=\"24px\">\n",
              "    <path d=\"M0 0h24v24H0V0z\" fill=\"none\"/>\n",
              "    <path d=\"M18.56 5.44l.94 2.06.94-2.06 2.06-.94-2.06-.94-.94-2.06-.94 2.06-2.06.94zm-11 1L8.5 8.5l.94-2.06 2.06-.94-2.06-.94L8.5 2.5l-.94 2.06-2.06.94zm10 10l.94 2.06.94-2.06 2.06-.94-2.06-.94-.94-2.06-.94 2.06-2.06.94z\"/><path d=\"M17.41 7.96l-1.37-1.37c-.4-.4-.92-.59-1.43-.59-.52 0-1.04.2-1.43.59L10.3 9.45l-7.72 7.72c-.78.78-.78 2.05 0 2.83L4 21.41c.39.39.9.59 1.41.59.51 0 1.02-.2 1.41-.59l7.78-7.78 2.81-2.81c.8-.78.8-2.07 0-2.86zM5.41 20L4 18.59l7.72-7.72 1.47 1.35L5.41 20z\"/>\n",
              "  </svg>\n",
              "      </button>\n",
              "      \n",
              "  <style>\n",
              "    .colab-df-container {\n",
              "      display:flex;\n",
              "      flex-wrap:wrap;\n",
              "      gap: 12px;\n",
              "    }\n",
              "\n",
              "    .colab-df-convert {\n",
              "      background-color: #E8F0FE;\n",
              "      border: none;\n",
              "      border-radius: 50%;\n",
              "      cursor: pointer;\n",
              "      display: none;\n",
              "      fill: #1967D2;\n",
              "      height: 32px;\n",
              "      padding: 0 0 0 0;\n",
              "      width: 32px;\n",
              "    }\n",
              "\n",
              "    .colab-df-convert:hover {\n",
              "      background-color: #E2EBFA;\n",
              "      box-shadow: 0px 1px 2px rgba(60, 64, 67, 0.3), 0px 1px 3px 1px rgba(60, 64, 67, 0.15);\n",
              "      fill: #174EA6;\n",
              "    }\n",
              "\n",
              "    [theme=dark] .colab-df-convert {\n",
              "      background-color: #3B4455;\n",
              "      fill: #D2E3FC;\n",
              "    }\n",
              "\n",
              "    [theme=dark] .colab-df-convert:hover {\n",
              "      background-color: #434B5C;\n",
              "      box-shadow: 0px 1px 3px 1px rgba(0, 0, 0, 0.15);\n",
              "      filter: drop-shadow(0px 1px 2px rgba(0, 0, 0, 0.3));\n",
              "      fill: #FFFFFF;\n",
              "    }\n",
              "  </style>\n",
              "\n",
              "      <script>\n",
              "        const buttonEl =\n",
              "          document.querySelector('#df-b23d1c10-0e88-477b-95cf-0b95d77ff7e0 button.colab-df-convert');\n",
              "        buttonEl.style.display =\n",
              "          google.colab.kernel.accessAllowed ? 'block' : 'none';\n",
              "\n",
              "        async function convertToInteractive(key) {\n",
              "          const element = document.querySelector('#df-b23d1c10-0e88-477b-95cf-0b95d77ff7e0');\n",
              "          const dataTable =\n",
              "            await google.colab.kernel.invokeFunction('convertToInteractive',\n",
              "                                                     [key], {});\n",
              "          if (!dataTable) return;\n",
              "\n",
              "          const docLinkHtml = 'Like what you see? Visit the ' +\n",
              "            '<a target=\"_blank\" href=https://colab.research.google.com/notebooks/data_table.ipynb>data table notebook</a>'\n",
              "            + ' to learn more about interactive tables.';\n",
              "          element.innerHTML = '';\n",
              "          dataTable['output_type'] = 'display_data';\n",
              "          await google.colab.output.renderOutput(dataTable, element);\n",
              "          const docLink = document.createElement('div');\n",
              "          docLink.innerHTML = docLinkHtml;\n",
              "          element.appendChild(docLink);\n",
              "        }\n",
              "      </script>\n",
              "    </div>\n",
              "  </div>\n",
              "  "
            ],
            "text/plain": [
              "  b2c_c2c  seller_id  declared_handling_days  shipment_method_id  shipping_fee  carrier_min_estimate  carrier_max_estimate item_zip buyer_zip  category_id  item_price  quantity  weight            package_size  actual_handling_days  estimated_dist  popu_dens_item  med_income_item  popu_dens_buyer  med_income_buyer\n",
              "0     B2C       1761                     1.0                   0          0.00                     3                     5    91706     90717           19       26.99         1       0                    NONE              0.894491       28.826940     5699.000000     51232.000000     10767.000000       58320.00000\n",
              "1     B2C      21502                     3.0                   3          0.00                     2                     8   230022     92028            6        5.60         1       0                    NONE              1.688426     1089.228112     4553.395931     60125.679263       490.000000       61067.00000\n",
              "2     B2C        898                     1.0                   0          0.00                     3                     5    90017     15712            1       19.95         1       4  PACKAGE_THICK_ENVELOPE              1.358576     2188.794555    32725.000000     21030.000000        93.000000       21023.00000\n",
              "3     C2C     386410                     1.0                   0          2.95                     3                     5    37930     07087           19        6.57         1       0  PACKAGE_THICK_ENVELOPE              0.753275     1089.228112     4553.395931     60125.679263      3545.450529       58037.26973\n",
              "4     B2C       1750                     1.0                   0          0.00                     3                     5    85027     23322            1        6.75         1       0  PACKAGE_THICK_ENVELOPE              0.939410     2019.699107     2642.000000     51919.000000       401.000000       96091.00000"
            ]
          },
          "metadata": {},
          "execution_count": 28
        }
      ]
    },
    {
      "cell_type": "markdown",
      "source": [
        "#### Ordinal Encoding seller_id, item_zip, buyer_zip (Skip if using Catboost)"
      ],
      "metadata": {
        "id": "RT1EzUJcuU5G"
      }
    },
    {
      "cell_type": "code",
      "source": [
        "def ordinal_encoding(data):\n",
        "  objlist =['seller_id', 'item_zip', 'buyer_zip', 'category_id']\n",
        "  ord_enc = OrdinalEncoder()\n",
        "  data_str = data.loc[:,objlist]\n",
        "  data_ord = ord_enc.fit_transform(data_str)\n",
        "  del data_str\n",
        "  data_ord = pd.DataFrame(data_ord, columns=objlist)\n",
        "  data_ord = data_ord.astype(\"category\") # concat later\n",
        "  return data_ord"
      ],
      "metadata": {
        "id": "-SfbrLeXs9vU"
      },
      "execution_count": null,
      "outputs": []
    },
    {
      "cell_type": "code",
      "source": [
        "to_concat = ordinal_encoding(selected_features)"
      ],
      "metadata": {
        "id": "RE20Z0w1t-Fo"
      },
      "execution_count": null,
      "outputs": []
    },
    {
      "cell_type": "code",
      "source": [
        "selected_features = selected_features.drop(columns = ['seller_id', 'item_zip', 'buyer_zip', 'category_id'])\n",
        "selected_features.reset_index(drop=True, inplace=True)\n",
        "to_concat.reset_index(drop=True, inplace=True)\n",
        "selected_features = pd.concat([selected_features, to_concat], axis = 1)\n",
        "del to_concat"
      ],
      "metadata": {
        "id": "NGNODEy6uaIg"
      },
      "execution_count": null,
      "outputs": []
    },
    {
      "cell_type": "markdown",
      "source": [
        "#### Get Dummies b2c_c2c, package_size (Skip if using Catboost)"
      ],
      "metadata": {
        "id": "1RRaVpahwsHo"
      }
    },
    {
      "cell_type": "code",
      "source": [
        "selected_features = pd.get_dummies(data = selected_features, columns = ['b2c_c2c', 'package_size'])"
      ],
      "metadata": {
        "id": "rV-SnCVuvWre"
      },
      "execution_count": null,
      "outputs": []
    },
    {
      "cell_type": "markdown",
      "source": [
        "### Train-test Split"
      ],
      "metadata": {
        "id": "W15SJZiG7Seh"
      }
    },
    {
      "cell_type": "code",
      "source": [
        "from sklearn.preprocessing import scale \n",
        "from sklearn.model_selection import train_test_split\n",
        "from sklearn.linear_model import Ridge, RidgeCV, Lasso, LassoCV\n",
        "from sklearn.metrics import mean_squared_error\n",
        "from sklearn.metrics import mean_squared_error\n",
        "from sklearn.metrics import r2_score\n",
        "from sklearn.model_selection import RandomizedSearchCV"
      ],
      "metadata": {
        "id": "Ie9aWGbRyxRl"
      },
      "execution_count": 29,
      "outputs": []
    },
    {
      "cell_type": "code",
      "source": [
        "# Split data into training and test sets\n",
        "X_train, X_test , y_train, y_test = train_test_split(selected_features, y, test_size=0.2, random_state=1)"
      ],
      "metadata": {
        "id": "4-75jvlszMQu"
      },
      "execution_count": 30,
      "outputs": []
    },
    {
      "cell_type": "markdown",
      "source": [
        "### CatBoost"
      ],
      "metadata": {
        "id": "elELaXu07KAI"
      }
    },
    {
      "cell_type": "code",
      "source": [
        "!pip install catboost\n",
        "!pip install shap\n",
        "\n",
        "import catboost as cb\n",
        "import seaborn as sns\n",
        "import shap"
      ],
      "metadata": {
        "id": "2G0B15JxWkz_"
      },
      "execution_count": null,
      "outputs": []
    },
    {
      "cell_type": "code",
      "source": [
        "#  Identify columns with categorical features\n",
        "categorical_features_indices = [0, 1, 3, 7, 8, 9, 13]  \n",
        "\n",
        "# Model\n",
        "model = cb.CatBoostRegressor()\n",
        "model.fit(    \n",
        "     X_train,\n",
        "     y_train,\n",
        "     cat_features=categorical_features_indices,\n",
        "     eval_set=(X_test, y_test),\n",
        "     verbose=False,\n",
        "     plot=True\n",
        ")"
      ],
      "metadata": {
        "id": "I6i2fXHHHT_7",
        "colab": {
          "base_uri": "https://localhost:8080/",
          "referenced_widgets": [
            "d5b9dde045ad40b1a11e2551a65b01a1"
          ],
          "height": 35
        },
        "outputId": "0ca50cef-8e3e-4900-eef3-7ca14c7d4460"
      },
      "execution_count": null,
      "outputs": [
        {
          "output_type": "display_data",
          "data": {
            "application/vnd.jupyter.widget-view+json": {
              "model_id": "d5b9dde045ad40b1a11e2551a65b01a1",
              "version_minor": 0,
              "version_major": 2
            },
            "text/plain": [
              "MetricVisualizer(layout=Layout(align_self='stretch', height='500px'))"
            ]
          },
          "metadata": {}
        },
        {
          "output_type": "execute_result",
          "data": {
            "text/plain": [
              "<catboost.core.CatBoostRegressor at 0x7f1ba8762a50>"
            ]
          },
          "metadata": {},
          "execution_count": 30
        }
      ]
    },
    {
      "cell_type": "code",
      "source": [
        "pred = model.predict(X_test)\n",
        "rmse = (np.sqrt(mean_squared_error(y_test, pred)))\n",
        "r2 = r2_score(y_test, pred)\n",
        "print('Testing performance')\n",
        "print('RMSE: {:.2f}'.format(rmse))\n",
        "print('R2: {:.2f}'.format(r2))"
      ],
      "metadata": {
        "id": "VXRZbT8G9g0e",
        "colab": {
          "base_uri": "https://localhost:8080/"
        },
        "outputId": "c10927db-b856-4de9-d613-0293a2655cdb"
      },
      "execution_count": null,
      "outputs": [
        {
          "output_type": "stream",
          "name": "stdout",
          "text": [
            "Testing performance\n",
            "RMSE: 1.81\n",
            "R2: 0.66\n"
          ]
        }
      ]
    },
    {
      "cell_type": "markdown",
      "source": [
        "Loss Function: Calculate loss days (mean days deviating from the actual delivery date)"
      ],
      "metadata": {
        "id": "MIIBBOpmidHf"
      }
    },
    {
      "cell_type": "code",
      "source": [
        "print(mean_squared_error(y_test, pred))           # Calculate the test MSE\n",
        "diff = pd.Series(pred - y_test)\n",
        "abs_diff = pd.Series(abs(pred - y_test))\n",
        "diff_sign = diff.apply(lambda x: 1 if x > 0 else 0)\n",
        "diff_df = pd.DataFrame({'diff':diff, 'abs_diff':abs_diff, 'diff_sign':diff_sign})\n",
        "loss_days = (diff_df[diff_df['diff_sign'] == 1]['abs_diff'].sum() * 0.4 + diff_df[diff_df['diff_sign'] == 0]['abs_diff'].sum() * 0.6)/diff_df.shape[0]\n",
        "loss_days"
      ],
      "metadata": {
        "colab": {
          "base_uri": "https://localhost:8080/"
        },
        "id": "wuCpi9tEgFrB",
        "outputId": "cd269508-22ad-4941-bf5a-46fd637b6d24"
      },
      "execution_count": null,
      "outputs": [
        {
          "output_type": "stream",
          "name": "stdout",
          "text": [
            "3.2935522877882155\n"
          ]
        },
        {
          "output_type": "execute_result",
          "data": {
            "text/plain": [
              "0.47786233228228064"
            ]
          },
          "metadata": {},
          "execution_count": 32
        }
      ]
    },
    {
      "cell_type": "markdown",
      "source": [
        "### Ridge Model"
      ],
      "metadata": {
        "id": "a29RnGNSfMcC"
      }
    },
    {
      "cell_type": "code",
      "source": [
        "ridge = Ridge(alpha = 0)\n",
        "ridge.fit(X_train, y_train)\n",
        "pred = ridge.predict(X_test)\n",
        "print(pd.Series(ridge.coef_, index = selected_features.columns)) # Print coefficients\n",
        "print(mean_squared_error(y_test, pred))           # Calculate the test MSE"
      ],
      "metadata": {
        "id": "Z3dLsyOBzoZe"
      },
      "execution_count": null,
      "outputs": []
    },
    {
      "cell_type": "code",
      "source": [
        "rmse = (np.sqrt(mean_squared_error(y_test, pred)))\n",
        "r2 = r2_score(y_test, pred)\n",
        "print('Testing performance')\n",
        "print('RMSE: {:.2f}'.format(rmse))\n",
        "print('R2: {:.2f}'.format(r2))"
      ],
      "metadata": {
        "colab": {
          "base_uri": "https://localhost:8080/"
        },
        "id": "nddf6GAtgr-1",
        "outputId": "39c1b161-d0f5-402f-b9ee-03a4acbd44bf"
      },
      "execution_count": null,
      "outputs": [
        {
          "output_type": "stream",
          "name": "stdout",
          "text": [
            "Testing performance\n",
            "RMSE: 1.53\n",
            "R2: 0.75\n"
          ]
        }
      ]
    },
    {
      "cell_type": "markdown",
      "source": [
        "Loss Function: Calculate loss days (mean days deviating from the actual delivery date)"
      ],
      "metadata": {
        "id": "psbtE1Nqiwzf"
      }
    },
    {
      "cell_type": "code",
      "source": [
        "diff = pd.Series(pred - y_test)\n",
        "abs_diff = pd.Series(abs(pred - y_test))\n",
        "diff_sign = diff.apply(lambda x: 1 if x > 0 else 0)\n",
        "diff_df = pd.DataFrame({'diff':diff, 'abs_diff':abs_diff, 'diff_sign':diff_sign})\n",
        "loss_days = (diff_df[diff_df['diff_sign'] == 1]['abs_diff'].sum() * 0.4 + diff_df[diff_df['diff_sign'] == 0]['abs_diff'].sum() * 0.6)/diff_df.shape[0]\n",
        "loss_days"
      ],
      "metadata": {
        "colab": {
          "base_uri": "https://localhost:8080/"
        },
        "id": "mrNJRUjP1A8Y",
        "outputId": "e9890db2-c922-4592-86c0-cec6f1170000"
      },
      "execution_count": null,
      "outputs": [
        {
          "output_type": "execute_result",
          "data": {
            "text/plain": [
              "0.5068658448621424"
            ]
          },
          "metadata": {},
          "execution_count": 96
        }
      ]
    },
    {
      "cell_type": "markdown",
      "source": [
        "### Lasso Regression"
      ],
      "metadata": {
        "id": "obh9Q-nm1dLL"
      }
    },
    {
      "cell_type": "code",
      "source": [
        "lasso = Lasso(alpha = 1.0)\n",
        "lasso.fit(X_train, y_train)\n",
        "pred = lasso.predict(X_test)\n",
        "print(pd.Series(lasso.coef_, index = selected_features.columns)) # Print coefficients\n",
        "print(mean_squared_error(y_test, pred))           # Calculate the test MSE"
      ],
      "metadata": {
        "colab": {
          "base_uri": "https://localhost:8080/"
        },
        "id": "inJrLYkp_Y-c",
        "outputId": "af8764df-8990-4592-e351-1000297991aa"
      },
      "execution_count": null,
      "outputs": [
        {
          "output_type": "stream",
          "name": "stdout",
          "text": [
            "declared_handling_days                 0.000000e+00\n",
            "shipment_method_id                     0.000000e+00\n",
            "shipping_fee                          -0.000000e+00\n",
            "carrier_min_estimate                  -0.000000e+00\n",
            "carrier_max_estimate                   0.000000e+00\n",
            "item_price                            -3.142115e-04\n",
            "quantity                              -0.000000e+00\n",
            "weight                                 0.000000e+00\n",
            "actual_handling_days                   8.413625e-01\n",
            "estimated_dist                         3.202244e-04\n",
            "seller_id                              2.766089e-07\n",
            "item_zip                              -3.864859e-06\n",
            "buyer_zip                              3.128160e-06\n",
            "category_id                            0.000000e+00\n",
            "b2c_c2c_B2C                           -0.000000e+00\n",
            "b2c_c2c_C2C                            0.000000e+00\n",
            "package_size_LARGE_ENVELOPE           -0.000000e+00\n",
            "package_size_LARGE_PACKAGE             0.000000e+00\n",
            "package_size_LETTER                    0.000000e+00\n",
            "package_size_NONE                      0.000000e+00\n",
            "package_size_PACKAGE_THICK_ENVELOPE   -0.000000e+00\n",
            "dtype: float64\n",
            "2.678469679036311\n"
          ]
        }
      ]
    },
    {
      "cell_type": "code",
      "source": [
        "rmse = (np.sqrt(mean_squared_error(y_test, pred)))\n",
        "r2 = r2_score(y_test, pred)\n",
        "print('Testing performance')\n",
        "print('RMSE: {:.2f}'.format(rmse))\n",
        "print('R2: {:.2f}'.format(r2))"
      ],
      "metadata": {
        "colab": {
          "base_uri": "https://localhost:8080/"
        },
        "id": "oeUYArw_gwvG",
        "outputId": "b8bb1a55-9b29-440a-f6cb-92b10054a66b"
      },
      "execution_count": null,
      "outputs": [
        {
          "output_type": "stream",
          "name": "stdout",
          "text": [
            "Testing performance\n",
            "RMSE: 1.64\n",
            "R2: 0.72\n"
          ]
        }
      ]
    },
    {
      "cell_type": "code",
      "source": [
        "diff = pd.Series(pred - y_test)\n",
        "abs_diff = pd.Series(abs(pred - y_test))\n",
        "diff_sign = diff.apply(lambda x: 1 if x > 0 else 0)\n",
        "diff_df = pd.DataFrame({'diff':diff, 'abs_diff':abs_diff, 'diff_sign':diff_sign})\n",
        "loss_days = (diff_df[diff_df['diff_sign'] == 1]['abs_diff'].sum() * 0.4 + diff_df[diff_df['diff_sign'] == 0]['abs_diff'].sum() * 0.6)/diff_df.shape[0]\n",
        "loss_days"
      ],
      "metadata": {
        "colab": {
          "base_uri": "https://localhost:8080/"
        },
        "id": "y4qMvRk4_qDi",
        "outputId": "71a0cbb6-7c70-4928-f2e2-75592b0e7a2b"
      },
      "execution_count": null,
      "outputs": [
        {
          "output_type": "execute_result",
          "data": {
            "text/plain": [
              "0.5421684700958057"
            ]
          },
          "metadata": {},
          "execution_count": 55
        }
      ]
    },
    {
      "cell_type": "markdown",
      "source": [
        "### Random Forest Regressor"
      ],
      "metadata": {
        "id": "tfLwrR_21aAq"
      }
    },
    {
      "cell_type": "code",
      "source": [
        "# Fitting Random Forest Regression to the dataset\n",
        "# import the regressor\n",
        "from sklearn.ensemble import RandomForestRegressor\n",
        " # create regressor object\n",
        "regressor = RandomForestRegressor(n_estimators = 100, random_state = 0)\n",
        "# fit the regressor with x and y data\n",
        "regressor.fit(X_train, y_train)\n",
        "pred = ridge.predict(X_test)"
      ],
      "metadata": {
        "id": "4xAO0B4Zz8Ml"
      },
      "execution_count": null,
      "outputs": []
    },
    {
      "cell_type": "code",
      "source": [
        "print(mean_squared_error(y_test, pred))           # Calculate the test MSE\n",
        "diff = pd.Series(pred - y_test)\n",
        "abs_diff = pd.Series(abs(pred - y_test))\n",
        "diff_sign = diff.apply(lambda x: 1 if x > 0 else 0)\n",
        "diff_df = pd.DataFrame({'diff':diff, 'abs_diff':abs_diff, 'diff_sign':diff_sign})\n",
        "loss_days = (diff_df[diff_df['diff_sign'] == 1]['abs_diff'].sum() * 0.4 + diff_df[diff_df['diff_sign'] == 0]['abs_diff'].sum() * 0.6)/diff_df.shape[0]\n",
        "loss_days"
      ],
      "metadata": {
        "colab": {
          "base_uri": "https://localhost:8080/"
        },
        "id": "_mwyfi1e1VBZ",
        "outputId": "621f6025-f268-4b9c-f4df-4b7fb66ff1db"
      },
      "execution_count": null,
      "outputs": [
        {
          "output_type": "stream",
          "name": "stdout",
          "text": [
            "2.27122067965516\n"
          ]
        },
        {
          "output_type": "execute_result",
          "data": {
            "text/plain": [
              "0.5041624090751999"
            ]
          },
          "metadata": {},
          "execution_count": 79
        }
      ]
    },
    {
      "cell_type": "markdown",
      "source": [
        "### LGBM Regressor"
      ],
      "metadata": {
        "id": "mLQ7Xkpf1xO6"
      }
    },
    {
      "cell_type": "code",
      "source": [
        "import lightgbm as lgb"
      ],
      "metadata": {
        "id": "tlrJ8Z0E1wrK"
      },
      "execution_count": null,
      "outputs": []
    },
    {
      "cell_type": "code",
      "source": [
        "hyper_params = {\n",
        "    'task': 'train',\n",
        "    'boosting_type': 'gbdt',\n",
        "    'objective': 'regression',\n",
        "    'metric': ['l1','l2'],\n",
        "    'learning_rate': 0.05,\n",
        "    \"max_depth\": 8,\n",
        "    \"num_leaves\": 128,  \n",
        "    \"n_estimators\": 500\n",
        "}"
      ],
      "metadata": {
        "id": "HDA3DErX2UrP"
      },
      "execution_count": null,
      "outputs": []
    },
    {
      "cell_type": "code",
      "source": [
        "gbm = lgb.LGBMRegressor(**hyper_params)\n",
        "gbm.fit(X_train, y_train)"
      ],
      "metadata": {
        "colab": {
          "base_uri": "https://localhost:8080/"
        },
        "id": "UUU2P4qW2vXQ",
        "outputId": "bbc76105-2b0f-40fc-da14-0ed979a2a7ad"
      },
      "execution_count": null,
      "outputs": [
        {
          "output_type": "execute_result",
          "data": {
            "text/plain": [
              "LGBMRegressor(learning_rate=0.05, max_depth=8, metric=['l1', 'l2'],\n",
              "              n_estimators=500, num_leaves=128, objective='regression',\n",
              "              task='train')"
            ]
          },
          "metadata": {},
          "execution_count": 58
        }
      ]
    },
    {
      "cell_type": "code",
      "source": [
        "rmse = (np.sqrt(mean_squared_error(y_test, pred)))\n",
        "r2 = r2_score(y_test, pred)\n",
        "print('Testing performance')\n",
        "print('RMSE: {:.2f}'.format(rmse))\n",
        "print('R2: {:.2f}'.format(r2))"
      ],
      "metadata": {
        "colab": {
          "base_uri": "https://localhost:8080/"
        },
        "id": "FQr9HMO8g1jx",
        "outputId": "700875ef-dd87-4596-a2d7-e67366225f88"
      },
      "execution_count": null,
      "outputs": [
        {
          "output_type": "stream",
          "name": "stdout",
          "text": [
            "Testing performance\n",
            "RMSE: 1.64\n",
            "R2: 0.70\n"
          ]
        }
      ]
    },
    {
      "cell_type": "code",
      "source": [
        "pred = gbm.predict(X_test)\n",
        "print(mean_squared_error(y_test, pred))           # Calculate the test MSE\n",
        "diff = pd.Series(pred - y_test)\n",
        "abs_diff = pd.Series(abs(pred - y_test))\n",
        "diff_sign = diff.apply(lambda x: 1 if x > 0 else 0)\n",
        "diff_df = pd.DataFrame({'diff':diff, 'abs_diff':abs_diff, 'diff_sign':diff_sign})\n",
        "loss_days = (diff_df[diff_df['diff_sign'] == 1]['abs_diff'].sum() * 0.4 + diff_df[diff_df['diff_sign'] == 0]['abs_diff'].sum() * 0.6)/diff_df.shape[0]\n",
        "loss_days"
      ],
      "metadata": {
        "colab": {
          "base_uri": "https://localhost:8080/"
        },
        "id": "GPlO4xsz3H1P",
        "outputId": "7b4720d8-eb55-40dc-d2c5-229f1dce9f49"
      },
      "execution_count": null,
      "outputs": [
        {
          "output_type": "stream",
          "name": "stdout",
          "text": [
            "3.6071412165750867\n"
          ]
        },
        {
          "output_type": "execute_result",
          "data": {
            "text/plain": [
              "0.5056834572521587"
            ]
          },
          "metadata": {},
          "execution_count": 60
        }
      ]
    },
    {
      "cell_type": "markdown",
      "source": [
        "### Gradient Boosting Regression"
      ],
      "metadata": {
        "id": "rI4Udsel4q7i"
      }
    },
    {
      "cell_type": "code",
      "source": [
        "from sklearn.ensemble import GradientBoostingRegressor"
      ],
      "metadata": {
        "id": "ttsBUdLQ4qI-"
      },
      "execution_count": null,
      "outputs": []
    },
    {
      "cell_type": "code",
      "source": [
        "gbr_params = {'n_estimators': 500,\n",
        "          'max_depth': 3,\n",
        "          'min_samples_split': 5,\n",
        "          'learning_rate': 0.05}\n",
        "\n",
        "# Create an instance of gradient boosting regressor\n",
        "\n",
        "gbr = GradientBoostingRegressor(**gbr_params)\n",
        "\n",
        "# Fit the model\n",
        "gbr.fit(X_train, y_train)"
      ],
      "metadata": {
        "colab": {
          "base_uri": "https://localhost:8080/"
        },
        "id": "SLI5UAVJ407r",
        "outputId": "a4b95827-6f64-4e98-b666-c67fd554c936"
      },
      "execution_count": null,
      "outputs": [
        {
          "output_type": "execute_result",
          "data": {
            "text/plain": [
              "GradientBoostingRegressor(learning_rate=0.05, min_samples_split=5,\n",
              "                          n_estimators=500)"
            ]
          },
          "metadata": {},
          "execution_count": 34
        }
      ]
    },
    {
      "cell_type": "code",
      "source": [
        "pred = gbr.predict(X_test)"
      ],
      "metadata": {
        "id": "i2n21lUDKu60"
      },
      "execution_count": null,
      "outputs": []
    },
    {
      "cell_type": "code",
      "source": [
        "print(mean_squared_error(y_test, pred))           # Calculate the test MSE\n",
        "diff = pd.Series(pred - y_test)\n",
        "abs_diff = pd.Series(abs(pred - y_test))\n",
        "diff_sign = diff.apply(lambda x: 1 if x > 0 else 0)\n",
        "diff_df = pd.DataFrame({'diff':diff, 'abs_diff':abs_diff, 'diff_sign':diff_sign})\n",
        "loss_days = (diff_df[diff_df['diff_sign'] == 1]['abs_diff'].sum() * 0.4 + diff_df[diff_df['diff_sign'] == 0]['abs_diff'].sum() * 0.6)/diff_df.shape[0]\n",
        "loss_days"
      ],
      "metadata": {
        "colab": {
          "base_uri": "https://localhost:8080/"
        },
        "id": "1NZjwQb95Cdp",
        "outputId": "27610eb1-d120-409c-b5f9-e2c028cebb47"
      },
      "execution_count": null,
      "outputs": [
        {
          "output_type": "stream",
          "name": "stdout",
          "text": [
            "2.085137810023019\n"
          ]
        },
        {
          "output_type": "execute_result",
          "data": {
            "text/plain": [
              "0.46922773206721935"
            ]
          },
          "metadata": {},
          "execution_count": 36
        }
      ]
    },
    {
      "cell_type": "markdown",
      "source": [
        "### After experimenting with different regression models <br>We choose Catboost and Ridge models to experiment on quiz dataset to see the actual loss days."
      ],
      "metadata": {
        "id": "bvpnl_P2i43a"
      }
    },
    {
      "cell_type": "markdown",
      "source": [
        "### Read quiz test set"
      ],
      "metadata": {
        "id": "r9QCYQEE6XFr"
      }
    },
    {
      "cell_type": "code",
      "source": [
        "quiz = pd.read_csv(\"/content/drive/Shareddrives/eBay/quiz.tsv\",sep = \"\\t\")"
      ],
      "metadata": {
        "id": "3su6eDFi6ONs"
      },
      "execution_count": null,
      "outputs": []
    },
    {
      "cell_type": "code",
      "source": [
        "quiz = fill_na(quiz)\n",
        "print(quiz.shape)"
      ],
      "metadata": {
        "id": "QHj28yvg8cqN",
        "colab": {
          "base_uri": "https://localhost:8080/"
        },
        "outputId": "a4f39466-70b5-4ffd-a320-b76810b466a3"
      },
      "execution_count": null,
      "outputs": [
        {
          "output_type": "stream",
          "name": "stdout",
          "text": [
            "(2500000, 19)\n"
          ]
        }
      ]
    },
    {
      "cell_type": "markdown",
      "source": [
        "### Data cleaning"
      ],
      "metadata": {
        "id": "_YrjKA-Hjp2i"
      }
    },
    {
      "cell_type": "code",
      "source": [
        "quiz = tidy_zip(quiz, 'item_zip')\n",
        "quiz = tidy_zip(quiz, 'buyer_zip')\n",
        "quiz = quiz.reset_index().drop(columns = 'index')\n",
        "print(quiz.shape)"
      ],
      "metadata": {
        "id": "5cD-ZPN78LyU"
      },
      "execution_count": null,
      "outputs": []
    },
    {
      "cell_type": "code",
      "source": [
        "quiz = calculate_actual_handling_days(quiz)\n",
        "print(quiz.shape)"
      ],
      "metadata": {
        "colab": {
          "base_uri": "https://localhost:8080/"
        },
        "id": "RKPswQ-N8gDU",
        "outputId": "6549edcc-bfd2-4228-9927-5ded2c2c769e"
      },
      "execution_count": null,
      "outputs": [
        {
          "output_type": "stream",
          "name": "stdout",
          "text": [
            "(2500000, 23)\n"
          ]
        }
      ]
    },
    {
      "cell_type": "markdown",
      "source": [
        "### Sync time zones"
      ],
      "metadata": {
        "id": "JTHhJBkWjwOA"
      }
    },
    {
      "cell_type": "code",
      "source": [
        "quiz = quiz.merge(uszip[['zipcode','state']], left_on = 'buyer_zip', right_on = 'zipcode', how = 'left')"
      ],
      "metadata": {
        "id": "NpIlTTC6-Yf9"
      },
      "execution_count": null,
      "outputs": []
    },
    {
      "cell_type": "code",
      "source": [
        "quiz['buyer_time_zone'] = quiz['state'].apply(lambda x: get_time_zone(x))\n",
        "quiz['buyer_time_zone'] = quiz['buyer_time_zone'].fillna('US/Central')\n",
        "\n",
        "# Since the delivery date is in the local timezone of the buyer, and only specify to days\n",
        "# So convert payment_datetime and acceptance_scan_timestamp to buyer timezone\n",
        "# Thus, the delivery total time can be calculated\n",
        "quiz = convert_to_buyer_tz(quiz, 'payment_datetime_utc', 'US/Pacific')\n",
        "quiz = convert_to_buyer_tz(quiz, 'payment_datetime_utc', 'US/Mountain')\n",
        "quiz = convert_to_buyer_tz(quiz, 'payment_datetime_utc', 'US/Central')\n",
        "quiz = convert_to_buyer_tz(quiz, 'payment_datetime_utc', 'US/Eastern')\n",
        "quiz = convert_to_buyer_tz(quiz, 'payment_datetime_utc', 'US/Alaska')\n",
        "quiz = convert_to_buyer_tz(quiz, 'payment_datetime_utc', 'US/Hawaii')\n",
        "\n",
        "quiz = convert_to_buyer_tz(quiz, 'acceptance_scan_timestamp_utc', 'US/Pacific')\n",
        "quiz = convert_to_buyer_tz(quiz, 'acceptance_scan_timestamp_utc', 'US/Mountain')\n",
        "quiz = convert_to_buyer_tz(quiz, 'acceptance_scan_timestamp_utc', 'US/Central')\n",
        "quiz = convert_to_buyer_tz(quiz, 'acceptance_scan_timestamp_utc', 'US/Eastern')\n",
        "quiz = convert_to_buyer_tz(quiz, 'acceptance_scan_timestamp_utc', 'US/Alaska')\n",
        "quiz = convert_to_buyer_tz(quiz, 'acceptance_scan_timestamp_utc', 'US/Hawaii')\n",
        "quiz.shape"
      ],
      "metadata": {
        "id": "mjDxWt7x-6-T",
        "colab": {
          "base_uri": "https://localhost:8080/"
        },
        "outputId": "7571ee6c-c684-4b59-85d2-2463c7547022"
      },
      "execution_count": null,
      "outputs": [
        {
          "output_type": "execute_result",
          "data": {
            "text/plain": [
              "(2500000, 28)"
            ]
          },
          "metadata": {},
          "execution_count": 40
        }
      ]
    },
    {
      "cell_type": "code",
      "source": [
        "def sync_time_quiz(data): \n",
        "  # Remove timezone information to ensure same time format\n",
        "  data['payment_datetime_buyer_no_tz'] = data['payment_datetime_buyer'].apply(lambda x:x.replace(tzinfo = None))\n",
        "  data['acceptance_scan_timestamp_buyer_no_tz'] = data['acceptance_scan_timestamp_buyer'].apply(lambda x:x.replace(tzinfo = None))\n",
        "  return data"
      ],
      "metadata": {
        "id": "HO8_cUkWe-Tj"
      },
      "execution_count": null,
      "outputs": []
    },
    {
      "cell_type": "code",
      "source": [
        "quiz = sync_time_quiz(quiz)\n",
        "quiz.shape"
      ],
      "metadata": {
        "colab": {
          "base_uri": "https://localhost:8080/"
        },
        "id": "EHOzDxjlc7Me",
        "outputId": "aa5e0fe6-6f28-40f4-f527-a4b5ef3135a8"
      },
      "execution_count": null,
      "outputs": [
        {
          "output_type": "execute_result",
          "data": {
            "text/plain": [
              "(2500000, 30)"
            ]
          },
          "metadata": {},
          "execution_count": 42
        }
      ]
    },
    {
      "cell_type": "markdown",
      "source": [
        "### Feature engineering: add new features: estimated distance, population and income"
      ],
      "metadata": {
        "id": "wpzf8HcUj2rs"
      }
    },
    {
      "cell_type": "code",
      "source": [
        "quiz = map_coordinates(quiz) \n",
        "quiz.shape"
      ],
      "metadata": {
        "colab": {
          "base_uri": "https://localhost:8080/"
        },
        "id": "wnJ7MQ8EMJa-",
        "outputId": "4afd2105-8400-49e2-9ea2-ba2d154da7e3"
      },
      "execution_count": null,
      "outputs": [
        {
          "output_type": "execute_result",
          "data": {
            "text/plain": [
              "(2500000, 38)"
            ]
          },
          "metadata": {},
          "execution_count": 43
        }
      ]
    },
    {
      "cell_type": "code",
      "source": [
        "quiz['estimated_dist'] = itertuples_impl(quiz)\n",
        "quiz['estimated_dist'] = quiz['estimated_dist'].fillna(quiz['estimated_dist'].mean())"
      ],
      "metadata": {
        "id": "xbI6KnxjMNkf"
      },
      "execution_count": null,
      "outputs": []
    },
    {
      "cell_type": "code",
      "source": [
        "selected_features_quiz = quiz[['b2c_c2c', 'seller_id', 'declared_handling_days','shipment_method_id', 'shipping_fee',\n",
        "       'carrier_min_estimate', 'carrier_max_estimate', 'item_zip', 'buyer_zip','category_id', 'item_price', 'quantity','weight',\n",
        "       'package_size','actual_handling_days','estimated_dist','popu_dens_item', 'med_income_item', 'popu_dens_buyer', 'med_income_buyer']]"
      ],
      "metadata": {
        "id": "m7JX9nxoeyHO"
      },
      "execution_count": null,
      "outputs": []
    },
    {
      "cell_type": "markdown",
      "source": [
        "#### Encoding Part (Skip if using Catboost)"
      ],
      "metadata": {
        "id": "8Y90r-9RqTyt"
      }
    },
    {
      "cell_type": "code",
      "source": [
        "to_concat = ordinal_encoding(selected_features_quiz)"
      ],
      "metadata": {
        "id": "8uyj1fiXgpT5"
      },
      "execution_count": null,
      "outputs": []
    },
    {
      "cell_type": "code",
      "source": [
        "selected_features_quiz = selected_features_quiz.drop(columns = ['seller_id', 'item_zip', 'buyer_zip', 'category_id'])\n",
        "selected_features_quiz.reset_index(drop=True, inplace=True)\n",
        "to_concat.reset_index(drop=True, inplace=True)\n",
        "selected_features_quiz = pd.concat([selected_features_quiz, to_concat], axis = 1)\n",
        "del to_concat"
      ],
      "metadata": {
        "id": "1V88rJGrgw6R"
      },
      "execution_count": null,
      "outputs": []
    },
    {
      "cell_type": "code",
      "source": [
        "selected_features_quiz = pd.get_dummies(data = selected_features_quiz, columns = ['b2c_c2c', 'package_size'])"
      ],
      "metadata": {
        "id": "QTv0ZQKwg5nY"
      },
      "execution_count": null,
      "outputs": []
    },
    {
      "cell_type": "markdown",
      "source": [
        "#### Predict on quiz set"
      ],
      "metadata": {
        "id": "6WXwGT_eqYmU"
      }
    },
    {
      "cell_type": "code",
      "source": [
        "predicted_delivery_days = list(ridge.predict(selected_features_quiz))"
      ],
      "metadata": {
        "id": "JfanR1QJhWhk"
      },
      "execution_count": null,
      "outputs": []
    },
    {
      "cell_type": "code",
      "source": [
        "predicted_delivery_days = pd.Series(model.predict(selected_features_quiz))"
      ],
      "metadata": {
        "id": "NCXM1vmictR9"
      },
      "execution_count": null,
      "outputs": []
    },
    {
      "cell_type": "code",
      "source": [
        "quiz['predicted days'] = pd.to_timedelta(predicted_delivery_days,'d')\n",
        "quiz['delivery_date'] = quiz['payment_datetime_buyer_no_tz'] + quiz['predicted days']\n",
        "quiz['delivery_date'] = quiz['delivery_date'].dt.strftime('%Y-%m-%d')"
      ],
      "metadata": {
        "id": "KzTOiZYhqomN"
      },
      "execution_count": null,
      "outputs": []
    },
    {
      "cell_type": "code",
      "source": [
        "result = quiz[['record_number','delivery_date']]\n",
        "result = result.rename(columns = {'record_number':'record identifier','delivery_date':'predicted delivery date'})\n",
        "result"
      ],
      "metadata": {
        "colab": {
          "base_uri": "https://localhost:8080/",
          "height": 418
        },
        "id": "l1IwDQaxqWAr",
        "outputId": "ee6cfc25-ecc1-4bcd-824e-83a5c9070f6f"
      },
      "execution_count": null,
      "outputs": [
        {
          "output_type": "execute_result",
          "data": {
            "text/html": [
              "\n",
              "  <div id=\"df-330fe9d5-b7e0-4fc4-bcfb-7de705ac6f2d\">\n",
              "    <div class=\"colab-df-container\">\n",
              "      <div>\n",
              "<style scoped>\n",
              "    .dataframe tbody tr th:only-of-type {\n",
              "        vertical-align: middle;\n",
              "    }\n",
              "\n",
              "    .dataframe tbody tr th {\n",
              "        vertical-align: top;\n",
              "    }\n",
              "\n",
              "    .dataframe thead th {\n",
              "        text-align: right;\n",
              "    }\n",
              "</style>\n",
              "<table border=\"1\" class=\"dataframe\">\n",
              "  <thead>\n",
              "    <tr style=\"text-align: right;\">\n",
              "      <th></th>\n",
              "      <th>record identifier</th>\n",
              "      <th>predicted delivery date</th>\n",
              "    </tr>\n",
              "  </thead>\n",
              "  <tbody>\n",
              "    <tr>\n",
              "      <th>0</th>\n",
              "      <td>15000001</td>\n",
              "      <td>2019-11-18</td>\n",
              "    </tr>\n",
              "    <tr>\n",
              "      <th>1</th>\n",
              "      <td>15000002</td>\n",
              "      <td>2019-12-01</td>\n",
              "    </tr>\n",
              "    <tr>\n",
              "      <th>2</th>\n",
              "      <td>15000003</td>\n",
              "      <td>2019-12-06</td>\n",
              "    </tr>\n",
              "    <tr>\n",
              "      <th>3</th>\n",
              "      <td>15000004</td>\n",
              "      <td>2019-12-17</td>\n",
              "    </tr>\n",
              "    <tr>\n",
              "      <th>4</th>\n",
              "      <td>15000005</td>\n",
              "      <td>2019-12-22</td>\n",
              "    </tr>\n",
              "    <tr>\n",
              "      <th>...</th>\n",
              "      <td>...</td>\n",
              "      <td>...</td>\n",
              "    </tr>\n",
              "    <tr>\n",
              "      <th>2499995</th>\n",
              "      <td>17499996</td>\n",
              "      <td>2019-12-23</td>\n",
              "    </tr>\n",
              "    <tr>\n",
              "      <th>2499996</th>\n",
              "      <td>17499997</td>\n",
              "      <td>2019-12-09</td>\n",
              "    </tr>\n",
              "    <tr>\n",
              "      <th>2499997</th>\n",
              "      <td>17499998</td>\n",
              "      <td>2019-12-08</td>\n",
              "    </tr>\n",
              "    <tr>\n",
              "      <th>2499998</th>\n",
              "      <td>17499999</td>\n",
              "      <td>2019-12-13</td>\n",
              "    </tr>\n",
              "    <tr>\n",
              "      <th>2499999</th>\n",
              "      <td>17500000</td>\n",
              "      <td>2019-12-20</td>\n",
              "    </tr>\n",
              "  </tbody>\n",
              "</table>\n",
              "<p>2500000 rows × 2 columns</p>\n",
              "</div>\n",
              "      <button class=\"colab-df-convert\" onclick=\"convertToInteractive('df-330fe9d5-b7e0-4fc4-bcfb-7de705ac6f2d')\"\n",
              "              title=\"Convert this dataframe to an interactive table.\"\n",
              "              style=\"display:none;\">\n",
              "        \n",
              "  <svg xmlns=\"http://www.w3.org/2000/svg\" height=\"24px\"viewBox=\"0 0 24 24\"\n",
              "       width=\"24px\">\n",
              "    <path d=\"M0 0h24v24H0V0z\" fill=\"none\"/>\n",
              "    <path d=\"M18.56 5.44l.94 2.06.94-2.06 2.06-.94-2.06-.94-.94-2.06-.94 2.06-2.06.94zm-11 1L8.5 8.5l.94-2.06 2.06-.94-2.06-.94L8.5 2.5l-.94 2.06-2.06.94zm10 10l.94 2.06.94-2.06 2.06-.94-2.06-.94-.94-2.06-.94 2.06-2.06.94z\"/><path d=\"M17.41 7.96l-1.37-1.37c-.4-.4-.92-.59-1.43-.59-.52 0-1.04.2-1.43.59L10.3 9.45l-7.72 7.72c-.78.78-.78 2.05 0 2.83L4 21.41c.39.39.9.59 1.41.59.51 0 1.02-.2 1.41-.59l7.78-7.78 2.81-2.81c.8-.78.8-2.07 0-2.86zM5.41 20L4 18.59l7.72-7.72 1.47 1.35L5.41 20z\"/>\n",
              "  </svg>\n",
              "      </button>\n",
              "      \n",
              "  <style>\n",
              "    .colab-df-container {\n",
              "      display:flex;\n",
              "      flex-wrap:wrap;\n",
              "      gap: 12px;\n",
              "    }\n",
              "\n",
              "    .colab-df-convert {\n",
              "      background-color: #E8F0FE;\n",
              "      border: none;\n",
              "      border-radius: 50%;\n",
              "      cursor: pointer;\n",
              "      display: none;\n",
              "      fill: #1967D2;\n",
              "      height: 32px;\n",
              "      padding: 0 0 0 0;\n",
              "      width: 32px;\n",
              "    }\n",
              "\n",
              "    .colab-df-convert:hover {\n",
              "      background-color: #E2EBFA;\n",
              "      box-shadow: 0px 1px 2px rgba(60, 64, 67, 0.3), 0px 1px 3px 1px rgba(60, 64, 67, 0.15);\n",
              "      fill: #174EA6;\n",
              "    }\n",
              "\n",
              "    [theme=dark] .colab-df-convert {\n",
              "      background-color: #3B4455;\n",
              "      fill: #D2E3FC;\n",
              "    }\n",
              "\n",
              "    [theme=dark] .colab-df-convert:hover {\n",
              "      background-color: #434B5C;\n",
              "      box-shadow: 0px 1px 3px 1px rgba(0, 0, 0, 0.15);\n",
              "      filter: drop-shadow(0px 1px 2px rgba(0, 0, 0, 0.3));\n",
              "      fill: #FFFFFF;\n",
              "    }\n",
              "  </style>\n",
              "\n",
              "      <script>\n",
              "        const buttonEl =\n",
              "          document.querySelector('#df-330fe9d5-b7e0-4fc4-bcfb-7de705ac6f2d button.colab-df-convert');\n",
              "        buttonEl.style.display =\n",
              "          google.colab.kernel.accessAllowed ? 'block' : 'none';\n",
              "\n",
              "        async function convertToInteractive(key) {\n",
              "          const element = document.querySelector('#df-330fe9d5-b7e0-4fc4-bcfb-7de705ac6f2d');\n",
              "          const dataTable =\n",
              "            await google.colab.kernel.invokeFunction('convertToInteractive',\n",
              "                                                     [key], {});\n",
              "          if (!dataTable) return;\n",
              "\n",
              "          const docLinkHtml = 'Like what you see? Visit the ' +\n",
              "            '<a target=\"_blank\" href=https://colab.research.google.com/notebooks/data_table.ipynb>data table notebook</a>'\n",
              "            + ' to learn more about interactive tables.';\n",
              "          element.innerHTML = '';\n",
              "          dataTable['output_type'] = 'display_data';\n",
              "          await google.colab.output.renderOutput(dataTable, element);\n",
              "          const docLink = document.createElement('div');\n",
              "          docLink.innerHTML = docLinkHtml;\n",
              "          element.appendChild(docLink);\n",
              "        }\n",
              "      </script>\n",
              "    </div>\n",
              "  </div>\n",
              "  "
            ],
            "text/plain": [
              "         record identifier predicted delivery date\n",
              "0                 15000001              2019-11-18\n",
              "1                 15000002              2019-12-01\n",
              "2                 15000003              2019-12-06\n",
              "3                 15000004              2019-12-17\n",
              "4                 15000005              2019-12-22\n",
              "...                    ...                     ...\n",
              "2499995           17499996              2019-12-23\n",
              "2499996           17499997              2019-12-09\n",
              "2499997           17499998              2019-12-08\n",
              "2499998           17499999              2019-12-13\n",
              "2499999           17500000              2019-12-20\n",
              "\n",
              "[2500000 rows x 2 columns]"
            ]
          },
          "metadata": {},
          "execution_count": 49
        }
      ]
    },
    {
      "cell_type": "code",
      "source": [
        "result.to_csv(\"/content/drive/Shareddrives/eBay/result_0102.tsv\", sep = '\\t',index=False, header = False)"
      ],
      "metadata": {
        "id": "VqiHkY6XuGan"
      },
      "execution_count": null,
      "outputs": []
    },
    {
      "cell_type": "code",
      "source": [
        "test = pd.read_csv(\"/content/drive/Shareddrives/eBay/result_0102.tsv\",sep = \"\\t\")\n",
        "test"
      ],
      "metadata": {
        "id": "z17jPx_kybz-",
        "colab": {
          "base_uri": "https://localhost:8080/",
          "height": 418
        },
        "outputId": "7a9e186e-4d0d-4a10-9315-e8232ca20d0d"
      },
      "execution_count": null,
      "outputs": [
        {
          "output_type": "execute_result",
          "data": {
            "text/html": [
              "\n",
              "  <div id=\"df-0f27ebfd-9072-42e0-b2db-921ad09fb7b3\">\n",
              "    <div class=\"colab-df-container\">\n",
              "      <div>\n",
              "<style scoped>\n",
              "    .dataframe tbody tr th:only-of-type {\n",
              "        vertical-align: middle;\n",
              "    }\n",
              "\n",
              "    .dataframe tbody tr th {\n",
              "        vertical-align: top;\n",
              "    }\n",
              "\n",
              "    .dataframe thead th {\n",
              "        text-align: right;\n",
              "    }\n",
              "</style>\n",
              "<table border=\"1\" class=\"dataframe\">\n",
              "  <thead>\n",
              "    <tr style=\"text-align: right;\">\n",
              "      <th></th>\n",
              "      <th>15000001</th>\n",
              "      <th>2019-11-18</th>\n",
              "    </tr>\n",
              "  </thead>\n",
              "  <tbody>\n",
              "    <tr>\n",
              "      <th>0</th>\n",
              "      <td>15000002</td>\n",
              "      <td>2019-12-01</td>\n",
              "    </tr>\n",
              "    <tr>\n",
              "      <th>1</th>\n",
              "      <td>15000003</td>\n",
              "      <td>2019-12-06</td>\n",
              "    </tr>\n",
              "    <tr>\n",
              "      <th>2</th>\n",
              "      <td>15000004</td>\n",
              "      <td>2019-12-17</td>\n",
              "    </tr>\n",
              "    <tr>\n",
              "      <th>3</th>\n",
              "      <td>15000005</td>\n",
              "      <td>2019-12-22</td>\n",
              "    </tr>\n",
              "    <tr>\n",
              "      <th>4</th>\n",
              "      <td>15000006</td>\n",
              "      <td>2019-12-02</td>\n",
              "    </tr>\n",
              "    <tr>\n",
              "      <th>...</th>\n",
              "      <td>...</td>\n",
              "      <td>...</td>\n",
              "    </tr>\n",
              "    <tr>\n",
              "      <th>2499994</th>\n",
              "      <td>17499996</td>\n",
              "      <td>2019-12-23</td>\n",
              "    </tr>\n",
              "    <tr>\n",
              "      <th>2499995</th>\n",
              "      <td>17499997</td>\n",
              "      <td>2019-12-09</td>\n",
              "    </tr>\n",
              "    <tr>\n",
              "      <th>2499996</th>\n",
              "      <td>17499998</td>\n",
              "      <td>2019-12-08</td>\n",
              "    </tr>\n",
              "    <tr>\n",
              "      <th>2499997</th>\n",
              "      <td>17499999</td>\n",
              "      <td>2019-12-13</td>\n",
              "    </tr>\n",
              "    <tr>\n",
              "      <th>2499998</th>\n",
              "      <td>17500000</td>\n",
              "      <td>2019-12-20</td>\n",
              "    </tr>\n",
              "  </tbody>\n",
              "</table>\n",
              "<p>2499999 rows × 2 columns</p>\n",
              "</div>\n",
              "      <button class=\"colab-df-convert\" onclick=\"convertToInteractive('df-0f27ebfd-9072-42e0-b2db-921ad09fb7b3')\"\n",
              "              title=\"Convert this dataframe to an interactive table.\"\n",
              "              style=\"display:none;\">\n",
              "        \n",
              "  <svg xmlns=\"http://www.w3.org/2000/svg\" height=\"24px\"viewBox=\"0 0 24 24\"\n",
              "       width=\"24px\">\n",
              "    <path d=\"M0 0h24v24H0V0z\" fill=\"none\"/>\n",
              "    <path d=\"M18.56 5.44l.94 2.06.94-2.06 2.06-.94-2.06-.94-.94-2.06-.94 2.06-2.06.94zm-11 1L8.5 8.5l.94-2.06 2.06-.94-2.06-.94L8.5 2.5l-.94 2.06-2.06.94zm10 10l.94 2.06.94-2.06 2.06-.94-2.06-.94-.94-2.06-.94 2.06-2.06.94z\"/><path d=\"M17.41 7.96l-1.37-1.37c-.4-.4-.92-.59-1.43-.59-.52 0-1.04.2-1.43.59L10.3 9.45l-7.72 7.72c-.78.78-.78 2.05 0 2.83L4 21.41c.39.39.9.59 1.41.59.51 0 1.02-.2 1.41-.59l7.78-7.78 2.81-2.81c.8-.78.8-2.07 0-2.86zM5.41 20L4 18.59l7.72-7.72 1.47 1.35L5.41 20z\"/>\n",
              "  </svg>\n",
              "      </button>\n",
              "      \n",
              "  <style>\n",
              "    .colab-df-container {\n",
              "      display:flex;\n",
              "      flex-wrap:wrap;\n",
              "      gap: 12px;\n",
              "    }\n",
              "\n",
              "    .colab-df-convert {\n",
              "      background-color: #E8F0FE;\n",
              "      border: none;\n",
              "      border-radius: 50%;\n",
              "      cursor: pointer;\n",
              "      display: none;\n",
              "      fill: #1967D2;\n",
              "      height: 32px;\n",
              "      padding: 0 0 0 0;\n",
              "      width: 32px;\n",
              "    }\n",
              "\n",
              "    .colab-df-convert:hover {\n",
              "      background-color: #E2EBFA;\n",
              "      box-shadow: 0px 1px 2px rgba(60, 64, 67, 0.3), 0px 1px 3px 1px rgba(60, 64, 67, 0.15);\n",
              "      fill: #174EA6;\n",
              "    }\n",
              "\n",
              "    [theme=dark] .colab-df-convert {\n",
              "      background-color: #3B4455;\n",
              "      fill: #D2E3FC;\n",
              "    }\n",
              "\n",
              "    [theme=dark] .colab-df-convert:hover {\n",
              "      background-color: #434B5C;\n",
              "      box-shadow: 0px 1px 3px 1px rgba(0, 0, 0, 0.15);\n",
              "      filter: drop-shadow(0px 1px 2px rgba(0, 0, 0, 0.3));\n",
              "      fill: #FFFFFF;\n",
              "    }\n",
              "  </style>\n",
              "\n",
              "      <script>\n",
              "        const buttonEl =\n",
              "          document.querySelector('#df-0f27ebfd-9072-42e0-b2db-921ad09fb7b3 button.colab-df-convert');\n",
              "        buttonEl.style.display =\n",
              "          google.colab.kernel.accessAllowed ? 'block' : 'none';\n",
              "\n",
              "        async function convertToInteractive(key) {\n",
              "          const element = document.querySelector('#df-0f27ebfd-9072-42e0-b2db-921ad09fb7b3');\n",
              "          const dataTable =\n",
              "            await google.colab.kernel.invokeFunction('convertToInteractive',\n",
              "                                                     [key], {});\n",
              "          if (!dataTable) return;\n",
              "\n",
              "          const docLinkHtml = 'Like what you see? Visit the ' +\n",
              "            '<a target=\"_blank\" href=https://colab.research.google.com/notebooks/data_table.ipynb>data table notebook</a>'\n",
              "            + ' to learn more about interactive tables.';\n",
              "          element.innerHTML = '';\n",
              "          dataTable['output_type'] = 'display_data';\n",
              "          await google.colab.output.renderOutput(dataTable, element);\n",
              "          const docLink = document.createElement('div');\n",
              "          docLink.innerHTML = docLinkHtml;\n",
              "          element.appendChild(docLink);\n",
              "        }\n",
              "      </script>\n",
              "    </div>\n",
              "  </div>\n",
              "  "
            ],
            "text/plain": [
              "         15000001  2019-11-18\n",
              "0        15000002  2019-12-01\n",
              "1        15000003  2019-12-06\n",
              "2        15000004  2019-12-17\n",
              "3        15000005  2019-12-22\n",
              "4        15000006  2019-12-02\n",
              "...           ...         ...\n",
              "2499994  17499996  2019-12-23\n",
              "2499995  17499997  2019-12-09\n",
              "2499996  17499998  2019-12-08\n",
              "2499997  17499999  2019-12-13\n",
              "2499998  17500000  2019-12-20\n",
              "\n",
              "[2499999 rows x 2 columns]"
            ]
          },
          "metadata": {},
          "execution_count": 51
        }
      ]
    },
    {
      "cell_type": "markdown",
      "source": [
        "### Export to tsv.gz format"
      ],
      "metadata": {
        "id": "fpSNg5_ckoCZ"
      }
    },
    {
      "cell_type": "code",
      "source": [
        "import gzip\n",
        "import shutil\n",
        "with open('/content/drive/Shareddrives/eBay/result_0102.tsv', 'rb') as f_in:\n",
        "    with gzip.open('/content/drive/Shareddrives/eBay/result_0102.tsv.gz', 'wb') as f_out:\n",
        "        shutil.copyfileobj(f_in, f_out)"
      ],
      "metadata": {
        "id": "98WM8zw00y1y"
      },
      "execution_count": null,
      "outputs": []
    }
  ]
}